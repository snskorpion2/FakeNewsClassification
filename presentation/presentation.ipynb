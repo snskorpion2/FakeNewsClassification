{
 "cells": [
  {
   "cell_type": "markdown",
   "id": "599a7263-4fd1-4cce-b0a9-6373a88a7171",
   "metadata": {},
   "source": [
    "---\n",
    "---\n",
    "---\n",
    "# **Fake News Classification**\n",
    "## Max Mager, Teo Förste, Vladislav Antonov | Prof. Dr. Grüttmüller | Mustererkennung SS25\n",
    "---\n",
    "---\n",
    "---\n"
   ]
  },
  {
   "cell_type": "markdown",
   "id": "a71e03fc-c530-43d7-9abb-e5aca4774ff7",
   "metadata": {},
   "source": [
    "## **Motivation**\n",
    "---\n",
    "---\n",
    "---"
   ]
  },
  {
   "cell_type": "markdown",
   "id": "0a559c0e-f19e-4a8e-bf78-3c469065e487",
   "metadata": {},
   "source": [
    "# Trump says to stop visa abuses that undermine U.S. workers,\"BATON ROUGE, La - U.S. President-elect Donald Trump on Friday pledged to stop companies from abusing the visa process for foreign workers in a way that undermines the labor market for Americans. Speaking at a rally in Baton Rouge, Louisiana, Trump said he had spent time during the presidential campaign with workers who were laid off but forced to train foreign hires brought in to replace them. “That’s actually demeaning,” Trump said. “We’re not going to let that happen any more.” Without naming companies, he said firms would withhold severance pay from the workers unless they trained their foreign replacements.     “One of my first executive orders will be to ask the Department of Labor to investigate all visa abuses that undermine jobs and wages to the American worker,” he said.\n"
   ]
  },
  {
   "cell_type": "markdown",
   "id": "96284f31-7452-4af8-a8ce-9b3044224a9d",
   "metadata": {},
   "source": [
    "# Fake? Real? Unsicher?"
   ]
  },
  {
   "cell_type": "markdown",
   "id": "7ca2cf15-e874-4404-a88c-b05a8824acfc",
   "metadata": {},
   "source": [
    "---\n",
    "---\n",
    "---\n",
    "## **Datasets von *Huggingface* und *Kaggle***\n",
    "---\n",
    "---\n",
    "---"
   ]
  },
  {
   "cell_type": "code",
   "execution_count": 9,
   "id": "b1583343-7f76-4655-b7b6-59250b9ac519",
   "metadata": {},
   "outputs": [
    {
     "data": {
      "text/html": [
       "<style type=\"text/css\">\n",
       "#T_c0ddc th {\n",
       "  font-size: 14pt;\n",
       "  text-align: center;\n",
       "}\n",
       "#T_c0ddc td {\n",
       "  font-size: 12pt;\n",
       "  padding: 10px;\n",
       "}\n",
       "#T_c0ddc_row0_col0, #T_c0ddc_row0_col1, #T_c0ddc_row0_col2, #T_c0ddc_row0_col3, #T_c0ddc_row0_col4, #T_c0ddc_row1_col0, #T_c0ddc_row1_col1, #T_c0ddc_row1_col2, #T_c0ddc_row1_col3, #T_c0ddc_row1_col4, #T_c0ddc_row2_col0, #T_c0ddc_row2_col1, #T_c0ddc_row2_col2, #T_c0ddc_row2_col3, #T_c0ddc_row2_col4, #T_c0ddc_row3_col0, #T_c0ddc_row3_col1, #T_c0ddc_row3_col2, #T_c0ddc_row3_col3, #T_c0ddc_row3_col4, #T_c0ddc_row4_col0, #T_c0ddc_row4_col1, #T_c0ddc_row4_col2, #T_c0ddc_row4_col3, #T_c0ddc_row4_col4 {\n",
       "  text-align: center;\n",
       "}\n",
       "</style>\n",
       "<table id=\"T_c0ddc\">\n",
       "  <thead>\n",
       "    <tr>\n",
       "      <th class=\"blank level0\" >&nbsp;</th>\n",
       "      <th id=\"T_c0ddc_level0_col0\" class=\"col_heading level0 col0\" >Eigenschaften\\Dataset</th>\n",
       "      <th id=\"T_c0ddc_level0_col1\" class=\"col_heading level0 col1\" >Fake News Classification</th>\n",
       "      <th id=\"T_c0ddc_level0_col2\" class=\"col_heading level0 col2\" >fake_news</th>\n",
       "      <th id=\"T_c0ddc_level0_col3\" class=\"col_heading level0 col3\" >fake-news-detection-dataset-English</th>\n",
       "      <th id=\"T_c0ddc_level0_col4\" class=\"col_heading level0 col4\" >Fake News Detection</th>\n",
       "    </tr>\n",
       "  </thead>\n",
       "  <tbody>\n",
       "    <tr>\n",
       "      <th id=\"T_c0ddc_level0_row0\" class=\"row_heading level0 row0\" >0</th>\n",
       "      <td id=\"T_c0ddc_row0_col0\" class=\"data row0 col0\" >Ersteller*in</td>\n",
       "      <td id=\"T_c0ddc_row0_col1\" class=\"data row0 col1\" >Saurabh Shahane</td>\n",
       "      <td id=\"T_c0ddc_row0_col2\" class=\"data row0 col2\" >Gonzalo Álvarez</td>\n",
       "      <td id=\"T_c0ddc_row0_col3\" class=\"data row0 col3\" >Erfan Moosavi Monazzah</td>\n",
       "      <td id=\"T_c0ddc_row0_col4\" class=\"data row0 col4\" >Bhavik Jikadara</td>\n",
       "    </tr>\n",
       "    <tr>\n",
       "      <th id=\"T_c0ddc_level0_row1\" class=\"row_heading level0 row1\" >1</th>\n",
       "      <td id=\"T_c0ddc_row1_col0\" class=\"data row1 col0\" >Veröffentlicht</td>\n",
       "      <td id=\"T_c0ddc_row1_col1\" class=\"data row1 col1\" >2021</td>\n",
       "      <td id=\"T_c0ddc_row1_col2\" class=\"data row1 col2\" >2021</td>\n",
       "      <td id=\"T_c0ddc_row1_col3\" class=\"data row1 col3\" >2023</td>\n",
       "      <td id=\"T_c0ddc_row1_col4\" class=\"data row1 col4\" >2024</td>\n",
       "    </tr>\n",
       "    <tr>\n",
       "      <th id=\"T_c0ddc_level0_row2\" class=\"row_heading level0 row2\" >2</th>\n",
       "      <td id=\"T_c0ddc_row2_col0\" class=\"data row2 col0\" >Einträge gerundet ~</td>\n",
       "      <td id=\"T_c0ddc_row2_col1\" class=\"data row2 col1\" >72000</td>\n",
       "      <td id=\"T_c0ddc_row2_col2\" class=\"data row2 col2\" >41000</td>\n",
       "      <td id=\"T_c0ddc_row2_col3\" class=\"data row2 col3\" >44000</td>\n",
       "      <td id=\"T_c0ddc_row2_col4\" class=\"data row2 col4\" >45000</td>\n",
       "    </tr>\n",
       "    <tr>\n",
       "      <th id=\"T_c0ddc_level0_row3\" class=\"row_heading level0 row3\" >3</th>\n",
       "      <td id=\"T_c0ddc_row3_col0\" class=\"data row3 col0\" >Zusammenstellung</td>\n",
       "      <td id=\"T_c0ddc_row3_col1\" class=\"data row3 col1\" >Reuters, Kaggle, McIntire, Buzzfeed</td>\n",
       "      <td id=\"T_c0ddc_row3_col2\" class=\"data row3 col2\" >Kaggle, Reuters</td>\n",
       "      <td id=\"T_c0ddc_row3_col3\" class=\"data row3 col3\" >Kaggle</td>\n",
       "      <td id=\"T_c0ddc_row3_col4\" class=\"data row3 col4\" >Unbekannt</td>\n",
       "    </tr>\n",
       "    <tr>\n",
       "      <th id=\"T_c0ddc_level0_row4\" class=\"row_heading level0 row4\" >4</th>\n",
       "      <td id=\"T_c0ddc_row4_col0\" class=\"data row4 col0\" >Quelle</td>\n",
       "      <td id=\"T_c0ddc_row4_col1\" class=\"data row4 col1\" >[1]</td>\n",
       "      <td id=\"T_c0ddc_row4_col2\" class=\"data row4 col2\" >[2]</td>\n",
       "      <td id=\"T_c0ddc_row4_col3\" class=\"data row4 col3\" >[3]</td>\n",
       "      <td id=\"T_c0ddc_row4_col4\" class=\"data row4 col4\" >[4]</td>\n",
       "    </tr>\n",
       "  </tbody>\n",
       "</table>\n"
      ],
      "text/plain": [
       "<pandas.io.formats.style.Styler at 0x251a5ada9c0>"
      ]
     },
     "execution_count": 9,
     "metadata": {},
     "output_type": "execute_result"
    }
   ],
   "source": [
    "import pandas as pd\n",
    "\n",
    "# Deine Tabelle als DataFrame\n",
    "data = {\n",
    "    \"Eigenschaften\\\\Dataset\": [\"Ersteller*in\", \"Veröffentlicht\", \"Einträge gerundet ~\", \"Zusammenstellung\", \"Quelle\"],\n",
    "    \"Fake News Classification\": [\"Saurabh Shahane\", \"2021\", \"72000\", \"Reuters, Kaggle, McIntire, Buzzfeed\", \"[1]\"],\n",
    "    \"fake_news\": [\"Gonzalo Álvarez\", \"2021\", \"41000\", \"Kaggle, Reuters\", \"[2]\"],\n",
    "    \"fake-news-detection-dataset-English\": [\"Erfan Moosavi Monazzah\", \"2023\", \"44000\", \"Kaggle\", \"[3]\"],\n",
    "    \"Fake News Detection\": [\"Bhavik Jikadara\", \"2024\", \"45000\", \"Unbekannt\", \"[4]\"]\n",
    "}\n",
    "\n",
    "df = pd.DataFrame(data)\n",
    "\n",
    "# Tabelle mit größerer Schrift anzeigen\n",
    "def style_table(df):\n",
    "    return df.style.set_table_styles(\n",
    "        [{\n",
    "            'selector': 'th',\n",
    "            'props': [('font-size', '14pt'), ('text-align', 'center')]\n",
    "        }, {\n",
    "            'selector': 'td',\n",
    "            'props': [('font-size', '12pt'), ('padding', '10px')]\n",
    "        }]\n",
    "    ).set_properties(**{'text-align': 'center'})\n",
    "\n",
    "style_table(df)\n"
   ]
  },
  {
   "cell_type": "markdown",
   "id": "aa6baef7-bd2e-4835-afd6-bb4df25c42c4",
   "metadata": {},
   "source": [
    "<small>\n",
    "- [1] Fake news classification (2023): Kaggle, [online] https://www.kaggle.com/datasets/saurabhshahane/fake-news-classification [abgerufen am 06.06.2025]\n",
    "- [2] GonzaloA/fake_news · Datasets at Hugging Face (2024): [online] https://huggingface.co/datasets/GonzaloA/fake_news [abgerufen am 06.06.2025]\n",
    "- [3] ErfanMoosaviMonazzah/fake-news-detection-dataset-English · Datasets at Hugging Face (2024): [online] https://huggingface.co/datasets/ErfanMoosaviMonazzah/fake-news-detection-dataset-English [abgerufen am 06.06.2025]\n",
    "- [4] Fake news detection (2023): Kaggle, [online] https://www.kaggle.com/datasets/bhavikjikadara/fake-news-detection [abgerufen am 08.06.2025]\n",
    "</small>"
   ]
  },
  {
   "cell_type": "code",
   "execution_count": null,
   "id": "cbd6aee8-63d7-41a1-a780-256626e56d76",
   "metadata": {},
   "outputs": [],
   "source": [
    "#pip install \"numpy<2.0\" #uncomment on incompatiblity problems with numpy version"
   ]
  },
  {
   "cell_type": "code",
   "execution_count": 1,
   "id": "07d8bf2e-6742-46ce-ada4-43917bc31b0d",
   "metadata": {},
   "outputs": [],
   "source": [
    "import os\n",
    "import glob\n",
    "import pandas as pd\n",
    "import seaborn as sns\n",
    "import matplotlib.pyplot as plt\n",
    "import numpy as np\n",
    "\n",
    "base_path = '../src/data'\n",
    "datasets = {}\n",
    "\n",
    "def read_titles(filepath, dataset_name):\n",
    "    # Sonderbehandlung für den Datensatz \"Saurabh Shahane - Fake_News_Classification\"\n",
    "    if dataset_name.lower() == 'saurabh shahane':\n",
    "        try:\n",
    "            df = pd.read_csv(filepath, sep=',', usecols=['title'], dtype=str)\n",
    "            return df['title'].dropna().astype(str).str.strip().str.lower().tolist()\n",
    "        except Exception:\n",
    "            return []\n",
    "\n",
    "    # Standardverarbeitung\n",
    "    for sep in [',', ';', '\\t']:\n",
    "        try:\n",
    "            df = pd.read_csv(filepath, sep=sep, engine='python', usecols=['title'], dtype=str)\n",
    "            return df['title'].dropna().astype(str).str.strip().str.lower().tolist()\n",
    "        except Exception:\n",
    "            continue\n",
    "    return []\n",
    "\n",
    "# Lade alle Datasets ein\n",
    "folders = [f for f in os.listdir(base_path) if os.path.isdir(os.path.join(base_path, f))]\n",
    "\n",
    "for folder in folders:\n",
    "    folder_path = os.path.join(base_path, folder)\n",
    "    all_titles = []\n",
    "    files = glob.glob(os.path.join(folder_path, '*'))\n",
    "\n",
    "    for filepath in files:\n",
    "        titles = read_titles(filepath, folder)\n",
    "        all_titles.extend(titles)\n",
    "\n",
    "    unique_titles = set(all_titles)\n",
    "    datasets[folder] = unique_titles\n",
    "\n",
    "# Berechne Übereinstimmungsmatrix\n",
    "result = pd.DataFrame(index=datasets.keys(), columns=datasets.keys(), dtype=float)\n",
    "dataset_names = list(datasets.keys())\n",
    "\n",
    "for i, a in enumerate(dataset_names):\n",
    "    for b in dataset_names[i+1:]:\n",
    "        titles_a = datasets[a]\n",
    "        titles_b = datasets[b]\n",
    "\n",
    "        if len(titles_a) == 0:\n",
    "            score_ab = 0.0\n",
    "        else:\n",
    "            inter_ab = len(titles_a.intersection(titles_b))\n",
    "            score_ab = (inter_ab / len(titles_a)) * 100\n",
    "\n",
    "        if len(titles_b) == 0:\n",
    "            score_ba = 0.0\n",
    "        else:\n",
    "            inter_ba = len(titles_b.intersection(titles_a))\n",
    "            score_ba = (inter_ba / len(titles_b)) * 100\n",
    "\n",
    "        result.loc[a, b] = score_ab\n",
    "        result.loc[b, a] = score_ba\n",
    "\n",
    "for name in dataset_names:\n",
    "    result.loc[name, name] = 100.0\n",
    "\n",
    "result = result.round(2)\n"
   ]
  },
  {
   "cell_type": "code",
   "execution_count": 6,
   "id": "67b96aed-9c1c-455f-af0e-f47313c34099",
   "metadata": {},
   "outputs": [
    {
     "data": {
      "image/png": "[encoded data removed]",
      "text/plain": [
       "<Figure size 1200x800 with 2 Axes>"
      ]
     },
     "metadata": {},
     "output_type": "display_data"
    }
   ],
   "source": [
    "import textwrap\n",
    "\n",
    "max_label_length = max(len(name) for name in dataset_names)\n",
    "wrap_width = 15 if max_label_length > 15 else max_label_length\n",
    "\n",
    "annot = result.copy().astype(str)\n",
    "for i, a in enumerate(dataset_names):\n",
    "    for j, b in enumerate(dataset_names):\n",
    "        if a == b:\n",
    "            annot.loc[a, b] = \"100%\\n0\"\n",
    "        else:\n",
    "            titles_a = datasets[a]\n",
    "            titles_b = datasets[b]\n",
    "            unmatched_count = len(titles_a - titles_b)\n",
    "            percent = result.loc[a, b]\n",
    "            annot.loc[a, b] = f\"{percent:.2f}%\\n{unmatched_count}\"\n",
    "\n",
    "plt.figure(figsize=(12, 8))\n",
    "ax = sns.heatmap(\n",
    "    result,\n",
    "    annot=annot.values,\n",
    "    fmt=\"\",\n",
    "    cmap='Blues',\n",
    "    cbar_kws={'label': 'Übereinstimmung in %'},\n",
    "    annot_kws={\"fontsize\": 12}\n",
    ")\n",
    "\n",
    "# Colorbar-Schriftgröße anpassen\n",
    "cbar = ax.collections[0].colorbar\n",
    "cbar.ax.yaxis.label.set_size(16)   # Größe für Label an der Colorbar (Übereinstimmung in %)\n",
    "cbar.ax.tick_params(labelsize=14)  # Größe für die Zahlen an der Colorbar\n",
    "\n",
    "wrapped_xticklabels = [textwrap.fill(name, width=wrap_width) for name in dataset_names]\n",
    "wrapped_yticklabels = [textwrap.fill(name, width=wrap_width) for name in dataset_names]\n",
    "\n",
    "ax.set_xticklabels(wrapped_xticklabels, fontsize=12, rotation=0, ha='center')\n",
    "ax.set_yticklabels(wrapped_yticklabels, fontsize=12, va='center')\n",
    "\n",
    "plt.title('Vergleich der Titel-Übereinstimmung zwischen Datasets\\n(Zahl unter Prozent: Anzahl nicht-übereinstimmender Titel)', fontsize=16)\n",
    "plt.xlabel('Dataset', fontsize=14)\n",
    "plt.ylabel('Dataset', fontsize=14)\n",
    "\n",
    "plt.tight_layout()\n",
    "plt.show()\n"
   ]
  },
  {
   "cell_type": "markdown",
   "id": "bb413cf3-2ffc-4102-97e8-2aab89792315",
   "metadata": {},
   "source": [
    "\n",
    "---\n",
    "---\n",
    "---\n",
    "## **Max:\n",
    "Varianten von one-class vergleichen\n",
    "local outlier factor gewinnt kurz erklären \n",
    "hyperparameter Tuning (erklären und kurz zeigen)\n",
    "Auswertung mit verschiedenen Datensätzen\n",
    "Vergleich durch benutzung von allen Kombinationen von Datensätzen\n",
    "auf Modell mit besten Trainingsdaten**\n",
    "---\n",
    "---\n",
    "---"
   ]
  },
  {
   "cell_type": "markdown",
   "id": "be3b8e57-a702-41ae-a4ce-bbcd77b5b079",
   "metadata": {},
   "source": [
    "\n",
    "---\n",
    "---\n",
    "---\n",
    "## **Teo**\n",
    "Ansatz: NLP mit SpaCy, Training mit BERT (DistilBert)  \n",
    "Genauigkeit (F1):\n",
    "- Gonzalo nach 1 Epoche: 98,46 %\n",
    "- Saurabh nach 2 Epochen: 98,87 %  \n",
    "\n",
    "TODO:\n",
    "- restliche Datensätze trainieren\n",
    "- Hyperparameteranpassung\n",
    "- testen gegen unbekannte Daten\n",
    "---"
   ]
  },
  {
   "cell_type": "markdown",
   "id": "889412fc",
   "metadata": {},
   "source": [
    "# Natural Language Processing angewandt auf Saurabh Shahane\n",
    "___"
   ]
  },
  {
   "cell_type": "code",
   "execution_count": null,
   "id": "f54371f5-fe46-4f6e-854f-d38d022be377",
   "metadata": {},
   "outputs": [],
   "source": [
    "pip install torch"
   ]
  },
  {
   "cell_type": "code",
   "execution_count": null,
   "id": "ceb8fd16-fdc5-4d19-93d8-5a7b40919ca2",
   "metadata": {},
   "outputs": [],
   "source": [
    "pip install transformers"
   ]
  },
  {
   "cell_type": "code",
   "execution_count": null,
   "id": "f7a8619a",
   "metadata": {},
   "outputs": [],
   "source": [
    "# Imports\n",
    "import pandas as pd\n",
    "import spacy\n",
    "import torch\n",
    "import transformers\n",
    "from transformers import DistilBertTokenizerFast, DistilBertForSequenceClassification\n",
    "from transformers import TrainingArguments, Trainer\n",
    "from sklearn.metrics import classification_report\n",
    "from sklearn.model_selection import train_test_split\n",
    "from datasets import Dataset\n",
    "from pandarallel import pandarallel"
   ]
  },
  {
   "cell_type": "code",
   "execution_count": null,
   "id": "bfa420b1",
   "metadata": {},
   "outputs": [],
   "source": [
    "# Version Checks\n",
    "print(\"Pandas version:\", pd.__version__)\n",
    "print(\"SpaCy version:\", spacy.__version__)\n",
    "print(\"Transformers version:\", transformers.__version__)\n",
    "print(\"Torch version:\", torch.__version__)\n",
    "print(\"Cuda version:\", torch.version.cuda)\n",
    "\n",
    "if torch.cuda.is_available():\n",
    "    print(\"GPU:\", torch.cuda.get_device_name(0))\n",
    "\n",
    "# Initialize Parallelization\n",
    "pandarallel.initialize(progress_bar=True)"
   ]
  },
  {
   "cell_type": "code",
   "execution_count": null,
   "id": "86b3abe0",
   "metadata": {},
   "outputs": [],
   "source": [
    "# Data Path\n",
    "csv_path = \"../src/data/Saurabh Shahane - Fake_News_Classification/WELFake_Dataset.csv\"\n",
    "\n",
    "# Read with semicolon separator\n",
    "df = pd.read_csv(csv_path, sep=',')\n",
    "\n",
    "# Split Data\n",
    "df_train, df_temp = train_test_split(df, test_size=0.3, random_state=42, stratify=df['label'])\n",
    "df_val, df_test = train_test_split(df_temp, test_size=0.5, random_state=42, stratify=df_temp['label'])\n",
    "\n",
    "# Quick sanity check\n",
    "print(\"Train:\", df_train.shape)\n",
    "print(\"Eval: \", df_val.shape)\n",
    "print(\"Test: \", df_test.shape)\n",
    "\n",
    "# first 5 rows of dataset\n",
    "print(df_train.head(5))"
   ]
  },
  {
   "cell_type": "code",
   "execution_count": null,
   "id": "8679b3c8",
   "metadata": {},
   "outputs": [],
   "source": [
    "# Define Preprocessing\n",
    "def preprocess_text(text):\n",
    "    import spacy\n",
    "    nlp = spacy.load(\"en_core_web_sm\")\n",
    "    doc = nlp(text)\n",
    "    tokens = [token.lemma_.lower() for token in doc if not token.is_stop and not token.is_punct]\n",
    "    return \" \".join(tokens)"
   ]
  },
  {
   "cell_type": "code",
   "execution_count": null,
   "id": "d94f60d9",
   "metadata": {},
   "outputs": [],
   "source": [
    "# Test Preprocessing (can be skipped)\n",
    "df_train_sample = df_train[:5]['text'].astype(str).apply(preprocess_text)\n",
    "\n",
    "with pd.option_context('display.max_colwidth', None):\n",
    "    print(df_train_sample)"
   ]
  },
  {
   "cell_type": "code",
   "execution_count": null,
   "id": "67a9dda3",
   "metadata": {},
   "outputs": [],
   "source": [
    "# Apply Preprocessing\n",
    "df_train['text'] = df_train['text'].astype(str).parallel_apply(preprocess_text)\n",
    "df_test['text'] = df_test['text'].astype(str).parallel_apply(preprocess_text)\n",
    "\n",
    "print(df_train['text'].head(5))"
   ]
  },
  {
   "cell_type": "code",
   "execution_count": null,
   "id": "d2854e6b",
   "metadata": {},
   "outputs": [],
   "source": [
    "# Load Tokenizer\n",
    "tokenizer = DistilBertTokenizerFast.from_pretrained('distilbert-base-uncased')\n",
    "\n",
    "# Tokenizing\n",
    "train_encodings = tokenizer(list(df_train['text']), truncation=True, padding=True)\n",
    "test_encodings = tokenizer(list(df_test['text']), truncation=True, padding=True)"
   ]
  },
  {
   "cell_type": "code",
   "execution_count": null,
   "id": "b783daf4",
   "metadata": {},
   "outputs": [],
   "source": [
    "# Translate to Huggingface Dataset Format\n",
    "train_dataset = Dataset.from_dict({\n",
    "    'input_ids': train_encodings['input_ids'],\n",
    "    'attention_mask': train_encodings['attention_mask'],\n",
    "    'label': list(df_train['label'])\n",
    "})\n",
    "\n",
    "test_dataset = Dataset.from_dict({\n",
    "    'input_ids': test_encodings['input_ids'],\n",
    "    'attention_mask': test_encodings['attention_mask'],\n",
    "    'label': list(df_test['label'])\n",
    "})\n",
    "\n",
    "# Load Model\n",
    "model = DistilBertForSequenceClassification.from_pretrained('distilbert-base-uncased', num_labels=2)\n",
    "\n",
    "# Training Parameters\n",
    "training_args = TrainingArguments(\n",
    "    output_dir='./results',\n",
    "    eval_strategy=\"epoch\",\n",
    "    save_strategy=\"epoch\",\n",
    "    fp16=True,\n",
    "    per_device_train_batch_size=32,\n",
    "    per_device_eval_batch_size=16,\n",
    "    num_train_epochs=2,\n",
    "    weight_decay=0.01,\n",
    "    logging_dir='./logs',\n",
    "    logging_steps=50,\n",
    "    load_best_model_at_end=True,\n",
    "    metric_for_best_model=\"accuracy\"\n",
    ")\n",
    "\n",
    "# Define Metrics\n",
    "def compute_metrics(eval_pred):\n",
    "    logits, labels = eval_pred\n",
    "    preds = torch.argmax(torch.tensor(logits), dim=1)\n",
    "    report = classification_report(labels, preds, output_dict=True)\n",
    "    return {\n",
    "        \"accuracy\": report[\"accuracy\"],\n",
    "        \"f1\": report[\"weighted avg\"][\"f1-score\"]\n",
    "    }\n",
    "\n",
    "# Define Trainer\n",
    "trainer = Trainer(\n",
    "    model=model,\n",
    "    args=training_args,\n",
    "    train_dataset=train_dataset,\n",
    "    eval_dataset=test_dataset,\n",
    "    compute_metrics=compute_metrics\n",
    ")\n",
    "\n",
    "# Start Training\n",
    "trainer.train()\n",
    "\n",
    "# Evaluation\n",
    "predictions = trainer.predict(test_dataset)\n",
    "pred_labels = torch.argmax(torch.tensor(predictions.predictions), dim=1)\n",
    "print(classification_report(df_test['label'], pred_labels))"
   ]
  },
  {
   "cell_type": "markdown",
   "id": "31d87c87-11d5-444b-8885-9e91c58c718d",
   "metadata": {},
   "source": [
    "---\n",
    "---\n",
    "---"
   ]
  },
  {
   "cell_type": "markdown",
   "id": "74abb3c6-a6b3-451e-8b1d-48f9df5b8da5",
   "metadata": {},
   "source": [
    "# Multiple Logistische Regression\n",
    "___"
   ]
  },
  {
   "cell_type": "markdown",
   "id": "034e7214-2af2-42c0-a322-fd47ac53f5f5",
   "metadata": {},
   "source": [
    "- Anwendung auf nominalskalierte Kriterien\n",
    "  - in unserem Fall binär logistisch --> Real = 0 oder Fake = 1 (oder andersherum)\n",
    "- mehrere Prädiktoren bestehend aus Verknüpfung von Titel + Text\n",
    "- sagt aus wie wahrscheinlich Real oder Fake\n",
    "- Feature-Dimension wird durch TfidfVectorizer erstellt"
   ]
  },
  {
   "cell_type": "markdown",
   "id": "b6a55abf-3697-491a-94ed-cc86d678860d",
   "metadata": {},
   "source": [
    "Die allgemeine Formel der multiplen logistischen Regression lautet:\n",
    "\n",
    "$$\n",
    "P(Y = 1 \\mid \\mathbf{x}) = \\frac{1}{1 + e^{-\\mathbf{x}^\\top \\boldsymbol{\\beta}}}\n",
    "$$\n",
    "\n",
    "- **$\\mathbf{x} = (x_1, x_2, \\dots, x_n)$**  \n",
    "  Merkmalsvektor eines Artikels, erstellt mit `TfidfVectorizer`.  \n",
    "  Jeder Eintrag $x_i$ ist der TF-IDF-Wert eines bestimmten Wortes aus Titel und Text.\n",
    "\n",
    "- **$\\boldsymbol{\\beta} = (\\beta_0, \\beta_1, \\dots, \\beta_n)$**  \n",
    "  Regressionskoeffizienten des Modells.  \n",
    "  $\\beta_i$ gibt an, wie stark das Merkmal $x_i$ (ein Wort) zur Vorhersage \"Fake News\" beiträgt.\n",
    "\n",
    "- **$\\beta_0$**  \n",
    "  Bias-Term (Grundwahrscheinlichkeit ohne Einfluss der Merkmale).\n",
    "\n",
    "> **Beispiel:**  \n",
    "> Wenn \"clickbait\" im Artikel nicht vorkommt ($x_1 = 0$) und \"vaccine\" häufig ($x_2 = 0{,}15$), dann fließen diese Werte gewichtet durch $\\beta_1$, $\\beta_2$ in die Entscheidung ein.\n",
    "\n",
    "**Ziel:**  \n",
    "Schätzung der Wahrscheinlichkeit, dass ein Artikel Fake News ist:\n",
    "\n",
    "\n",
    "\n"
   ]
  },
  {
   "cell_type": "markdown",
   "id": "0bfdc8c4-1014-4b63-bf81-767883c754e6",
   "metadata": {},
   "source": [
    "<small>Multiple regression (o. D.): [Studyflix] https://studyflix.de/statistik/multiple-regression-2149 [abgerufen am 09.06.2025].</small>"
   ]
  },
  {
   "cell_type": "markdown",
   "id": "637e7342-27af-46ac-b120-39ee5f099398",
   "metadata": {},
   "source": [
    "___\n",
    "## Term Frequency-Inverse Document Frequency (TF-IDF) Vektorisierer\n",
    "___"
   ]
  },
  {
   "cell_type": "markdown",
   "id": "3efd7095-c8d9-4041-897e-2e86aaf3759f",
   "metadata": {},
   "source": [
    "- Verfahren zur Gewichtung von Wörtern in Texten\n",
    "- Textklassifikation, Information Retrieval, Themenmodellierung\n",
    "\n",
    "### TF\n",
    "- TF(t, d) = (Anzahl von t in d) / (Gesamtanzahl Wörter in d)\n",
    "  - t: Term/Wort\n",
    "  - d: Dokument \n",
    "- Ziel: Häufige Begriffe im Dokument hervorheben.\n",
    "\n",
    "### IDF\n",
    "- IDF(t) = log((N + 1) / (df(t) + 1)) + 1\n",
    "    - N:     Gesamtanzahl Dokumente\n",
    "    - df(t): Anzahl Dokumente, die den Begriff t enthalten\n",
    "-Ziel: Häufige Begriffe im Korpus abwerten (z. B. „the“, „and“).\n",
    "\n",
    "### Tensorflow\n",
    "- Tensorflow hat dafür öffentliche Bibliothek bereitgestellt\n",
    "- verschiedene Parameter wie Featuregröße, Normalsierungen, Sprache.."
   ]
  },
  {
   "cell_type": "markdown",
   "id": "69849bcb-a25d-444b-a070-b13473e2ef11",
   "metadata": {},
   "source": [
    "<small>Anurag (2024): TF-IDF Vectorizer explained - Anurag - medium, in: Medium, 27.11.2024, [online] https://medium.com/@gusainanurag58/tf-idf-vectorizer-explained-373b3f07d23b.</small>"
   ]
  },
  {
   "cell_type": "markdown",
   "id": "b047a30b-260b-4d5a-b795-f167899a54b4",
   "metadata": {},
   "source": [
    "___\n",
    "# Multiple Logistische Regression angewandt auf GonzaloA\n",
    "___"
   ]
  },
  {
   "cell_type": "code",
   "execution_count": null,
   "id": "95cb9306-5708-4677-bc74-bfdac3c3ad86",
   "metadata": {},
   "outputs": [],
   "source": [
    "import pandas as pd\n",
    "import numpy as np\n",
    "\n",
    "# Train/validation split\n",
    "from sklearn.model_selection import train_test_split\n",
    "\n",
    "# Text feature extraction\n",
    "from sklearn.feature_extraction.text import TfidfVectorizer\n",
    "\n",
    "# Classifier and evaluation metrics\n",
    "from sklearn.linear_model import LogisticRegression\n",
    "from sklearn.metrics import accuracy_score, classification_report, confusion_matrix\n",
    "\n",
    "# Pipeline utilities\n",
    "from sklearn.pipeline import Pipeline"
   ]
  },
  {
   "cell_type": "code",
   "execution_count": null,
   "id": "356d2ac2-8d13-4d03-b6c0-59ef0f46a5a8",
   "metadata": {},
   "outputs": [],
   "source": [
    "# Load each split from local CSVs\n",
    "# Adjust the paths if needed\n",
    "train_path = \"../src/data/GonzaloA - fake_news/train.csv\"\n",
    "val_path   = \"../src/data/GonzaloA - fake_news/evaluation.csv\"\n",
    "test_path  = \"../src/data/GonzaloA - fake_news/test.csv\"\n",
    "\n",
    "df_train = pd.read_csv(train_path, sep=';')\n",
    "df_val   = pd.read_csv(val_path,   sep=';')\n",
    "df_test  = pd.read_csv(test_path,  sep=';')"
   ]
  },
  {
   "cell_type": "code",
   "execution_count": null,
   "id": "253b4ad8-fdbb-4c91-85bf-d6d03506fb2e",
   "metadata": {},
   "outputs": [],
   "source": [
    "# Merge text fields\n",
    "def merge_text(row):\n",
    "    return f\"{row['title']} \\n{row['text']}\"\n",
    "\n",
    "for df in [df_train, df_val, df_test]:\n",
    "    df['input_text'] = df.apply(merge_text, axis=1)\n",
    "\n",
    "# Define X and y\n",
    "X_train, y_train = df_train['input_text'], df_train['label']\n",
    "X_val,   y_val   = df_val['input_text'],   df_val['label']\n",
    "X_test,  y_test  = df_test['input_text'],  df_test['label']  # y_test only for evaluation"
   ]
  },
  {
   "cell_type": "code",
   "execution_count": null,
   "id": "2ac51352-2a1f-4c7f-884d-4f9697fc85bd",
   "metadata": {},
   "outputs": [],
   "source": [
    "# Initialize the TF-IDF vectorizer\n",
    "vectorizer = TfidfVectorizer(\n",
    "    max_features=40_000,    # Keep only the top 40,000 most frequent terms to limit dimensionality\n",
    "    ngram_range=(1,2),      # Include both unigrams (single words) and bigrams (pairs of words)\n",
    "    stop_words='english',   # Remove common English stop words (e.g., 'the', 'and')\n",
    "    lowercase=False\n",
    ")\n",
    "\n",
    "# Fit the vectorizer on the training data and transform texts to sparse matrices\n",
    "# fit_transform learns the vocabulary from X_train and then transforms X_train\n",
    "X_train_tfidf = vectorizer.fit_transform(X_train)\n",
    "\n",
    "# Use the already-fit vectorizer to transform validation and test sets\n",
    "# transform uses the learned vocabulary to convert new texts into vectors\n",
    "X_val_tfidf   = vectorizer.transform(X_val)\n",
    "X_test_tfidf  = vectorizer.transform(X_test)"
   ]
  },
  {
   "cell_type": "code",
   "execution_count": null,
   "id": "6650d470-65b4-4d6c-9a62-db81f2335460",
   "metadata": {},
   "outputs": [],
   "source": [
    "pipeline = Pipeline([\n",
    "    ('tfidf', vectorizer),\n",
    "    ('clf', LogisticRegression(max_iter=1000))\n",
    "])\n",
    "\n",
    "# Train\n",
    "pipeline.fit(X_train, y_train)"
   ]
  },
  {
   "cell_type": "code",
   "execution_count": null,
   "id": "83e732c0-92b1-494d-bff0-1524517b7297",
   "metadata": {},
   "outputs": [],
   "source": [
    "# Generate predictions on the test set using our trained pipeline\n",
    "# `test_preds` will be an array of predicted labels: 0 = real, 1 = fake\n",
    "test_preds = pipeline.predict(X_test)\n",
    "\n",
    "# If the true labels for the test split (`y_test`) are available, evaluate performance:\n",
    "# Print overall accuracy to see the fraction of correct predictions\n",
    "print(\"Test Accuracy:\", accuracy_score(y_test, test_preds))\n",
    "\n",
    "# Print a detailed classification report (precision, recall, F1-score) for each class\n",
    "print(classification_report(\n",
    "    y_test,             # True labels\n",
    "    test_preds,         # Predicted labels\n",
    "    target_names=['Real','Fake']\n",
    "))"
   ]
  },
  {
   "cell_type": "code",
   "execution_count": null,
   "id": "5e900790-e7d8-49b3-9437-12a6e88321a4",
   "metadata": {},
   "outputs": [],
   "source": [
    "# Create a DataFrame pairing each test article with its predicted label\n",
    "submission = pd.DataFrame({\n",
    "    'text': df_test['text'],            # Raw text from the test set\n",
    "    'predicted_label': test_preds       # Model output: 0 = real, 1 = fake\n",
    "})\n",
    "# Export the predictions to CSV for review or submission (no index column)\n",
    "submission.to_csv('fake_news_predictions.csv', index=False)"
   ]
  },
  {
   "cell_type": "code",
   "execution_count": null,
   "id": "fee666d9-c79c-4657-9149-58d1100cc80a",
   "metadata": {},
   "outputs": [],
   "source": [
    "import numpy as np\n",
    "import matplotlib.pyplot as plt\n",
    "\n",
    "# Entscheidungsscores und Vorhersagen für die Validierungsdaten\n",
    "dec_scores  = pipeline.decision_function(X_val)   # Roh-Score (logits)\n",
    "pred_labels = pipeline.predict(X_val)             # Labels: 0 oder 1\n",
    "\n",
    "plt.figure(figsize=(8, 6))\n",
    "\n",
    "# Punkte: Score vs. Label\n",
    "plt.scatter(dec_scores, pred_labels, alpha=0.4, label='Predicted Label (0 oder 1)')\n",
    "\n",
    "# Ideale Sigmoid-Kurve (zur Orientierung leicht angesenkt)\n",
    "x = np.linspace(dec_scores.min(), dec_scores.max(), 300)\n",
    "sigmoid = 1 / (1 + np.exp(-x))\n",
    "# Wir verschieben die Kurve um –0.02, damit sie nicht genau auf den Punkten liegt\n",
    "plt.plot(x, sigmoid - 0.02, linestyle='--', linewidth=2, label='Sigmoid-Funktion')\n",
    "\n",
    "# Threshold-Linie bei Score = 0 (entspricht P=0.5)\n",
    "plt.axvline(0, color='gray', linestyle=':', label='Threshold Score=0 (P=0.5)')\n",
    "\n",
    "plt.yticks([0, 1])\n",
    "plt.ylim(-0.1, 1.1)\n",
    "plt.xlabel('Entscheidungs funktion (Score)')\n",
    "plt.ylabel('Vorhersage (Label)')\n",
    "plt.title('Logistische Regression: Scores und Labels')\n",
    "plt.legend(loc='upper left')\n",
    "plt.grid(True)\n",
    "plt.show()\n"
   ]
  },
  {
   "cell_type": "markdown",
   "id": "4cc3fcdf-f881-499d-a6af-23e09a1dfe47",
   "metadata": {},
   "source": [
    "# Random Forest"
   ]
  },
  {
   "cell_type": "markdown",
   "id": "575930bd-e984-4599-b819-fd2c65a7f097",
   "metadata": {},
   "source": [
    "- **Anwendung auf nominalskalierte Kriterien, Mehrere Prädiktoren und Angabe einer Wahrscheinlichkeit wie bei Logistic Regression**\n",
    "\n",
    "- **Ensemble aus vielen Entscheidungsbäumen**  \n",
    "  - Jeder Baum $h_t$ trifft eine Ja/Nein-Entscheidung („Real“ vs. „Fake“) basierend auf Schwellwerten der TF-IDF-Merkmale  \n",
    "  - Die Bäume werden auf zufälligen Teilmengen von Daten und Features trainiert („Bootstrap“ + „Feature-Bagging“)\n"
   ]
  },
  {
   "cell_type": "markdown",
   "id": "1edecf3b-ba20-42f1-81f4-2967bd707089",
   "metadata": {},
   "source": [
    "#### Formel: Vorhersagewahrscheinlichkeit im Random Forest\n",
    "\n",
    "$$\n",
    "P(Y = 1 \\mid \\mathbf{x})\n",
    "= \\frac{1}{T} \\sum_{t=1}^{T} h_t(\\mathbf{x})\n",
    "$$\n",
    "\n",
    "- $\\mathbf{x} = (x_1, x_2, \\dots, x_n)$  \n",
    "  Merkmalsvektor eines Artikels, erstellt mit `TfidfVectorizer`.\n",
    "\n",
    "- $T$ = Anzahl der Entscheidungsbäume im Wald  \n",
    "- $h_t(\\mathbf{x}) \\in \\{0,1\\}$ = Vorhersage des $t$-ten Baums (0 = Real, 1 = Fake)\n"
   ]
  },
  {
   "cell_type": "markdown",
   "id": "d6e95bc3-2115-4434-be69-fedd4adfe1e3",
   "metadata": {},
   "source": [
    "> **Beispiel:**  \n",
    "> Angenommen, von $T = 100$ Bäumen geben 70 die Vorhersage „Fake“ zurück:  \n",
    "> \n",
    "> $$\n",
    "> P(Y = 1 \\mid \\mathbf{x}) = \\frac{70}{100} = 0{,}7\n",
    "> $$  \n",
    "> \n",
    "> → Die Modellvorhersage ist: **70 % Wahrscheinlichkeit**, dass der Artikel Fake News ist.\n"
   ]
  },
  {
   "cell_type": "markdown",
   "id": "4e2bf4e6-3808-4d8a-98da-3f03c6be3c15",
   "metadata": {},
   "source": [
    "#### Ziel:\n",
    "Schätzung der Wahrscheinlichkeit, dass ein Artikel Fake News ist – basierend auf dem Votum vieler Entscheidungsbäume.\n"
   ]
  },
  {
   "cell_type": "markdown",
   "id": "de11d488-70d6-44a6-99e2-b249db5c33dc",
   "metadata": {},
   "source": [
    "![Alt-Text](./Bilder/random-forest.jpg)"
   ]
  },
  {
   "cell_type": "markdown",
   "id": "fa53cffc-5f57-4778-a1d8-e13704b0d72a",
   "metadata": {},
   "source": [
    "<small> Anas Brital | Random Forest algorithm explained . (o. D.): [online] https://anasbrital98.github.io/blog/2021/Random-Forest/ [abgerufen am 09.06.2025]. </small>"
   ]
  },
  {
   "cell_type": "markdown",
   "id": "7dcc901f-ccc3-479f-8c62-22a97f9dc9f0",
   "metadata": {},
   "source": [
    "___\n",
    "# Random Forest Regression angewandt auf GonzaloA\n",
    "___"
   ]
  },
  {
   "cell_type": "code",
   "execution_count": null,
   "id": "4329dabf-09bb-41e5-aeba-00cba098054c",
   "metadata": {},
   "outputs": [],
   "source": [
    "import pandas as pd\n",
    "import numpy as np\n",
    "\n",
    "# Train/validation split\n",
    "from sklearn.model_selection import train_test_split\n",
    "\n",
    "# Text feature extraction\n",
    "from sklearn.feature_extraction.text import TfidfVectorizer\n",
    "\n",
    "# Classifier and evaluation metrics\n",
    "from sklearn.ensemble import RandomForestClassifier\n",
    "from sklearn.metrics import accuracy_score, classification_report, confusion_matrix\n",
    "\n",
    "# Pipeline utilities (optional)\n",
    "from sklearn.pipeline import Pipeline"
   ]
  },
  {
   "cell_type": "code",
   "execution_count": null,
   "id": "863e86b3-1d5a-45a1-bea9-4562b02200ee",
   "metadata": {},
   "outputs": [],
   "source": [
    "# Load each split from local CSVs\n",
    "# Adjust the paths if needed\n",
    "train_path = \"../src/data/GonzaloA - fake_news/train.csv\"\n",
    "val_path   = \"../src/data/GonzaloA - fake_news/evaluation.csv\"\n",
    "test_path  = \"../src/data/GonzaloA - fake_news/test.csv\"\n",
    "\n",
    "# Read with semicolon separator\n",
    "df_train = pd.read_csv(train_path, sep=';')\n",
    "df_val   = pd.read_csv(val_path,   sep=';')\n",
    "df_test  = pd.read_csv(test_path,  sep=';')"
   ]
  },
  {
   "cell_type": "code",
   "execution_count": null,
   "id": "670e7e9e-820e-4402-8692-9971171e2df1",
   "metadata": {},
   "outputs": [],
   "source": [
    "# Merge text fields\n",
    "def merge_text(row):\n",
    "    return f\"{row['title']} \\n{row['text']}\"\n",
    "\n",
    "for df in [df_train, df_val, df_test]:\n",
    "    df['input_text'] = df.apply(merge_text, axis=1)\n",
    "\n",
    "# Define X and y\n",
    "X_train, y_train = df_train['input_text'], df_train['label']\n",
    "X_val,   y_val   = df_val['input_text'],   df_val['label']\n",
    "X_test,  y_test  = df_test['input_text'],  df_test['label']  # y_test only for evaluation"
   ]
  },
  {
   "cell_type": "code",
   "execution_count": null,
   "id": "bf3da88a-e105-4cf5-b4e0-75e3bd9c6f63",
   "metadata": {},
   "outputs": [],
   "source": [
    "# Initialize the TF-IDF vectorizer\n",
    "vectorizer = TfidfVectorizer(\n",
    "    max_features=40_000,    # Keep only the top 20,000 most frequent terms to limit dimensionality\n",
    "    ngram_range=(1,2),      # Include both unigrams (single words) and bigrams (pairs of words)\n",
    "    stop_words='english',    # Remove common English stop words (e.g., 'the', 'and')\n",
    "    lowercase=False\n",
    ")\n",
    "\n",
    "# Fit the vectorizer on the training data and transform texts to sparse matrices\n",
    "# fit_transform learns the vocabulary from X_train and then transforms X_train\n",
    "X_train_tfidf = vectorizer.fit_transform(X_train)\n",
    "\n",
    "# Use the already-fit vectorizer to transform validation and test sets\n",
    "# transform uses the learned vocabulary to convert new texts into vectors\n",
    "X_val_tfidf   = vectorizer.transform(X_val)\n",
    "X_test_tfidf  = vectorizer.transform(X_test)"
   ]
  },
  {
   "cell_type": "code",
   "execution_count": null,
   "id": "0687c10b-c5da-4de6-9212-bb69b04c1b8a",
   "metadata": {},
   "outputs": [],
   "source": [
    "pipeline = Pipeline([\n",
    "    ('tfidf', vectorizer),                  # transform raw text to TF-IDF features\n",
    "    ('clf', RandomForestClassifier(\n",
    "        n_estimators=100,                   # number of trees in the forest\n",
    "        max_depth=None,                      # allow trees to grow until all leaves are pure\n",
    "        random_state=42                      # ensure reproducibility\n",
    "    ))\n",
    "])\n",
    "\n",
    "# Train the Random Forest pipeline on the training set\n",
    "pipeline.fit(X_train, y_train)"
   ]
  },
  {
   "cell_type": "code",
   "execution_count": null,
   "id": "de7c1217-25bd-48cd-a026-02efddbcf76f",
   "metadata": {},
   "outputs": [],
   "source": [
    "# Generate predictions on the test set using our trained pipeline\n",
    "# `test_preds` will be an array of predicted labels: 0 = real, 1 = fake\n",
    "test_preds = pipeline.predict(X_test)\n",
    "\n",
    "# If the true labels for the test split (`y_test`) are available, evaluate performance:\n",
    "# Print overall accuracy to see the fraction of correct predictions\n",
    "print(\"Test Accuracy:\", accuracy_score(y_test, test_preds))\n",
    "\n",
    "# Print a detailed classification report (precision, recall, F1-score) for each class\n",
    "print(classification_report(\n",
    "    y_test,             # True labels\n",
    "    test_preds,         # Predicted labels\n",
    "    target_names=['Real','Fake']\n",
    "))"
   ]
  },
  {
   "cell_type": "code",
   "execution_count": null,
   "id": "532840c7-6449-40d2-8668-20f410ea48cc",
   "metadata": {},
   "outputs": [],
   "source": []
  },
  {
   "cell_type": "markdown",
   "id": "ceee6e0e-dacb-4892-a40a-033788c9af09",
   "metadata": {},
   "source": [
    "---\n",
    "---\n",
    "---\n",
    "## **Max:\n",
    "Auswertung mit verschiedenen Datensätzen\n",
    "Vergleich durch benutzung von allen Kombinationen von Datensätzen\n",
    "auf Modell mit besten Trainingsdaten**\n",
    "\n",
    "---\n",
    "---\n",
    "---"
   ]
  },
  {
   "cell_type": "code",
   "execution_count": null,
   "id": "d72456df-ead6-4446-ac98-a7e5bf2912fa",
   "metadata": {},
   "outputs": [],
   "source": []
  }
 ],
 "metadata": {
  "kernelspec": {
   "display_name": "Python [conda env:base] *",
   "language": "python",
   "name": "conda-base-py"
  },
  "language_info": {
   "codemirror_mode": {
    "name": "ipython",
    "version": 3
   },
   "file_extension": ".py",
   "mimetype": "text/x-python",
   "name": "python",
   "nbconvert_exporter": "python",
   "pygments_lexer": "ipython3",
   "version": "3.12.7"
  }
 },
 "nbformat": 4,
 "nbformat_minor": 5
}
