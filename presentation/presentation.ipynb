{
 "cells": [
  {
   "cell_type": "markdown",
   "id": "be3b8e57-a702-41ae-a4ce-bbcd77b5b079",
   "metadata": {},
   "source": [
    "\n",
    "---\n",
    "---\n",
    "---\n",
    "## **Teo**\n",
    "Ansatz: NLP mit SpaCy, Training mit BERT (DistilBert)  \n",
    "Genauigkeit (F1):\n",
    "- Gonzalo nach 1 Epoche: 98,46 %\n",
    "- Saurabh nach 2 Epochen: 98,87 %  \n",
    "\n",
    "TODO:\n",
    "- restliche Datensätze trainieren\n",
    "- Hyperparameteranpassung\n",
    "- testen gegen unbekannte Daten\n",
    "---"
   ]
  },
  {
   "cell_type": "markdown",
   "id": "889412fc",
   "metadata": {},
   "source": [
    "# Natural Language Processing angewandt auf Saurabh Shahane\n",
    "___"
   ]
  },
  {
   "cell_type": "code",
   "execution_count": null,
   "id": "f54371f5-fe46-4f6e-854f-d38d022be377",
   "metadata": {},
   "outputs": [],
   "source": [
    "pip install torch"
   ]
  },
  {
   "cell_type": "code",
   "execution_count": null,
   "id": "ceb8fd16-fdc5-4d19-93d8-5a7b40919ca2",
   "metadata": {},
   "outputs": [],
   "source": [
    "pip install transformers"
   ]
  },
  {
   "cell_type": "code",
   "execution_count": null,
   "id": "f7a8619a",
   "metadata": {},
   "outputs": [],
   "source": [
    "# Imports\n",
    "import pandas as pd\n",
    "import spacy\n",
    "import torch\n",
    "import transformers\n",
    "from transformers import DistilBertTokenizerFast, DistilBertForSequenceClassification\n",
    "from transformers import TrainingArguments, Trainer\n",
    "from sklearn.metrics import classification_report\n",
    "from sklearn.model_selection import train_test_split\n",
    "from datasets import Dataset\n",
    "from pandarallel import pandarallel"
   ]
  },
  {
   "cell_type": "code",
   "execution_count": null,
   "id": "bfa420b1",
   "metadata": {},
   "outputs": [],
   "source": [
    "# Version Checks\n",
    "print(\"Pandas version:\", pd.__version__)\n",
    "print(\"SpaCy version:\", spacy.__version__)\n",
    "print(\"Transformers version:\", transformers.__version__)\n",
    "print(\"Torch version:\", torch.__version__)\n",
    "print(\"Cuda version:\", torch.version.cuda)\n",
    "\n",
    "if torch.cuda.is_available():\n",
    "    print(\"GPU:\", torch.cuda.get_device_name(0))\n",
    "\n",
    "# Initialize Parallelization\n",
    "pandarallel.initialize(progress_bar=True)"
   ]
  },
  {
   "cell_type": "code",
   "execution_count": null,
   "id": "86b3abe0",
   "metadata": {},
   "outputs": [],
   "source": [
    "# Data Path\n",
    "csv_path = \"../src/data/Saurabh Shahane - Fake_News_Classification/WELFake_Dataset.csv\"\n",
    "\n",
    "# Read with semicolon separator\n",
    "df = pd.read_csv(csv_path, sep=',')\n",
    "\n",
    "# Split Data\n",
    "df_train, df_temp = train_test_split(df, test_size=0.3, random_state=42, stratify=df['label'])\n",
    "df_val, df_test = train_test_split(df_temp, test_size=0.5, random_state=42, stratify=df_temp['label'])\n",
    "\n",
    "# Quick sanity check\n",
    "print(\"Train:\", df_train.shape)\n",
    "print(\"Eval: \", df_val.shape)\n",
    "print(\"Test: \", df_test.shape)\n",
    "\n",
    "# first 5 rows of dataset\n",
    "print(df_train.head(5))"
   ]
  },
  {
   "cell_type": "code",
   "execution_count": null,
   "id": "8679b3c8",
   "metadata": {},
   "outputs": [],
   "source": [
    "# Define Preprocessing\n",
    "def preprocess_text(text):\n",
    "    import spacy\n",
    "    nlp = spacy.load(\"en_core_web_sm\")\n",
    "    doc = nlp(text)\n",
    "    tokens = [token.lemma_.lower() for token in doc if not token.is_stop and not token.is_punct]\n",
    "    return \" \".join(tokens)"
   ]
  },
  {
   "cell_type": "code",
   "execution_count": null,
   "id": "d94f60d9",
   "metadata": {},
   "outputs": [],
   "source": [
    "# Test Preprocessing (can be skipped)\n",
    "df_train_sample = df_train[:5]['text'].astype(str).apply(preprocess_text)\n",
    "\n",
    "with pd.option_context('display.max_colwidth', None):\n",
    "    print(df_train_sample)"
   ]
  },
  {
   "cell_type": "code",
   "execution_count": null,
   "id": "67a9dda3",
   "metadata": {},
   "outputs": [],
   "source": [
    "# Apply Preprocessing\n",
    "df_train['text'] = df_train['text'].astype(str).parallel_apply(preprocess_text)\n",
    "df_test['text'] = df_test['text'].astype(str).parallel_apply(preprocess_text)\n",
    "\n",
    "print(df_train['text'].head(5))"
   ]
  },
  {
   "cell_type": "code",
   "execution_count": null,
   "id": "d2854e6b",
   "metadata": {},
   "outputs": [],
   "source": [
    "# Load Tokenizer\n",
    "tokenizer = DistilBertTokenizerFast.from_pretrained('distilbert-base-uncased')\n",
    "\n",
    "# Tokenizing\n",
    "train_encodings = tokenizer(list(df_train['text']), truncation=True, padding=True)\n",
    "test_encodings = tokenizer(list(df_test['text']), truncation=True, padding=True)"
   ]
  },
  {
   "cell_type": "code",
   "execution_count": null,
   "id": "b783daf4",
   "metadata": {},
   "outputs": [],
   "source": [
    "# Translate to Huggingface Dataset Format\n",
    "train_dataset = Dataset.from_dict({\n",
    "    'input_ids': train_encodings['input_ids'],\n",
    "    'attention_mask': train_encodings['attention_mask'],\n",
    "    'label': list(df_train['label'])\n",
    "})\n",
    "\n",
    "test_dataset = Dataset.from_dict({\n",
    "    'input_ids': test_encodings['input_ids'],\n",
    "    'attention_mask': test_encodings['attention_mask'],\n",
    "    'label': list(df_test['label'])\n",
    "})\n",
    "\n",
    "# Load Model\n",
    "model = DistilBertForSequenceClassification.from_pretrained('distilbert-base-uncased', num_labels=2)\n",
    "\n",
    "# Training Parameters\n",
    "training_args = TrainingArguments(\n",
    "    output_dir='./results',\n",
    "    eval_strategy=\"epoch\",\n",
    "    save_strategy=\"epoch\",\n",
    "    fp16=True,\n",
    "    per_device_train_batch_size=32,\n",
    "    per_device_eval_batch_size=16,\n",
    "    num_train_epochs=2,\n",
    "    weight_decay=0.01,\n",
    "    logging_dir='./logs',\n",
    "    logging_steps=50,\n",
    "    load_best_model_at_end=True,\n",
    "    metric_for_best_model=\"accuracy\"\n",
    ")\n",
    "\n",
    "# Define Metrics\n",
    "def compute_metrics(eval_pred):\n",
    "    logits, labels = eval_pred\n",
    "    preds = torch.argmax(torch.tensor(logits), dim=1)\n",
    "    report = classification_report(labels, preds, output_dict=True)\n",
    "    return {\n",
    "        \"accuracy\": report[\"accuracy\"],\n",
    "        \"f1\": report[\"weighted avg\"][\"f1-score\"]\n",
    "    }\n",
    "\n",
    "# Define Trainer\n",
    "trainer = Trainer(\n",
    "    model=model,\n",
    "    args=training_args,\n",
    "    train_dataset=train_dataset,\n",
    "    eval_dataset=test_dataset,\n",
    "    compute_metrics=compute_metrics\n",
    ")\n",
    "\n",
    "# Start Training\n",
    "trainer.train()\n",
    "\n",
    "# Evaluation\n",
    "predictions = trainer.predict(test_dataset)\n",
    "pred_labels = torch.argmax(torch.tensor(predictions.predictions), dim=1)\n",
    "print(classification_report(df_test['label'], pred_labels))"
   ]
  },
  {
   "cell_type": "markdown",
   "id": "31d87c87-11d5-444b-8885-9e91c58c718d",
   "metadata": {},
   "source": [
    "---\n",
    "---\n",
    "---"
   ]
  }
 ],
 "metadata": {
  "kernelspec": {
   "display_name": "Python [conda env:base] *",
   "language": "python",
   "name": "conda-base-py"
  },
  "language_info": {
   "codemirror_mode": {
    "name": "ipython",
    "version": 3
   },
   "file_extension": ".py",
   "mimetype": "text/x-python",
   "name": "python",
   "nbconvert_exporter": "python",
   "pygments_lexer": "ipython3",
   "version": "3.12.7"
  }
 },
 "nbformat": 4,
 "nbformat_minor": 5
}
