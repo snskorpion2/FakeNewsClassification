{
 "cells": [
  {
   "cell_type": "markdown",
   "id": "ea4c2146-1a43-41bd-bfda-034d3008bdc7",
   "metadata": {},
   "source": [
    "# Logistische Regression - GonzaloA"
   ]
  },
  {
   "cell_type": "code",
   "execution_count": 2,
   "id": "8963ff5d-58bc-4ccd-88e6-6377ff6a2b12",
   "metadata": {},
   "outputs": [],
   "source": [
    "import pandas as pd\n",
    "from sklearn.pipeline import Pipeline\n",
    "from sklearn.feature_extraction.text import TfidfVectorizer\n",
    "from sklearn.ensemble import RandomForestClassifier\n",
    "from sklearn.experimental import enable_halving_search_cv  # noqa\n",
    "from sklearn.model_selection import HalvingRandomSearchCV, StratifiedKFold\n",
    "from sklearn.metrics import accuracy_score, classification_report, confusion_matrix\n",
    "from scipy.stats import uniform, randint\n",
    "import joblib"
   ]
  },
  {
   "cell_type": "code",
   "execution_count": 3,
   "id": "3ba5be13-10ad-489e-89cb-139dc3abc53f",
   "metadata": {},
   "outputs": [],
   "source": [
    "train_path = \"../../data/ErfanMoosaviMonazzah - fake-news-detection-dataset-English/train.tsv\"\n",
    "val_path   = \"../../data/ErfanMoosaviMonazzah - fake-news-detection-dataset-English/validation.tsv\"\n",
    "test_path  = \"../../data/ErfanMoosaviMonazzah - fake-news-detection-dataset-English/test.tsv\"\n",
    "\n",
    "df_train = pd.read_csv(train_path, sep='\\t', parse_dates=[\"date\"], dayfirst=False)\n",
    "df_val   = pd.read_csv(val_path,   sep='\\t', parse_dates=[\"date\"], dayfirst=False)\n",
    "df_test  = pd.read_csv(test_path,  sep='\\t', parse_dates=[\"date\"], dayfirst=False)\n",
    "\n",
    "def merge_text(row):\n",
    "    return f\"{row['title']} \\n{row['text']}\"\n",
    "\n",
    "for df in (df_train, df_val, df_test):\n",
    "    df['input_text'] = df.apply(merge_text, axis=1)\n",
    "\n",
    "X_train, y_train = df_train['input_text'], df_train['label']\n",
    "X_val, y_val     = df_val['input_text'], df_val['label']\n",
    "X_test, y_test   = df_test['input_text'], df_test['label']"
   ]
  },
  {
   "cell_type": "code",
   "execution_count": 4,
   "id": "c48771be-2c7f-4aed-919d-5bc76dc43bd4",
   "metadata": {},
   "outputs": [],
   "source": [
    "pipeline = Pipeline([\n",
    "    ('tfidf', TfidfVectorizer()),\n",
    "    ('clf', RandomForestClassifier(random_state=42, n_jobs=-1))\n",
    "])\n",
    "\n",
    "param_distributions = {\n",
    "    'tfidf__max_features': randint(5000, 20001),\n",
    "    'tfidf__ngram_range': [(1,1), (1,2)],\n",
    "    'tfidf__min_df': randint(1, 6),\n",
    "    'tfidf__max_df': uniform(0.8, 0.2),\n",
    "    'tfidf__stop_words': [None, 'english'],\n",
    "\n",
    "    'clf__n_estimators': randint(100, 501),\n",
    "    'clf__max_depth': [None] + list(randint(5, 26).rvs(5)),\n",
    "    'clf__min_samples_split': randint(2, 11),\n",
    "    'clf__min_samples_leaf': randint(1, 11),\n",
    "    'clf__max_features': [None, 'sqrt', 'log2']\n",
    "}\n",
    "\n",
    "cv = StratifiedKFold(n_splits=5, shuffle=True, random_state=42)"
   ]
  },
  {
   "cell_type": "code",
   "execution_count": 5,
   "id": "9631ed8a-a8e9-4baa-b6cb-05f4626f6956",
   "metadata": {},
   "outputs": [
    {
     "name": "stdout",
     "output_type": "stream",
     "text": [
      "Initial candidates for RF halving: 270\n"
     ]
    }
   ],
   "source": [
    "n_pilot = 9\n",
    "pilot_frac = 0.3\n",
    "scale = 1/pilot_frac  # ≈3.33\n",
    "n_full = int(100 * n_pilot / scale)\n",
    "print(f\"Initial candidates for RF halving: {n_full}\")\n",
    "\n",
    "halving_search = HalvingRandomSearchCV(\n",
    "    estimator=pipeline,\n",
    "    param_distributions=param_distributions,\n",
    "    n_candidates=n_full,\n",
    "    factor=3,\n",
    "    resource='n_samples',\n",
    "    max_resources=len(X_train),\n",
    "    min_resources=len(X_train)//300,  # ensure 6 iterations\n",
    "    scoring='accuracy',\n",
    "    cv=cv,\n",
    "    verbose=2,\n",
    "    n_jobs=-1,\n",
    "    random_state=42,\n",
    "    return_train_score=True,\n",
    "    error_score='raise'\n",
    ")\n"
   ]
  },
  {
   "cell_type": "code",
   "execution_count": 6,
   "id": "a4a71a88-ffc5-4247-b99d-1a57076283cd",
   "metadata": {},
   "outputs": [
    {
     "name": "stdout",
     "output_type": "stream",
     "text": [
      "n_iterations: 6\n",
      "n_required_iterations: 6\n",
      "n_possible_iterations: 6\n",
      "min_resources_: 100\n",
      "max_resources_: 30000\n",
      "aggressive_elimination: False\n",
      "factor: 3\n",
      "----------\n",
      "iter: 0\n",
      "n_candidates: 270\n",
      "n_resources: 100\n",
      "Fitting 5 folds for each of 270 candidates, totalling 1350 fits\n",
      "----------\n",
      "iter: 1\n",
      "n_candidates: 90\n",
      "n_resources: 300\n",
      "Fitting 5 folds for each of 90 candidates, totalling 450 fits\n",
      "----------\n",
      "iter: 2\n",
      "n_candidates: 30\n",
      "n_resources: 900\n",
      "Fitting 5 folds for each of 30 candidates, totalling 150 fits\n",
      "----------\n",
      "iter: 3\n",
      "n_candidates: 10\n",
      "n_resources: 2700\n",
      "Fitting 5 folds for each of 10 candidates, totalling 50 fits\n",
      "----------\n",
      "iter: 4\n",
      "n_candidates: 4\n",
      "n_resources: 8100\n",
      "Fitting 5 folds for each of 4 candidates, totalling 20 fits\n",
      "----------\n",
      "iter: 5\n",
      "n_candidates: 2\n",
      "n_resources: 24300\n",
      "Fitting 5 folds for each of 2 candidates, totalling 10 fits\n",
      "Best RF params: {'clf__max_depth': 22, 'clf__max_features': 'sqrt', 'clf__min_samples_leaf': 2, 'clf__min_samples_split': 4, 'clf__n_estimators': 419, 'tfidf__max_df': 0.9736245626981063, 'tfidf__max_features': 5791, 'tfidf__min_df': 4, 'tfidf__ngram_range': (1, 2), 'tfidf__stop_words': None}\n",
      "Best RF CV accuracy: 0.9824\n"
     ]
    }
   ],
   "source": [
    "halving_search.fit(X_train, y_train)\n",
    "print(\"Best RF params:\", halving_search.best_params_)\n",
    "print(f\"Best RF CV accuracy: {halving_search.best_score_:.4f}\")"
   ]
  },
  {
   "cell_type": "code",
   "execution_count": 7,
   "id": "0bbdbf38-7177-4420-941f-101e01659dd1",
   "metadata": {},
   "outputs": [
    {
     "name": "stdout",
     "output_type": "stream",
     "text": [
      "Val Accuracy: 0.9858333333333333\n",
      "              precision    recall  f1-score   support\n",
      "\n",
      "        Real       0.99      0.98      0.99      3089\n",
      "        Fake       0.98      0.99      0.99      2911\n",
      "\n",
      "    accuracy                           0.99      6000\n",
      "   macro avg       0.99      0.99      0.99      6000\n",
      "weighted avg       0.99      0.99      0.99      6000\n",
      "\n",
      "Confusion Matrix:\n",
      " [[3039   50]\n",
      " [  35 2876]]\n"
     ]
    }
   ],
   "source": [
    "best_rf = halving_search.best_estimator_\n",
    "val_preds = best_rf.predict(X_val)\n",
    "print(\"Val Accuracy:\", accuracy_score(y_val, val_preds))\n",
    "print(classification_report(y_val, val_preds, target_names=['Real','Fake']))\n",
    "print(\"Confusion Matrix:\\n\", confusion_matrix(y_val, val_preds))\n"
   ]
  },
  {
   "cell_type": "code",
   "execution_count": 8,
   "id": "4ef2bc1c-0991-4372-a015-8756139d8cec",
   "metadata": {},
   "outputs": [
    {
     "name": "stdout",
     "output_type": "stream",
     "text": [
      "Test Accuracy: 0.9852425305431233\n",
      "              precision    recall  f1-score   support\n",
      "\n",
      "        Real       0.99      0.98      0.99      4284\n",
      "        Fake       0.98      0.99      0.98      3983\n",
      "\n",
      "    accuracy                           0.99      8267\n",
      "   macro avg       0.99      0.99      0.99      8267\n",
      "weighted avg       0.99      0.99      0.99      8267\n",
      "\n",
      "Confusion Matrix:\n",
      " [[4210   74]\n",
      " [  48 3935]]\n"
     ]
    }
   ],
   "source": [
    "test_preds = best_rf.predict(X_test)\n",
    "print(\"Test Accuracy:\", accuracy_score(y_test, test_preds))\n",
    "print(classification_report(y_test, test_preds, target_names=['Real','Fake']))\n",
    "print(\"Confusion Matrix:\\n\", confusion_matrix(y_test, test_preds))"
   ]
  },
  {
   "cell_type": "code",
   "execution_count": 9,
   "id": "da0e433b-a8ad-44ef-bbb7-adbd2c8e3f84",
   "metadata": {},
   "outputs": [
    {
     "data": {
      "text/plain": [
       "['best_fake_news_rf_halving_random_search.joblib']"
      ]
     },
     "execution_count": 9,
     "metadata": {},
     "output_type": "execute_result"
    }
   ],
   "source": [
    "\n",
    "joblib.dump(best_rf, 'best_fake_news_rf_halving_random_search.joblib')"
   ]
  }
 ],
 "metadata": {
  "kernelspec": {
   "display_name": "Python [conda env:base] *",
   "language": "python",
   "name": "conda-base-py"
  },
  "language_info": {
   "codemirror_mode": {
    "name": "ipython",
    "version": 3
   },
   "file_extension": ".py",
   "mimetype": "text/x-python",
   "name": "python",
   "nbconvert_exporter": "python",
   "pygments_lexer": "ipython3",
   "version": "3.12.7"
  }
 },
 "nbformat": 4,
 "nbformat_minor": 5
}
