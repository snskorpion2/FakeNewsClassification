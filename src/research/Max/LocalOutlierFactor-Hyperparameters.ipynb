{
 "cells": [
  {
   "cell_type": "markdown",
   "id": "0dba5b80",
   "metadata": {},
   "source": [
    "# One-Class Fake News Classification with Hyperparameter Tuning"
   ]
  },
  {
   "cell_type": "code",
   "execution_count": 2,
   "id": "c39f922a",
   "metadata": {
    "vscode": {
     "languageId": "plaintext"
    }
   },
   "outputs": [],
   "source": [
    "# 1. Imports\n",
    "import pandas as pd\n",
    "import numpy as np\n",
    "\n",
    "# Train/validation split\n",
    "from sklearn.model_selection import train_test_split\n",
    "\n",
    "# Text feature extraction\n",
    "from sklearn.feature_extraction.text import TfidfVectorizer\n",
    "\n",
    "# One-class classifier and evaluation metrics\n",
    "from sklearn.ensemble import IsolationForest\n",
    "from sklearn.metrics import accuracy_score, classification_report, confusion_matrix\n",
    "\n",
    "# Pipeline utilities\n",
    "from sklearn.pipeline import Pipeline\n"
   ]
  },
  {
   "cell_type": "code",
   "execution_count": 3,
   "id": "aa5b6155",
   "metadata": {
    "vscode": {
     "languageId": "plaintext"
    }
   },
   "outputs": [],
   "source": [
    "# 2. Paths to dataset splits\n",
    "train_path = \"../../data/ErfanMoosaviMonazzah - fake-news-detection-dataset-English/train.tsv\"\n",
    "val_path   = \"../../data/ErfanMoosaviMonazzah - fake-news-detection-dataset-English/validation.tsv\"\n",
    "test_path  = \"../../data/ErfanMoosaviMonazzah - fake-news-detection-dataset-English/test.tsv\"\n",
    "\n",
    "# Read datasets\n",
    "df_train = pd.read_csv(train_path, sep='\\t', parse_dates=[\"date\"], dayfirst=False)\n",
    "df_val   = pd.read_csv(val_path,   sep='\\t', parse_dates=[\"date\"], dayfirst=False)\n",
    "df_test  = pd.read_csv(test_path,  sep='\\t', parse_dates=[\"date\"], dayfirst=False)\n",
    "\n",
    "# Merge title and text into a single feature\n",
    "def merge_text(row):\n",
    "    return f\"{row['title']} \\n{row['text']}\"\n",
    "\n",
    "for df in [df_train, df_val, df_test]:\n",
    "    df['input_text'] = df.apply(merge_text, axis=1)\n",
    "\n",
    "# Prepare data splits\n",
    "X_train_raw, y_train = df_train['input_text'], df_train['label']\n",
    "X_val_raw,   y_val   = df_val['input_text'],   df_val['label']\n",
    "X_test_raw,  y_test  = df_test['input_text'],  df_test['label']\n",
    "\n",
    "X_train_real_raw = X_train_raw[y_train == 1]"
   ]
  },
  {
   "cell_type": "code",
   "execution_count": 4,
   "id": "cf218ecf",
   "metadata": {
    "vscode": {
     "languageId": "plaintext"
    }
   },
   "outputs": [],
   "source": [
    "from sklearn.feature_extraction.text import TfidfVectorizer\n",
    "from sklearn.neighbors import LocalOutlierFactor\n",
    "from sklearn.metrics import accuracy_score\n",
    "import numpy as np\n",
    "\n",
    "# 3) Define grid\n",
    "param_grid = {\n",
    "    'tfidf__max_features': [5_000, 10_000, 20_000],\n",
    "    'tfidf__ngram_range' : [(1,1), (1,2)],\n",
    "    'lof__n_neighbors'   : [5, 10, 20],\n",
    "    'lof__contamination' : [0.05, 0.3, 0.4, 0.5]\n",
    "}"
   ]
  },
  {
   "cell_type": "code",
   "execution_count": 5,
   "id": "a5206871-ac69-409e-a28e-8abb0c340e3b",
   "metadata": {},
   "outputs": [],
   "source": [
    "\n",
    "def evaluate_lof_params(params):\n",
    "    # build vectorizer + LOF\n",
    "    vec = TfidfVectorizer(\n",
    "        max_features=params['tfidf__max_features'],\n",
    "        ngram_range=params['tfidf__ngram_range'],\n",
    "        stop_words='english'\n",
    "    )\n",
    "    lof = LocalOutlierFactor(\n",
    "        n_neighbors=params['lof__n_neighbors'],\n",
    "        contamination=params['lof__contamination'],\n",
    "        novelty=True\n",
    "    )\n",
    "    # FIT on real-only data\n",
    "    Xtr = vec.fit_transform(X_train_real_raw)\n",
    "    lof.fit(Xtr.toarray())\n",
    "    \n",
    "    # EVAL on mixed val set\n",
    "    Xv = vec.transform(X_val_raw)\n",
    "    raw = lof.predict(Xv.toarray())        # +1=inlier (real), -1=outlier (fake)\n",
    "    y_pred = np.where(raw == 1, 1, 0)\n",
    "    \n",
    "    return accuracy_score(y_val, y_pred)"
   ]
  },
  {
   "cell_type": "code",
   "execution_count": 6,
   "id": "b69fc440",
   "metadata": {
    "vscode": {
     "languageId": "plaintext"
    }
   },
   "outputs": [
    {
     "name": "stdout",
     "output_type": "stream",
     "text": [
      "[1/72] {'tfidf__max_features': 5000, 'tfidf__ngram_range': (1, 1), 'lof__n_neighbors': 5, 'lof__contamination': 0.05} → Val acc: 0.5108\n",
      "[2/72] {'tfidf__max_features': 5000, 'tfidf__ngram_range': (1, 1), 'lof__n_neighbors': 5, 'lof__contamination': 0.3} → Val acc: 0.6337\n",
      "[3/72] {'tfidf__max_features': 5000, 'tfidf__ngram_range': (1, 1), 'lof__n_neighbors': 5, 'lof__contamination': 0.4} → Val acc: 0.6528\n",
      "[4/72] {'tfidf__max_features': 5000, 'tfidf__ngram_range': (1, 1), 'lof__n_neighbors': 5, 'lof__contamination': 0.5} → Val acc: 0.6497\n",
      "[5/72] {'tfidf__max_features': 5000, 'tfidf__ngram_range': (1, 1), 'lof__n_neighbors': 10, 'lof__contamination': 0.05} → Val acc: 0.5030\n",
      "[6/72] {'tfidf__max_features': 5000, 'tfidf__ngram_range': (1, 1), 'lof__n_neighbors': 10, 'lof__contamination': 0.3} → Val acc: 0.6345\n",
      "[7/72] {'tfidf__max_features': 5000, 'tfidf__ngram_range': (1, 1), 'lof__n_neighbors': 10, 'lof__contamination': 0.4} → Val acc: 0.6590\n",
      "[8/72] {'tfidf__max_features': 5000, 'tfidf__ngram_range': (1, 1), 'lof__n_neighbors': 10, 'lof__contamination': 0.5} → Val acc: 0.6543\n",
      "[9/72] {'tfidf__max_features': 5000, 'tfidf__ngram_range': (1, 1), 'lof__n_neighbors': 20, 'lof__contamination': 0.05} → Val acc: 0.4935\n",
      "[10/72] {'tfidf__max_features': 5000, 'tfidf__ngram_range': (1, 1), 'lof__n_neighbors': 20, 'lof__contamination': 0.3} → Val acc: 0.6527\n",
      "[11/72] {'tfidf__max_features': 5000, 'tfidf__ngram_range': (1, 1), 'lof__n_neighbors': 20, 'lof__contamination': 0.4} → Val acc: 0.6723\n",
      "[12/72] {'tfidf__max_features': 5000, 'tfidf__ngram_range': (1, 1), 'lof__n_neighbors': 20, 'lof__contamination': 0.5} → Val acc: 0.6702\n",
      "[13/72] {'tfidf__max_features': 5000, 'tfidf__ngram_range': (1, 2), 'lof__n_neighbors': 5, 'lof__contamination': 0.05} → Val acc: 0.5128\n",
      "[14/72] {'tfidf__max_features': 5000, 'tfidf__ngram_range': (1, 2), 'lof__n_neighbors': 5, 'lof__contamination': 0.3} → Val acc: 0.6332\n",
      "[15/72] {'tfidf__max_features': 5000, 'tfidf__ngram_range': (1, 2), 'lof__n_neighbors': 5, 'lof__contamination': 0.4} → Val acc: 0.6577\n",
      "[16/72] {'tfidf__max_features': 5000, 'tfidf__ngram_range': (1, 2), 'lof__n_neighbors': 5, 'lof__contamination': 0.5} → Val acc: 0.6538\n",
      "[17/72] {'tfidf__max_features': 5000, 'tfidf__ngram_range': (1, 2), 'lof__n_neighbors': 10, 'lof__contamination': 0.05} → Val acc: 0.5028\n",
      "[18/72] {'tfidf__max_features': 5000, 'tfidf__ngram_range': (1, 2), 'lof__n_neighbors': 10, 'lof__contamination': 0.3} → Val acc: 0.6330\n",
      "[19/72] {'tfidf__max_features': 5000, 'tfidf__ngram_range': (1, 2), 'lof__n_neighbors': 10, 'lof__contamination': 0.4} → Val acc: 0.6530\n",
      "[20/72] {'tfidf__max_features': 5000, 'tfidf__ngram_range': (1, 2), 'lof__n_neighbors': 10, 'lof__contamination': 0.5} → Val acc: 0.6567\n",
      "[21/72] {'tfidf__max_features': 5000, 'tfidf__ngram_range': (1, 2), 'lof__n_neighbors': 20, 'lof__contamination': 0.05} → Val acc: 0.4907\n",
      "[22/72] {'tfidf__max_features': 5000, 'tfidf__ngram_range': (1, 2), 'lof__n_neighbors': 20, 'lof__contamination': 0.3} → Val acc: 0.6512\n",
      "[23/72] {'tfidf__max_features': 5000, 'tfidf__ngram_range': (1, 2), 'lof__n_neighbors': 20, 'lof__contamination': 0.4} → Val acc: 0.6657\n",
      "[24/72] {'tfidf__max_features': 5000, 'tfidf__ngram_range': (1, 2), 'lof__n_neighbors': 20, 'lof__contamination': 0.5} → Val acc: 0.6632\n",
      "[25/72] {'tfidf__max_features': 10000, 'tfidf__ngram_range': (1, 1), 'lof__n_neighbors': 5, 'lof__contamination': 0.05} → Val acc: 0.5192\n",
      "[26/72] {'tfidf__max_features': 10000, 'tfidf__ngram_range': (1, 1), 'lof__n_neighbors': 5, 'lof__contamination': 0.3} → Val acc: 0.6523\n",
      "[27/72] {'tfidf__max_features': 10000, 'tfidf__ngram_range': (1, 1), 'lof__n_neighbors': 5, 'lof__contamination': 0.4} → Val acc: 0.6613\n",
      "[28/72] {'tfidf__max_features': 10000, 'tfidf__ngram_range': (1, 1), 'lof__n_neighbors': 5, 'lof__contamination': 0.5} → Val acc: 0.6573\n",
      "[29/72] {'tfidf__max_features': 10000, 'tfidf__ngram_range': (1, 1), 'lof__n_neighbors': 10, 'lof__contamination': 0.05} → Val acc: 0.5062\n",
      "[30/72] {'tfidf__max_features': 10000, 'tfidf__ngram_range': (1, 1), 'lof__n_neighbors': 10, 'lof__contamination': 0.3} → Val acc: 0.6542\n",
      "[31/72] {'tfidf__max_features': 10000, 'tfidf__ngram_range': (1, 1), 'lof__n_neighbors': 10, 'lof__contamination': 0.4} → Val acc: 0.6742\n",
      "[32/72] {'tfidf__max_features': 10000, 'tfidf__ngram_range': (1, 1), 'lof__n_neighbors': 10, 'lof__contamination': 0.5} → Val acc: 0.6652\n",
      "[33/72] {'tfidf__max_features': 10000, 'tfidf__ngram_range': (1, 1), 'lof__n_neighbors': 20, 'lof__contamination': 0.05} → Val acc: 0.4942\n",
      "[34/72] {'tfidf__max_features': 10000, 'tfidf__ngram_range': (1, 1), 'lof__n_neighbors': 20, 'lof__contamination': 0.3} → Val acc: 0.6648\n",
      "[35/72] {'tfidf__max_features': 10000, 'tfidf__ngram_range': (1, 1), 'lof__n_neighbors': 20, 'lof__contamination': 0.4} → Val acc: 0.6813\n",
      "[36/72] {'tfidf__max_features': 10000, 'tfidf__ngram_range': (1, 1), 'lof__n_neighbors': 20, 'lof__contamination': 0.5} → Val acc: 0.6772\n",
      "[37/72] {'tfidf__max_features': 10000, 'tfidf__ngram_range': (1, 2), 'lof__n_neighbors': 5, 'lof__contamination': 0.05} → Val acc: 0.5133\n",
      "[38/72] {'tfidf__max_features': 10000, 'tfidf__ngram_range': (1, 2), 'lof__n_neighbors': 5, 'lof__contamination': 0.3} → Val acc: 0.6413\n",
      "[39/72] {'tfidf__max_features': 10000, 'tfidf__ngram_range': (1, 2), 'lof__n_neighbors': 5, 'lof__contamination': 0.4} → Val acc: 0.6492\n",
      "[40/72] {'tfidf__max_features': 10000, 'tfidf__ngram_range': (1, 2), 'lof__n_neighbors': 5, 'lof__contamination': 0.5} → Val acc: 0.6497\n",
      "[41/72] {'tfidf__max_features': 10000, 'tfidf__ngram_range': (1, 2), 'lof__n_neighbors': 10, 'lof__contamination': 0.05} → Val acc: 0.5007\n",
      "[42/72] {'tfidf__max_features': 10000, 'tfidf__ngram_range': (1, 2), 'lof__n_neighbors': 10, 'lof__contamination': 0.3} → Val acc: 0.6403\n",
      "[43/72] {'tfidf__max_features': 10000, 'tfidf__ngram_range': (1, 2), 'lof__n_neighbors': 10, 'lof__contamination': 0.4} → Val acc: 0.6647\n",
      "[44/72] {'tfidf__max_features': 10000, 'tfidf__ngram_range': (1, 2), 'lof__n_neighbors': 10, 'lof__contamination': 0.5} → Val acc: 0.6583\n",
      "[45/72] {'tfidf__max_features': 10000, 'tfidf__ngram_range': (1, 2), 'lof__n_neighbors': 20, 'lof__contamination': 0.05} → Val acc: 0.4917\n",
      "[46/72] {'tfidf__max_features': 10000, 'tfidf__ngram_range': (1, 2), 'lof__n_neighbors': 20, 'lof__contamination': 0.3} → Val acc: 0.6563\n",
      "[47/72] {'tfidf__max_features': 10000, 'tfidf__ngram_range': (1, 2), 'lof__n_neighbors': 20, 'lof__contamination': 0.4} → Val acc: 0.6753\n",
      "[48/72] {'tfidf__max_features': 10000, 'tfidf__ngram_range': (1, 2), 'lof__n_neighbors': 20, 'lof__contamination': 0.5} → Val acc: 0.6698\n",
      "[49/72] {'tfidf__max_features': 20000, 'tfidf__ngram_range': (1, 1), 'lof__n_neighbors': 5, 'lof__contamination': 0.05} → Val acc: 0.5195\n",
      "[50/72] {'tfidf__max_features': 20000, 'tfidf__ngram_range': (1, 1), 'lof__n_neighbors': 5, 'lof__contamination': 0.3} → Val acc: 0.6595\n",
      "[51/72] {'tfidf__max_features': 20000, 'tfidf__ngram_range': (1, 1), 'lof__n_neighbors': 5, 'lof__contamination': 0.4} → Val acc: 0.6733\n",
      "[52/72] {'tfidf__max_features': 20000, 'tfidf__ngram_range': (1, 1), 'lof__n_neighbors': 5, 'lof__contamination': 0.5} → Val acc: 0.6652\n",
      "[53/72] {'tfidf__max_features': 20000, 'tfidf__ngram_range': (1, 1), 'lof__n_neighbors': 10, 'lof__contamination': 0.05} → Val acc: 0.5018\n",
      "[54/72] {'tfidf__max_features': 20000, 'tfidf__ngram_range': (1, 1), 'lof__n_neighbors': 10, 'lof__contamination': 0.3} → Val acc: 0.6675\n",
      "[55/72] {'tfidf__max_features': 20000, 'tfidf__ngram_range': (1, 1), 'lof__n_neighbors': 10, 'lof__contamination': 0.4} → Val acc: 0.6760\n",
      "[56/72] {'tfidf__max_features': 20000, 'tfidf__ngram_range': (1, 1), 'lof__n_neighbors': 10, 'lof__contamination': 0.5} → Val acc: 0.6692\n",
      "[57/72] {'tfidf__max_features': 20000, 'tfidf__ngram_range': (1, 1), 'lof__n_neighbors': 20, 'lof__contamination': 0.05} → Val acc: 0.4950\n",
      "[58/72] {'tfidf__max_features': 20000, 'tfidf__ngram_range': (1, 1), 'lof__n_neighbors': 20, 'lof__contamination': 0.3} → Val acc: 0.6727\n",
      "[59/72] {'tfidf__max_features': 20000, 'tfidf__ngram_range': (1, 1), 'lof__n_neighbors': 20, 'lof__contamination': 0.4} → Val acc: 0.6823\n",
      "[60/72] {'tfidf__max_features': 20000, 'tfidf__ngram_range': (1, 1), 'lof__n_neighbors': 20, 'lof__contamination': 0.5} → Val acc: 0.6812\n",
      "[61/72] {'tfidf__max_features': 20000, 'tfidf__ngram_range': (1, 2), 'lof__n_neighbors': 5, 'lof__contamination': 0.05} → Val acc: 0.5147\n",
      "[62/72] {'tfidf__max_features': 20000, 'tfidf__ngram_range': (1, 2), 'lof__n_neighbors': 5, 'lof__contamination': 0.3} → Val acc: 0.6372\n",
      "[63/72] {'tfidf__max_features': 20000, 'tfidf__ngram_range': (1, 2), 'lof__n_neighbors': 5, 'lof__contamination': 0.4} → Val acc: 0.6558\n",
      "[64/72] {'tfidf__max_features': 20000, 'tfidf__ngram_range': (1, 2), 'lof__n_neighbors': 5, 'lof__contamination': 0.5} → Val acc: 0.6530\n",
      "[65/72] {'tfidf__max_features': 20000, 'tfidf__ngram_range': (1, 2), 'lof__n_neighbors': 10, 'lof__contamination': 0.05} → Val acc: 0.4998\n",
      "[66/72] {'tfidf__max_features': 20000, 'tfidf__ngram_range': (1, 2), 'lof__n_neighbors': 10, 'lof__contamination': 0.3} → Val acc: 0.6480\n",
      "[67/72] {'tfidf__max_features': 20000, 'tfidf__ngram_range': (1, 2), 'lof__n_neighbors': 10, 'lof__contamination': 0.4} → Val acc: 0.6642\n",
      "[68/72] {'tfidf__max_features': 20000, 'tfidf__ngram_range': (1, 2), 'lof__n_neighbors': 10, 'lof__contamination': 0.5} → Val acc: 0.6570\n",
      "[69/72] {'tfidf__max_features': 20000, 'tfidf__ngram_range': (1, 2), 'lof__n_neighbors': 20, 'lof__contamination': 0.05} → Val acc: 0.4898\n",
      "[70/72] {'tfidf__max_features': 20000, 'tfidf__ngram_range': (1, 2), 'lof__n_neighbors': 20, 'lof__contamination': 0.3} → Val acc: 0.6595\n",
      "[71/72] {'tfidf__max_features': 20000, 'tfidf__ngram_range': (1, 2), 'lof__n_neighbors': 20, 'lof__contamination': 0.4} → Val acc: 0.6715\n",
      "[72/72] {'tfidf__max_features': 20000, 'tfidf__ngram_range': (1, 2), 'lof__n_neighbors': 20, 'lof__contamination': 0.5} → Val acc: 0.6680\n",
      "\n",
      "✅ Best validation accuracy: 0.6823333333333333\n",
      "📋 Best parameters: {'tfidf__max_features': 20000, 'tfidf__ngram_range': (1, 1), 'lof__n_neighbors': 20, 'lof__contamination': 0.4}\n"
     ]
    }
   ],
   "source": [
    "# 5) brute‐force search\n",
    "best_score  = -1\n",
    "best_params = None\n",
    "total = np.prod([len(v) for v in param_grid.values()])\n",
    "i = 0\n",
    "\n",
    "for mf in param_grid['tfidf__max_features']:\n",
    "    for ngr in param_grid['tfidf__ngram_range']:\n",
    "        for nn in param_grid['lof__n_neighbors']:\n",
    "            for cont in param_grid['lof__contamination']:\n",
    "                i += 1\n",
    "                p = {\n",
    "                    'tfidf__max_features': mf,\n",
    "                    'tfidf__ngram_range': ngr,\n",
    "                    'lof__n_neighbors': nn,\n",
    "                    'lof__contamination': cont\n",
    "                }\n",
    "                score = evaluate_lof_params(p)\n",
    "                print(f\"[{i}/{total}] {p} → Val acc: {score:.4f}\")\n",
    "                if score > best_score:\n",
    "                    best_score, best_params = score, p.copy()\n",
    "\n",
    "print(\"\\n✅ Best validation accuracy:\", best_score)\n",
    "print(\"📋 Best parameters:\", best_params)"
   ]
  },
  {
   "cell_type": "code",
   "execution_count": 19,
   "id": "9564591f-1f07-41cc-b53c-5f0419a1ec69",
   "metadata": {},
   "outputs": [],
   "source": [
    "# new round with better parameter\n",
    "param_grid = {\n",
    "    'tfidf__max_features': [15_000, 20_000, 30_0000],\n",
    "    'tfidf__ngram_range' : [(1,1)],\n",
    "    'lof__n_neighbors'   : [20, 30, 40],\n",
    "    'lof__contamination' : [0.35, 0.4, 0.45]\n",
    "}"
   ]
  },
  {
   "cell_type": "code",
   "execution_count": 21,
   "id": "e2bad9e5-47ec-43c8-9c41-db2873bb3a2e",
   "metadata": {},
   "outputs": [
    {
     "name": "stdout",
     "output_type": "stream",
     "text": [
      "[1/27] {'tfidf__max_features': 15000, 'tfidf__ngram_range': (1, 1), 'lof__n_neighbors': 20, 'lof__contamination': 0.35} → Val acc: 0.6777\n",
      "[2/27] {'tfidf__max_features': 15000, 'tfidf__ngram_range': (1, 1), 'lof__n_neighbors': 20, 'lof__contamination': 0.4} → Val acc: 0.6843\n",
      "[3/27] {'tfidf__max_features': 15000, 'tfidf__ngram_range': (1, 1), 'lof__n_neighbors': 20, 'lof__contamination': 0.45} → Val acc: 0.6825\n",
      "[4/27] {'tfidf__max_features': 15000, 'tfidf__ngram_range': (1, 1), 'lof__n_neighbors': 30, 'lof__contamination': 0.35} → Val acc: 0.6905\n",
      "[5/27] {'tfidf__max_features': 15000, 'tfidf__ngram_range': (1, 1), 'lof__n_neighbors': 30, 'lof__contamination': 0.4} → Val acc: 0.6902\n",
      "[6/27] {'tfidf__max_features': 15000, 'tfidf__ngram_range': (1, 1), 'lof__n_neighbors': 30, 'lof__contamination': 0.45} → Val acc: 0.6853\n",
      "[7/27] {'tfidf__max_features': 15000, 'tfidf__ngram_range': (1, 1), 'lof__n_neighbors': 40, 'lof__contamination': 0.35} → Val acc: 0.6948\n",
      "[8/27] {'tfidf__max_features': 15000, 'tfidf__ngram_range': (1, 1), 'lof__n_neighbors': 40, 'lof__contamination': 0.4} → Val acc: 0.6910\n",
      "[9/27] {'tfidf__max_features': 15000, 'tfidf__ngram_range': (1, 1), 'lof__n_neighbors': 40, 'lof__contamination': 0.45} → Val acc: 0.6872\n",
      "[10/27] {'tfidf__max_features': 20000, 'tfidf__ngram_range': (1, 1), 'lof__n_neighbors': 20, 'lof__contamination': 0.35} → Val acc: 0.6832\n",
      "[11/27] {'tfidf__max_features': 20000, 'tfidf__ngram_range': (1, 1), 'lof__n_neighbors': 20, 'lof__contamination': 0.4} → Val acc: 0.6823\n",
      "[12/27] {'tfidf__max_features': 20000, 'tfidf__ngram_range': (1, 1), 'lof__n_neighbors': 20, 'lof__contamination': 0.45} → Val acc: 0.6832\n",
      "[13/27] {'tfidf__max_features': 20000, 'tfidf__ngram_range': (1, 1), 'lof__n_neighbors': 30, 'lof__contamination': 0.35} → Val acc: 0.6912\n",
      "[14/27] {'tfidf__max_features': 20000, 'tfidf__ngram_range': (1, 1), 'lof__n_neighbors': 30, 'lof__contamination': 0.4} → Val acc: 0.6895\n",
      "[15/27] {'tfidf__max_features': 20000, 'tfidf__ngram_range': (1, 1), 'lof__n_neighbors': 30, 'lof__contamination': 0.45} → Val acc: 0.6895\n",
      "[16/27] {'tfidf__max_features': 20000, 'tfidf__ngram_range': (1, 1), 'lof__n_neighbors': 40, 'lof__contamination': 0.35} → Val acc: 0.6942\n",
      "[17/27] {'tfidf__max_features': 20000, 'tfidf__ngram_range': (1, 1), 'lof__n_neighbors': 40, 'lof__contamination': 0.4} → Val acc: 0.6960\n",
      "[18/27] {'tfidf__max_features': 20000, 'tfidf__ngram_range': (1, 1), 'lof__n_neighbors': 40, 'lof__contamination': 0.45} → Val acc: 0.6880\n",
      "[19/27] {'tfidf__max_features': 300000, 'tfidf__ngram_range': (1, 1), 'lof__n_neighbors': 20, 'lof__contamination': 0.35} → Val acc: 0.6853\n",
      "[20/27] {'tfidf__max_features': 300000, 'tfidf__ngram_range': (1, 1), 'lof__n_neighbors': 20, 'lof__contamination': 0.4} → Val acc: 0.6903\n",
      "[21/27] {'tfidf__max_features': 300000, 'tfidf__ngram_range': (1, 1), 'lof__n_neighbors': 20, 'lof__contamination': 0.45} → Val acc: 0.6912\n",
      "[22/27] {'tfidf__max_features': 300000, 'tfidf__ngram_range': (1, 1), 'lof__n_neighbors': 30, 'lof__contamination': 0.35} → Val acc: 0.6980\n",
      "[23/27] {'tfidf__max_features': 300000, 'tfidf__ngram_range': (1, 1), 'lof__n_neighbors': 30, 'lof__contamination': 0.4} → Val acc: 0.6972\n",
      "[24/27] {'tfidf__max_features': 300000, 'tfidf__ngram_range': (1, 1), 'lof__n_neighbors': 30, 'lof__contamination': 0.45} → Val acc: 0.6928\n",
      "[25/27] {'tfidf__max_features': 300000, 'tfidf__ngram_range': (1, 1), 'lof__n_neighbors': 40, 'lof__contamination': 0.35} → Val acc: 0.6997\n",
      "[26/27] {'tfidf__max_features': 300000, 'tfidf__ngram_range': (1, 1), 'lof__n_neighbors': 40, 'lof__contamination': 0.4} → Val acc: 0.7002\n",
      "[27/27] {'tfidf__max_features': 300000, 'tfidf__ngram_range': (1, 1), 'lof__n_neighbors': 40, 'lof__contamination': 0.45} → Val acc: 0.6945\n",
      "\n",
      "✅ Best validation accuracy: 0.7001666666666667\n",
      "📋 Best parameters: {'tfidf__max_features': 300000, 'tfidf__ngram_range': (1, 1), 'lof__n_neighbors': 40, 'lof__contamination': 0.4}\n"
     ]
    }
   ],
   "source": [
    "# 5) brute‐force search\n",
    "best_score  = -1\n",
    "best_params = None\n",
    "total = np.prod([len(v) for v in param_grid.values()])\n",
    "i = 0\n",
    "\n",
    "for mf in param_grid['tfidf__max_features']:\n",
    "    for ngr in param_grid['tfidf__ngram_range']:\n",
    "        for nn in param_grid['lof__n_neighbors']:\n",
    "            for cont in param_grid['lof__contamination']:\n",
    "                i += 1\n",
    "                p = {\n",
    "                    'tfidf__max_features': mf,\n",
    "                    'tfidf__ngram_range': ngr,\n",
    "                    'lof__n_neighbors': nn,\n",
    "                    'lof__contamination': cont\n",
    "                }\n",
    "                score = evaluate_lof_params(p)\n",
    "                print(f\"[{i}/{total}] {p} → Val acc: {score:.4f}\")\n",
    "                if score > best_score:\n",
    "                    best_score, best_params = score, p.copy()\n",
    "\n",
    "print(\"\\n✅ Best validation accuracy:\", best_score)\n",
    "print(\"📋 Best parameters:\", best_params)"
   ]
  },
  {
   "cell_type": "code",
   "execution_count": 23,
   "id": "70fe15d4-59b1-460c-9842-6bf9169b9b41",
   "metadata": {},
   "outputs": [],
   "source": [
    "# new round with better parameter\n",
    "param_grid = {\n",
    "    'tfidf__max_features': [30_0000, 40_000],\n",
    "    'tfidf__ngram_range' : [(1,1)],\n",
    "    'lof__n_neighbors'   : [40, 50],\n",
    "    'lof__contamination' : [0.35, 0.4, 0.45]\n",
    "}"
   ]
  },
  {
   "cell_type": "code",
   "execution_count": 25,
   "id": "4f5e585e-0c3e-4fe5-a42c-fd66fa2c43eb",
   "metadata": {},
   "outputs": [
    {
     "name": "stdout",
     "output_type": "stream",
     "text": [
      "[1/12] {'tfidf__max_features': 300000, 'tfidf__ngram_range': (1, 1), 'lof__n_neighbors': 40, 'lof__contamination': 0.35} → Val acc: 0.6997\n",
      "[2/12] {'tfidf__max_features': 300000, 'tfidf__ngram_range': (1, 1), 'lof__n_neighbors': 40, 'lof__contamination': 0.4} → Val acc: 0.7002\n",
      "[3/12] {'tfidf__max_features': 300000, 'tfidf__ngram_range': (1, 1), 'lof__n_neighbors': 40, 'lof__contamination': 0.45} → Val acc: 0.6945\n",
      "[4/12] {'tfidf__max_features': 300000, 'tfidf__ngram_range': (1, 1), 'lof__n_neighbors': 50, 'lof__contamination': 0.35} → Val acc: 0.7025\n",
      "[5/12] {'tfidf__max_features': 300000, 'tfidf__ngram_range': (1, 1), 'lof__n_neighbors': 50, 'lof__contamination': 0.4} → Val acc: 0.7020\n",
      "[6/12] {'tfidf__max_features': 300000, 'tfidf__ngram_range': (1, 1), 'lof__n_neighbors': 50, 'lof__contamination': 0.45} → Val acc: 0.6948\n",
      "[7/12] {'tfidf__max_features': 40000, 'tfidf__ngram_range': (1, 1), 'lof__n_neighbors': 40, 'lof__contamination': 0.35} → Val acc: 0.6992\n",
      "[8/12] {'tfidf__max_features': 40000, 'tfidf__ngram_range': (1, 1), 'lof__n_neighbors': 40, 'lof__contamination': 0.4} → Val acc: 0.6982\n",
      "[9/12] {'tfidf__max_features': 40000, 'tfidf__ngram_range': (1, 1), 'lof__n_neighbors': 40, 'lof__contamination': 0.45} → Val acc: 0.6945\n",
      "[10/12] {'tfidf__max_features': 40000, 'tfidf__ngram_range': (1, 1), 'lof__n_neighbors': 50, 'lof__contamination': 0.35} → Val acc: 0.6998\n",
      "[11/12] {'tfidf__max_features': 40000, 'tfidf__ngram_range': (1, 1), 'lof__n_neighbors': 50, 'lof__contamination': 0.4} → Val acc: 0.6987\n",
      "[12/12] {'tfidf__max_features': 40000, 'tfidf__ngram_range': (1, 1), 'lof__n_neighbors': 50, 'lof__contamination': 0.45} → Val acc: 0.6948\n",
      "\n",
      "✅ Best validation accuracy: 0.7025\n",
      "📋 Best parameters: {'tfidf__max_features': 300000, 'tfidf__ngram_range': (1, 1), 'lof__n_neighbors': 50, 'lof__contamination': 0.35}\n"
     ]
    }
   ],
   "source": [
    "# 5) brute‐force search\n",
    "best_score  = -1\n",
    "best_params = None\n",
    "total = np.prod([len(v) for v in param_grid.values()])\n",
    "i = 0\n",
    "\n",
    "for mf in param_grid['tfidf__max_features']:\n",
    "    for ngr in param_grid['tfidf__ngram_range']:\n",
    "        for nn in param_grid['lof__n_neighbors']:\n",
    "            for cont in param_grid['lof__contamination']:\n",
    "                i += 1\n",
    "                p = {\n",
    "                    'tfidf__max_features': mf,\n",
    "                    'tfidf__ngram_range': ngr,\n",
    "                    'lof__n_neighbors': nn,\n",
    "                    'lof__contamination': cont\n",
    "                }\n",
    "                score = evaluate_lof_params(p)\n",
    "                print(f\"[{i}/{total}] {p} → Val acc: {score:.4f}\")\n",
    "                if score > best_score:\n",
    "                    best_score, best_params = score, p.copy()\n",
    "\n",
    "print(\"\\n✅ Best validation accuracy:\", best_score)\n",
    "print(\"📋 Best parameters:\", best_params)"
   ]
  },
  {
   "cell_type": "code",
   "execution_count": null,
   "id": "dc1b8bfd-7938-42c4-a280-e3c750302587",
   "metadata": {},
   "outputs": [],
   "source": []
  },
  {
   "cell_type": "code",
   "execution_count": 27,
   "id": "80f6f54a",
   "metadata": {
    "vscode": {
     "languageId": "plaintext"
    }
   },
   "outputs": [
    {
     "name": "stdout",
     "output_type": "stream",
     "text": [
      "Test Accuracy: 0.6897302528123866\n",
      "              precision    recall  f1-score   support\n",
      "\n",
      "        Fake       0.69      0.73      0.71      4284\n",
      "        Real       0.69      0.64      0.67      3983\n",
      "\n",
      "    accuracy                           0.69      8267\n",
      "   macro avg       0.69      0.69      0.69      8267\n",
      "weighted avg       0.69      0.69      0.69      8267\n",
      "\n"
     ]
    }
   ],
   "source": [
    "\n",
    "# --- final model retrain ---\n",
    "final_vec = TfidfVectorizer(\n",
    "    max_features=best_params['tfidf__max_features'],\n",
    "    ngram_range=best_params['tfidf__ngram_range'],\n",
    "    stop_words='english'\n",
    ")\n",
    "X_real_combined = pd.concat([X_train_real_raw, X_val_raw[y_val == 1]])  # only real from train+val\n",
    "X_combined_vec = final_vec.fit_transform(X_real_combined)\n",
    "\n",
    "final_clf = LocalOutlierFactor(\n",
    "    n_neighbors=best_params['lof__n_neighbors'],\n",
    "    contamination=best_params['lof__contamination'],\n",
    "    novelty=True\n",
    ")\n",
    "final_clf.fit(X_combined_vec.toarray())\n",
    "\n",
    "# PREDICT on test\n",
    "X_test_vec = final_vec.transform(X_test_raw)\n",
    "raw_test = final_clf.predict(X_test_vec.toarray())\n",
    "test_preds = np.where(raw_test == 1, 1, 0)\n",
    "\n",
    "print(\"Test Accuracy:\", accuracy_score(y_test, test_preds))\n",
    "print(classification_report(y_test, test_preds, target_names=['Fake','Real']))"
   ]
  },
  {
   "cell_type": "code",
   "execution_count": null,
   "id": "790cc0ec",
   "metadata": {
    "vscode": {
     "languageId": "plaintext"
    }
   },
   "outputs": [],
   "source": []
  }
 ],
 "metadata": {
  "kernelspec": {
   "display_name": "Python [conda env:base] *",
   "language": "python",
   "name": "conda-base-py"
  },
  "language_info": {
   "codemirror_mode": {
    "name": "ipython",
    "version": 3
   },
   "file_extension": ".py",
   "mimetype": "text/x-python",
   "name": "python",
   "nbconvert_exporter": "python",
   "pygments_lexer": "ipython3",
   "version": "3.12.7"
  }
 },
 "nbformat": 4,
 "nbformat_minor": 5
}
