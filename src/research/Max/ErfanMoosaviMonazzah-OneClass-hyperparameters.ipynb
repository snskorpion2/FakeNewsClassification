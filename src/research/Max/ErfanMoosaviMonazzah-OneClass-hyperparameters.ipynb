{
 "cells": [
  {
   "cell_type": "markdown",
   "id": "0dba5b80",
   "metadata": {},
   "source": [
    "# One-Class Fake News Classification with Hyperparameter Tuning"
   ]
  },
  {
   "cell_type": "code",
   "execution_count": 2,
   "id": "c39f922a",
   "metadata": {
    "vscode": {
     "languageId": "plaintext"
    }
   },
   "outputs": [],
   "source": [
    "# 1. Imports\n",
    "import pandas as pd\n",
    "import numpy as np\n",
    "\n",
    "# Train/validation split\n",
    "from sklearn.model_selection import train_test_split\n",
    "\n",
    "# Text feature extraction\n",
    "from sklearn.feature_extraction.text import TfidfVectorizer\n",
    "\n",
    "# One-class classifier and evaluation metrics\n",
    "from sklearn.ensemble import IsolationForest\n",
    "from sklearn.metrics import accuracy_score, classification_report, confusion_matrix\n",
    "\n",
    "# Pipeline utilities\n",
    "from sklearn.pipeline import Pipeline\n"
   ]
  },
  {
   "cell_type": "code",
   "execution_count": 3,
   "id": "aa5b6155",
   "metadata": {
    "vscode": {
     "languageId": "plaintext"
    }
   },
   "outputs": [],
   "source": [
    "# 2. Paths to dataset splits\n",
    "train_path = \"../../data/ErfanMoosaviMonazzah - fake-news-detection-dataset-English/train.tsv\"\n",
    "val_path   = \"../../data/ErfanMoosaviMonazzah - fake-news-detection-dataset-English/validation.tsv\"\n",
    "test_path  = \"../../data/ErfanMoosaviMonazzah - fake-news-detection-dataset-English/test.tsv\"\n",
    "\n",
    "# Read datasets\n",
    "df_train = pd.read_csv(train_path, sep='\\t', parse_dates=[\"date\"], dayfirst=False)\n",
    "df_val   = pd.read_csv(val_path,   sep='\\t', parse_dates=[\"date\"], dayfirst=False)\n",
    "df_test  = pd.read_csv(test_path,  sep='\\t', parse_dates=[\"date\"], dayfirst=False)\n",
    "\n",
    "# Merge title and text into a single feature\n",
    "def merge_text(row):\n",
    "    return f\"{row['title']} \\n{row['text']}\"\n",
    "\n",
    "for df in [df_train, df_val, df_test]:\n",
    "    df['input_text'] = df.apply(merge_text, axis=1)\n",
    "\n",
    "# Prepare data splits\n",
    "y_train = df_train['input_text'][df_train['label'] == 1]  # only real news for one-class training\n",
    "X_val, y_val = df_val['input_text'], df_val['label']\n",
    "X_test, y_test = df_test['input_text'], df_test['label']\n",
    "\n"
   ]
  },
  {
   "cell_type": "code",
   "execution_count": 4,
   "id": "cf218ecf",
   "metadata": {
    "vscode": {
     "languageId": "plaintext"
    }
   },
   "outputs": [],
   "source": [
    "# 3. Hyperparameter grid definitions\n",
    "param_grid = {\n",
    "    'tfidf__max_features': [5000, 10000, 20000],\n",
    "    'tfidf__ngram_range': [(1,1), (1,2)],\n",
    "    'clf__n_estimators': [50, 100, 200],\n",
    "    'clf__contamination': [0.1, 0.2, 0.3]\n",
    "}\n"
   ]
  },
  {
   "cell_type": "code",
   "execution_count": null,
   "id": "b69fc440",
   "metadata": {
    "vscode": {
     "languageId": "plaintext"
    }
   },
   "outputs": [
    {
     "name": "stdout",
     "output_type": "stream",
     "text": [
      "[1/54] Params: {'tfidf__max_features': 5000, 'tfidf__ngram_range': (1, 1), 'clf__n_estimators': 50, 'clf__contamination': 0.1} -> Val Accuracy: 0.5120\n",
      "[2/54] Params: {'tfidf__max_features': 5000, 'tfidf__ngram_range': (1, 1), 'clf__n_estimators': 50, 'clf__contamination': 0.2} -> Val Accuracy: 0.5388\n",
      "[3/54] Params: {'tfidf__max_features': 5000, 'tfidf__ngram_range': (1, 1), 'clf__n_estimators': 50, 'clf__contamination': 0.3} -> Val Accuracy: 0.5508\n",
      "[4/54] Params: {'tfidf__max_features': 5000, 'tfidf__ngram_range': (1, 1), 'clf__n_estimators': 100, 'clf__contamination': 0.1} -> Val Accuracy: 0.5230\n",
      "[5/54] Params: {'tfidf__max_features': 5000, 'tfidf__ngram_range': (1, 1), 'clf__n_estimators': 100, 'clf__contamination': 0.2} -> Val Accuracy: 0.5477\n",
      "[6/54] Params: {'tfidf__max_features': 5000, 'tfidf__ngram_range': (1, 1), 'clf__n_estimators': 100, 'clf__contamination': 0.3} -> Val Accuracy: 0.5683\n",
      "[7/54] Params: {'tfidf__max_features': 5000, 'tfidf__ngram_range': (1, 1), 'clf__n_estimators': 200, 'clf__contamination': 0.1} -> Val Accuracy: 0.5083\n",
      "[8/54] Params: {'tfidf__max_features': 5000, 'tfidf__ngram_range': (1, 1), 'clf__n_estimators': 200, 'clf__contamination': 0.2} -> Val Accuracy: 0.5338\n",
      "[9/54] Params: {'tfidf__max_features': 5000, 'tfidf__ngram_range': (1, 1), 'clf__n_estimators': 200, 'clf__contamination': 0.3} -> Val Accuracy: 0.5487\n",
      "[10/54] Params: {'tfidf__max_features': 5000, 'tfidf__ngram_range': (1, 2), 'clf__n_estimators': 50, 'clf__contamination': 0.1} -> Val Accuracy: 0.4928\n",
      "[11/54] Params: {'tfidf__max_features': 5000, 'tfidf__ngram_range': (1, 2), 'clf__n_estimators': 50, 'clf__contamination': 0.2} -> Val Accuracy: 0.5032\n",
      "[12/54] Params: {'tfidf__max_features': 5000, 'tfidf__ngram_range': (1, 2), 'clf__n_estimators': 50, 'clf__contamination': 0.3} -> Val Accuracy: 0.5160\n",
      "[13/54] Params: {'tfidf__max_features': 5000, 'tfidf__ngram_range': (1, 2), 'clf__n_estimators': 100, 'clf__contamination': 0.1} -> Val Accuracy: 0.4872\n",
      "[14/54] Params: {'tfidf__max_features': 5000, 'tfidf__ngram_range': (1, 2), 'clf__n_estimators': 100, 'clf__contamination': 0.2} -> Val Accuracy: 0.4903\n",
      "[15/54] Params: {'tfidf__max_features': 5000, 'tfidf__ngram_range': (1, 2), 'clf__n_estimators': 100, 'clf__contamination': 0.3} -> Val Accuracy: 0.5003\n",
      "[16/54] Params: {'tfidf__max_features': 5000, 'tfidf__ngram_range': (1, 2), 'clf__n_estimators': 200, 'clf__contamination': 0.1} -> Val Accuracy: 0.4790\n",
      "[17/54] Params: {'tfidf__max_features': 5000, 'tfidf__ngram_range': (1, 2), 'clf__n_estimators': 200, 'clf__contamination': 0.2} -> Val Accuracy: 0.4822\n"
     ]
    }
   ],
   "source": [
    "# 4. Manual grid search over validation set\n",
    "def evaluate_params(params):\n",
    "    # Build pipeline with given params\n",
    "    vec = TfidfVectorizer(\n",
    "        max_features=params['tfidf__max_features'],\n",
    "        ngram_range=params['tfidf__ngram_range'],\n",
    "        stop_words='english'\n",
    "    )\n",
    "    clf = IsolationForest(\n",
    "        n_estimators=params['clf__n_estimators'],\n",
    "        contamination=params['clf__contamination'],\n",
    "        random_state=42\n",
    "    )\n",
    "    # Fit on training (real news) and predict on val\n",
    "    X_train_vec = vec.fit_transform(y_train)\n",
    "    X_val_vec = vec.transform(X_val)\n",
    "    raw_pred = clf.fit(X_train_vec).predict(X_val_vec)\n",
    "    y_pred = np.where(raw_pred == 1, 1, 0)\n",
    "    # Compute accuracy\n",
    "    return accuracy_score(y_val, y_pred)\n",
    "\n",
    "# Iterate grid\n",
    "total = np.prod([len(v) for v in param_grid.values()])\n",
    "best_score = 0\n",
    "best_params = None\n",
    "count = 0\n",
    "for max_f in param_grid['tfidf__max_features']:\n",
    "    for ngram in param_grid['tfidf__ngram_range']:\n",
    "        for n_est in param_grid['clf__n_estimators']:\n",
    "            for cont in param_grid['clf__contamination']:\n",
    "                params = {\n",
    "                    'tfidf__max_features': max_f,\n",
    "                    'tfidf__ngram_range': ngram,\n",
    "                    'clf__n_estimators': n_est,\n",
    "                    'clf__contamination': cont\n",
    "                }\n",
    "                count += 1\n",
    "                score = evaluate_params(params)\n",
    "                print(f\"[{count}/{total}] Params: {params} -> Val Accuracy: {score:.4f}\")\n",
    "                if score > best_score:\n",
    "                    best_score = score\n",
    "                    best_params = params.copy()\n",
    "\n",
    "print(\"\\nBest validation score:\", best_score)\n",
    "print(\"Best parameters:\", best_params)\n"
   ]
  },
  {
   "cell_type": "code",
   "execution_count": null,
   "id": "80f6f54a",
   "metadata": {
    "vscode": {
     "languageId": "plaintext"
    }
   },
   "outputs": [],
   "source": [
    "# 5. Final model training with best params on train+val and evaluation on test\n",
    "# Combine train (real) and val (all) to retrain\n",
    "combined_texts = pd.concat([y_train, X_val])\n",
    "\n",
    "# Vectorizer and classifier with best parameters\n",
    "final_vec = TfidfVectorizer(\n",
    "    max_features=best_params['tfidf__max_features'],\n",
    "    ngram_range=best_params['tfidf__ngram_range'],\n",
    "    stop_words='english'\n",
    ")\n",
    "final_clf = IsolationForest(\n",
    "    n_estimators=best_params['clf__n_estimators'],\n",
    "    contamination=best_params['clf__contamination'],\n",
    "    random_state=42\n",
    ")\n",
    "\n",
    "# Fit on combined (real + val)\n",
    "X_combined_vec = final_vec.fit_transform(combined_texts)\n",
    "final_clf.fit(X_combined_vec)\n",
    "\n",
    "# Evaluate on test\n",
    "X_test_vec = final_vec.transform(X_test)\n",
    "raw_test_pred = final_clf.predict(X_test_vec)\n",
    "test_preds = np.where(raw_test_pred == 1, 1, 0)\n",
    "\n",
    "print(\"Test Accuracy:\", accuracy_score(y_test, test_preds))\n",
    "print(classification_report(y_test, test_preds, target_names=['Fake','Real']))\n",
    "print(\"Confusion Matrix:\\n\", confusion_matrix(y_test, test_preds))\n",
    "\n"
   ]
  },
  {
   "cell_type": "code",
   "execution_count": null,
   "id": "790cc0ec",
   "metadata": {
    "vscode": {
     "languageId": "plaintext"
    }
   },
   "outputs": [],
   "source": [
    "# 6. Save predictions and misclassified samples\n",
    "submission = pd.DataFrame({\n",
    "    'text': df_test['text'],\n",
    "    'predicted_label': test_preds\n",
    "})\n",
    "\n",
    "\n",
    "misclassified = pd.DataFrame({\n",
    "    'text': df_test['text'],\n",
    "    'true_label': y_test,\n",
    "    'predicted_label': test_preds\n",
    "})\n",
    "misclassified = misclassified[misclassified['true_label'] != misclassified['predicted_label']]\n",
    "\n",
    "\n",
    "print(\"First 5 misclassified samples:\")\n",
    "print(misclassified.head(5))\n"
   ]
  }
 ],
 "metadata": {
  "kernelspec": {
   "display_name": "Python [conda env:base] *",
   "language": "python",
   "name": "conda-base-py"
  },
  "language_info": {
   "codemirror_mode": {
    "name": "ipython",
    "version": 3
   },
   "file_extension": ".py",
   "mimetype": "text/x-python",
   "name": "python",
   "nbconvert_exporter": "python",
   "pygments_lexer": "ipython3",
   "version": "3.12.7"
  }
 },
 "nbformat": 4,
 "nbformat_minor": 5
}
