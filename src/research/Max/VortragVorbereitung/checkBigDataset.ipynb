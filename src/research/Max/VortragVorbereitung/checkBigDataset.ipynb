{
 "cells": [
  {
   "cell_type": "code",
   "execution_count": 1,
   "id": "f281bd3b-ca7f-4943-9fc6-02427b771436",
   "metadata": {},
   "outputs": [],
   "source": [
    "import os\n",
    "import joblib\n",
    "import pandas as pd\n",
    "import numpy as np\n",
    "from sklearn.metrics import accuracy_score\n",
    "\n",
    "# adjust to wherever you keep your large CSV\n",
    "BIG_DATA_CSV = \"../../data/bigFakeNews/dataFiltered.csv\"\n",
    "\n",
    "# chunk size for the big dataset\n",
    "CHUNKSIZE = 200_000\n",
    "model_path = \"./models/logreg_B.joblib\"\n",
    "model = joblib.load(model_path)\n",
    "print(\"Evaluating large dataset in chunks:\\n\")\n",
    "\n",
    "total_rows = 0\n",
    "total_correct = 0\n",
    "\n",
    "\n",
    "for chunk_idx, chunk in enumerate(\n",
    "        pd.read_csv(BIG_DATA_CSV, \n",
    "                    usecols=[\"title\", \"text\", \"label\"],  # only load what we need\n",
    "                    chunksize=CHUNKSIZE)\n",
    "    ):\n",
    "\n",
    "    # Predict\n",
    "    X_chunk = chunk[\"title\"] + \"\\n\" + chunk[\"text\"]\n",
    "    y_chunk = chunk[\"label\"].values\n",
    "    y_pred_chunk = model.predict(X_chunk)\n",
    "\n",
    "    # Accumulate\n",
    "    correct = np.sum(y_pred_chunk == y_chunk)\n",
    "    n = len(y_chunk)\n",
    "    total_correct += correct\n",
    "    total_rows += n\n",
    "\n",
    "    # Progress message\n",
    "    print(f\"  • Chunk {chunk_idx+1}: processed {n} rows, \"\n",
    "          f\"cumulative: {total_rows} rows, \"\n",
    "          f\"chunk accuracy = {correct/n:.4f}\")\n",
    "\n",
    "# Final accuracy\n",
    "final_acc = total_correct / total_rows\n",
    "print(f\"\\nOverall accuracy on '{os.path.basename(BIG_DATA_CSV)}': {final_acc:.8f}\")"
   ]
  }
 ],
 "metadata": {
  "kernelspec": {
   "display_name": "Python 3 (ipykernel)",
   "language": "python",
   "name": "python3"
  },
  "language_info": {
   "codemirror_mode": {
    "name": "ipython",
    "version": 3
   },
   "file_extension": ".py",
   "mimetype": "text/x-python",
   "name": "python",
   "nbconvert_exporter": "python",
   "pygments_lexer": "ipython3",
   "version": "3.12.7"
  }
 },
 "nbformat": 4,
 "nbformat_minor": 5
}
