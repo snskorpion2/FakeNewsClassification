{
 "cells": [
  {
   "cell_type": "markdown",
   "id": "22dc109e-f1fa-4027-949b-cbde11217dad",
   "metadata": {},
   "source": [
    "# OCC One-class classification"
   ]
  },
  {
   "cell_type": "markdown",
   "id": "f98875ad-88a6-43dd-87a3-3361d17397b7",
   "metadata": {},
   "source": [
    "### Laden von Datensatz WELFake"
   ]
  },
  {
   "cell_type": "code",
   "execution_count": 1,
   "id": "7d804175-ee1e-4b54-9230-ae54319d4b64",
   "metadata": {},
   "outputs": [],
   "source": [
    "import pandas as pd\n",
    "import numpy as np\n",
    "import os\n",
    "\n",
    "# One-class models\n",
    "from sklearn.ensemble import IsolationForest\n",
    "from sklearn.svm import OneClassSVM\n",
    "from sklearn.neighbors import LocalOutlierFactor\n",
    "from sklearn.model_selection import train_test_split\n",
    "from sklearn.feature_extraction.text import TfidfVectorizer\n",
    "\n",
    "\n",
    "# Evaluation metrics\n",
    "from sklearn.metrics import accuracy_score, classification_report, confusion_matrix\n",
    "\n",
    "\n",
    "\n",
    "path = os.path.join(\"../../../data\", \"Saurabh Shahane - Fake_News_Classification\", \"WELFake_Dataset.csv\")\n",
    "\n",
    "df = pd.read_csv(path)\n",
    "df = df.rename(columns={'Title': 'title', 'Text': 'text', 'Label': 'label'})\n",
    "df = df[df['text'].notna() & df['title'].notna()]\n",
    "df['label'] = 1 - df['label'].astype(int)  # Flip labels: 0 → 1, 1 → 0\n",
    "df = df[['title', 'text', 'label']]\n",
    "\n",
    "X = df['title'] + '\\n' + df['text']\n",
    "y = df['label']\n",
    "\n",
    "X_train, X_val, y_train, y_val = train_test_split(X, y, test_size=0.2, random_state=42, stratify=y)\n",
    "\n",
    "\n",
    "# Vectorize text\n",
    "vectorizer = TfidfVectorizer(max_features=20000, ngram_range=(1,2), stop_words='english')\n",
    "X_train_vec = vectorizer.fit_transform(X_train)\n",
    "X_val_vec   = vectorizer.transform(X_val)\n",
    "\n",
    "def evaluate_model(name, preds, y_true):\n",
    "    print(f\"== {name} ==\")\n",
    "    print(classification_report(y_true, preds, target_names=[\"Fake\", \"Real\"]))\n",
    "\n",
    "contamination = min(1 - df['label'].mean(), 0.5)"
   ]
  },
  {
   "cell_type": "code",
   "execution_count": 2,
   "id": "b293e71f-6f44-4691-9719-314ae8b44c4c",
   "metadata": {},
   "outputs": [
    {
     "name": "stdout",
     "output_type": "stream",
     "text": [
      "== IsolationForest ==\n",
      "              precision    recall  f1-score   support\n",
      "\n",
      "        Fake       0.45      0.43      0.44      7302\n",
      "        Real       0.42      0.44      0.43      7006\n",
      "\n",
      "    accuracy                           0.43     14308\n",
      "   macro avg       0.43      0.43      0.43     14308\n",
      "weighted avg       0.44      0.43      0.43     14308\n",
      "\n"
     ]
    }
   ],
   "source": [
    "model_if = IsolationForest(n_estimators=100, contamination=contamination, random_state=42)\n",
    "model_if.fit(X_train_vec)\n",
    "\n",
    "preds_if = model_if.predict(X_val_vec)\n",
    "preds_if = (preds_if == 1).astype(int)\n",
    "\n",
    "evaluate_model('IsolationForest', preds_if, y_val)"
   ]
  },
  {
   "cell_type": "code",
   "execution_count": 3,
   "id": "c919b383-47a5-4946-a40e-38957bb76cc2",
   "metadata": {},
   "outputs": [
    {
     "name": "stdout",
     "output_type": "stream",
     "text": [
      "== LocalOutlierFactor ==\n",
      "              precision    recall  f1-score   support\n",
      "\n",
      "        Fake       0.53      0.51      0.52      7302\n",
      "        Real       0.51      0.52      0.51      7006\n",
      "\n",
      "    accuracy                           0.52     14308\n",
      "   macro avg       0.52      0.52      0.52     14308\n",
      "weighted avg       0.52      0.52      0.52     14308\n",
      "\n"
     ]
    }
   ],
   "source": [
    "model_lof = LocalOutlierFactor(n_neighbors=20, contamination=contamination, novelty=True)\n",
    "model_lof.fit(X_train_vec)\n",
    "preds_lof = model_lof.predict(X_val_vec)\n",
    "preds_lof = (preds_lof == 1).astype(int)\n",
    "evaluate_model('LocalOutlierFactor', preds_lof, y_val)"
   ]
  },
  {
   "cell_type": "code",
   "execution_count": 5,
   "id": "0f7a5e00-eaf3-4439-9ae2-9607725ffaea",
   "metadata": {},
   "outputs": [
    {
     "ename": "MemoryError",
     "evalue": "Unable to allocate 11.9 GiB for an array with shape (1600140000,) and data type float64",
     "output_type": "error",
     "traceback": [
      "\u001b[1;31m---------------------------------------------------------------------------\u001b[0m",
      "\u001b[1;31mMemoryError\u001b[0m                               Traceback (most recent call last)",
      "Cell \u001b[1;32mIn[5], line 7\u001b[0m\n\u001b[0;32m      5\u001b[0m X_train_dense \u001b[38;5;241m=\u001b[39m X_train_vec\u001b[38;5;241m.\u001b[39mtoarray() \u001b[38;5;28;01mif\u001b[39;00m issparse(X_train_vec) \u001b[38;5;28;01melse\u001b[39;00m X_train_vec\n\u001b[0;32m      6\u001b[0m pca \u001b[38;5;241m=\u001b[39m PCA(n_components\u001b[38;5;241m=\u001b[39m\u001b[38;5;241m0.95\u001b[39m, random_state\u001b[38;5;241m=\u001b[39m\u001b[38;5;241m42\u001b[39m)\n\u001b[1;32m----> 7\u001b[0m pca\u001b[38;5;241m.\u001b[39mfit(X_train_dense)\n\u001b[0;32m      9\u001b[0m \u001b[38;5;66;03m# 2. Compute reconstruction error on validation \u001b[39;00m\n\u001b[0;32m     10\u001b[0m X_val_dense \u001b[38;5;241m=\u001b[39m X_val_vec\u001b[38;5;241m.\u001b[39mtoarray() \u001b[38;5;28;01mif\u001b[39;00m issparse(X_val_vec) \u001b[38;5;28;01melse\u001b[39;00m X_val_vec\n",
      "File \u001b[1;32m~\\anaconda3\\Lib\\site-packages\\sklearn\\base.py:1473\u001b[0m, in \u001b[0;36m_fit_context.<locals>.decorator.<locals>.wrapper\u001b[1;34m(estimator, *args, **kwargs)\u001b[0m\n\u001b[0;32m   1466\u001b[0m     estimator\u001b[38;5;241m.\u001b[39m_validate_params()\n\u001b[0;32m   1468\u001b[0m \u001b[38;5;28;01mwith\u001b[39;00m config_context(\n\u001b[0;32m   1469\u001b[0m     skip_parameter_validation\u001b[38;5;241m=\u001b[39m(\n\u001b[0;32m   1470\u001b[0m         prefer_skip_nested_validation \u001b[38;5;129;01mor\u001b[39;00m global_skip_validation\n\u001b[0;32m   1471\u001b[0m     )\n\u001b[0;32m   1472\u001b[0m ):\n\u001b[1;32m-> 1473\u001b[0m     \u001b[38;5;28;01mreturn\u001b[39;00m fit_method(estimator, \u001b[38;5;241m*\u001b[39margs, \u001b[38;5;241m*\u001b[39m\u001b[38;5;241m*\u001b[39mkwargs)\n",
      "File \u001b[1;32m~\\anaconda3\\Lib\\site-packages\\sklearn\\decomposition\\_pca.py:448\u001b[0m, in \u001b[0;36mPCA.fit\u001b[1;34m(self, X, y)\u001b[0m\n\u001b[0;32m    430\u001b[0m \u001b[38;5;129m@_fit_context\u001b[39m(prefer_skip_nested_validation\u001b[38;5;241m=\u001b[39m\u001b[38;5;28;01mTrue\u001b[39;00m)\n\u001b[0;32m    431\u001b[0m \u001b[38;5;28;01mdef\u001b[39;00m \u001b[38;5;21mfit\u001b[39m(\u001b[38;5;28mself\u001b[39m, X, y\u001b[38;5;241m=\u001b[39m\u001b[38;5;28;01mNone\u001b[39;00m):\n\u001b[0;32m    432\u001b[0m \u001b[38;5;250m    \u001b[39m\u001b[38;5;124;03m\"\"\"Fit the model with X.\u001b[39;00m\n\u001b[0;32m    433\u001b[0m \n\u001b[0;32m    434\u001b[0m \u001b[38;5;124;03m    Parameters\u001b[39;00m\n\u001b[1;32m   (...)\u001b[0m\n\u001b[0;32m    446\u001b[0m \u001b[38;5;124;03m        Returns the instance itself.\u001b[39;00m\n\u001b[0;32m    447\u001b[0m \u001b[38;5;124;03m    \"\"\"\u001b[39;00m\n\u001b[1;32m--> 448\u001b[0m     \u001b[38;5;28mself\u001b[39m\u001b[38;5;241m.\u001b[39m_fit(X)\n\u001b[0;32m    449\u001b[0m     \u001b[38;5;28;01mreturn\u001b[39;00m \u001b[38;5;28mself\u001b[39m\n",
      "File \u001b[1;32m~\\anaconda3\\Lib\\site-packages\\sklearn\\decomposition\\_pca.py:547\u001b[0m, in \u001b[0;36mPCA._fit\u001b[1;34m(self, X)\u001b[0m\n\u001b[0;32m    545\u001b[0m \u001b[38;5;66;03m# Call different fits for either full or truncated SVD\u001b[39;00m\n\u001b[0;32m    546\u001b[0m \u001b[38;5;28;01mif\u001b[39;00m \u001b[38;5;28mself\u001b[39m\u001b[38;5;241m.\u001b[39m_fit_svd_solver \u001b[38;5;129;01min\u001b[39;00m (\u001b[38;5;124m\"\u001b[39m\u001b[38;5;124mfull\u001b[39m\u001b[38;5;124m\"\u001b[39m, \u001b[38;5;124m\"\u001b[39m\u001b[38;5;124mcovariance_eigh\u001b[39m\u001b[38;5;124m\"\u001b[39m):\n\u001b[1;32m--> 547\u001b[0m     \u001b[38;5;28;01mreturn\u001b[39;00m \u001b[38;5;28mself\u001b[39m\u001b[38;5;241m.\u001b[39m_fit_full(X, n_components, xp, is_array_api_compliant)\n\u001b[0;32m    548\u001b[0m \u001b[38;5;28;01melif\u001b[39;00m \u001b[38;5;28mself\u001b[39m\u001b[38;5;241m.\u001b[39m_fit_svd_solver \u001b[38;5;129;01min\u001b[39;00m [\u001b[38;5;124m\"\u001b[39m\u001b[38;5;124marpack\u001b[39m\u001b[38;5;124m\"\u001b[39m, \u001b[38;5;124m\"\u001b[39m\u001b[38;5;124mrandomized\u001b[39m\u001b[38;5;124m\"\u001b[39m]:\n\u001b[0;32m    549\u001b[0m     \u001b[38;5;28;01mreturn\u001b[39;00m \u001b[38;5;28mself\u001b[39m\u001b[38;5;241m.\u001b[39m_fit_truncated(X, n_components, xp)\n",
      "File \u001b[1;32m~\\anaconda3\\Lib\\site-packages\\sklearn\\decomposition\\_pca.py:588\u001b[0m, in \u001b[0;36mPCA._fit_full\u001b[1;34m(self, X, n_components, xp, is_array_api_compliant)\u001b[0m\n\u001b[0;32m    578\u001b[0m x_is_centered \u001b[38;5;241m=\u001b[39m \u001b[38;5;129;01mnot\u001b[39;00m \u001b[38;5;28mself\u001b[39m\u001b[38;5;241m.\u001b[39mcopy\n\u001b[0;32m    580\u001b[0m \u001b[38;5;28;01mif\u001b[39;00m \u001b[38;5;129;01mnot\u001b[39;00m is_array_api_compliant:\n\u001b[0;32m    581\u001b[0m     \u001b[38;5;66;03m# Use scipy.linalg with NumPy/SciPy inputs for the sake of not\u001b[39;00m\n\u001b[0;32m    582\u001b[0m     \u001b[38;5;66;03m# introducing unanticipated behavior changes. In the long run we\u001b[39;00m\n\u001b[1;32m   (...)\u001b[0m\n\u001b[0;32m    586\u001b[0m     \u001b[38;5;66;03m# solver by default though (assuming both are built against the\u001b[39;00m\n\u001b[0;32m    587\u001b[0m     \u001b[38;5;66;03m# same BLAS).\u001b[39;00m\n\u001b[1;32m--> 588\u001b[0m     U, S, Vt \u001b[38;5;241m=\u001b[39m linalg\u001b[38;5;241m.\u001b[39msvd(X_centered, full_matrices\u001b[38;5;241m=\u001b[39m\u001b[38;5;28;01mFalse\u001b[39;00m)\n\u001b[0;32m    589\u001b[0m \u001b[38;5;28;01melse\u001b[39;00m:\n\u001b[0;32m    590\u001b[0m     U, S, Vt \u001b[38;5;241m=\u001b[39m xp\u001b[38;5;241m.\u001b[39mlinalg\u001b[38;5;241m.\u001b[39msvd(X_centered, full_matrices\u001b[38;5;241m=\u001b[39m\u001b[38;5;28;01mFalse\u001b[39;00m)\n",
      "File \u001b[1;32m~\\anaconda3\\Lib\\site-packages\\scipy\\linalg\\_decomp_svd.py:141\u001b[0m, in \u001b[0;36msvd\u001b[1;34m(a, full_matrices, compute_uv, overwrite_a, check_finite, lapack_driver)\u001b[0m\n\u001b[0;32m    137\u001b[0m lwork \u001b[38;5;241m=\u001b[39m _compute_lwork(gesXd_lwork, a1\u001b[38;5;241m.\u001b[39mshape[\u001b[38;5;241m0\u001b[39m], a1\u001b[38;5;241m.\u001b[39mshape[\u001b[38;5;241m1\u001b[39m],\n\u001b[0;32m    138\u001b[0m                        compute_uv\u001b[38;5;241m=\u001b[39mcompute_uv, full_matrices\u001b[38;5;241m=\u001b[39mfull_matrices)\n\u001b[0;32m    140\u001b[0m \u001b[38;5;66;03m# perform decomposition\u001b[39;00m\n\u001b[1;32m--> 141\u001b[0m u, s, v, info \u001b[38;5;241m=\u001b[39m gesXd(a1, compute_uv\u001b[38;5;241m=\u001b[39mcompute_uv, lwork\u001b[38;5;241m=\u001b[39mlwork,\n\u001b[0;32m    142\u001b[0m                       full_matrices\u001b[38;5;241m=\u001b[39mfull_matrices, overwrite_a\u001b[38;5;241m=\u001b[39moverwrite_a)\n\u001b[0;32m    144\u001b[0m \u001b[38;5;28;01mif\u001b[39;00m info \u001b[38;5;241m>\u001b[39m \u001b[38;5;241m0\u001b[39m:\n\u001b[0;32m    145\u001b[0m     \u001b[38;5;28;01mraise\u001b[39;00m LinAlgError(\u001b[38;5;124m\"\u001b[39m\u001b[38;5;124mSVD did not converge\u001b[39m\u001b[38;5;124m\"\u001b[39m)\n",
      "\u001b[1;31mMemoryError\u001b[0m: Unable to allocate 11.9 GiB for an array with shape (1600140000,) and data type float64"
     ]
    }
   ],
   "source": [
    "from sklearn.decomposition import PCA\n",
    "from scipy.sparse import issparse\n",
    "\n",
    "# 1. Fit PCA on dense TF‑IDF \n",
    "X_train_dense = X_train_vec.toarray() if issparse(X_train_vec) else X_train_vec\n",
    "pca = PCA(n_components=0.95, random_state=42)\n",
    "pca.fit(X_train_dense)\n",
    "\n",
    "# 2. Compute reconstruction error on validation \n",
    "X_val_dense = X_val_vec.toarray() if issparse(X_val_vec) else X_val_vec\n",
    "X_val_rec   = pca.inverse_transform(pca.transform(X_val_dense))\n",
    "mse_val     = np.mean((X_val_dense - X_val_rec)**2, axis=1)\n",
    "\n",
    "# 3. Threshold (e.g. bottom 80% = inliers)\n",
    "thresh_pca  = np.percentile(mse_val, 80)\n",
    "preds_pca   = (mse_val < thresh_pca).astype(int)\n",
    "\n",
    "# 4. Evaluate\n",
    "evaluate_model('PCA Reconstruction', preds_pca, y_val)"
   ]
  },
  {
   "cell_type": "code",
   "execution_count": null,
   "id": "8e767ff0-5950-4a27-b48c-b27fa01a3310",
   "metadata": {},
   "outputs": [],
   "source": [
    "from sklearn.neighbors import NearestNeighbors\n",
    "\n",
    "# 1. Fit KNN on dense TF‑IDF\n",
    "X_train_dense = X_train_vec.toarray() if issparse(X_train_vec) else X_train_vec\n",
    "knn = NearestNeighbors(n_neighbors=5)\n",
    "knn.fit(X_train_dense)\n",
    "\n",
    "# 2. Compute avg dist to 5 neighbors for validation\n",
    "X_val_dense = X_val_vec.toarray() if issparse(X_val_vec) else X_val_vec\n",
    "distances, _ = knn.kneighbors(X_val_dense)\n",
    "avg_dist = distances.mean(axis=1)\n",
    "\n",
    "# 3. Threshold (e.g. bottom 80% of distances considered inlier)\n",
    "thresh_knn = np.percentile(avg_dist, 80)\n",
    "preds_knn  = (avg_dist < thresh_knn).astype(int)\n",
    "\n",
    "# 4. Evaluate\n",
    "evaluate_model('KNN Distance', preds_knn, y_val)"
   ]
  },
  {
   "cell_type": "code",
   "execution_count": null,
   "id": "6897a6d0-6f9a-492b-9eb9-63ec359f3ddd",
   "metadata": {},
   "outputs": [],
   "source": []
  }
 ],
 "metadata": {
  "kernelspec": {
   "display_name": "Python 3 (ipykernel)",
   "language": "python",
   "name": "python3"
  },
  "language_info": {
   "codemirror_mode": {
    "name": "ipython",
    "version": 3
   },
   "file_extension": ".py",
   "mimetype": "text/x-python",
   "name": "python",
   "nbconvert_exporter": "python",
   "pygments_lexer": "ipython3",
   "version": "3.12.7"
  }
 },
 "nbformat": 4,
 "nbformat_minor": 5
}
