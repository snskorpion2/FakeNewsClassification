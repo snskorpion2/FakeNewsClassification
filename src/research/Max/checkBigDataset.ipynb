{
 "cells": [
  {
   "cell_type": "code",
   "execution_count": 1,
   "id": "f281bd3b-ca7f-4943-9fc6-02427b771436",
   "metadata": {},
   "outputs": [],
   "source": [
    "import os\n",
    "import joblib\n",
    "import pandas as pd\n",
    "import numpy as np\n",
    "from sklearn.metrics import accuracy_score\n",
    "\n",
    "# adjust to wherever you keep your large CSV\n",
    "BIG_DATA_CSV = \"../../data/bigFakeNews/dataFiltered.csv\"\n",
    "\n",
    "# chunk size for the big dataset\n",
    "CHUNKSIZE = 200_000"
   ]
  },
  {
   "cell_type": "code",
   "execution_count": 2,
   "id": "abe8ead4-f942-42fb-8383-9190189ad4f3",
   "metadata": {},
   "outputs": [
    {
     "name": "stdout",
     "output_type": "stream",
     "text": [
      "Loaded model from ./models/logreg_B_C_D.joblib\n",
      "\n"
     ]
    }
   ],
   "source": [
    "model_path = \"./models/logreg_B_C_D.joblib\"\n",
    "model = joblib.load(model_path)\n",
    "print(f\"Loaded model from {model_path}\\n\")"
   ]
  },
  {
   "cell_type": "code",
   "execution_count": 7,
   "id": "678eeb90-af92-4a06-8c7a-20708a5c2f5c",
   "metadata": {},
   "outputs": [
    {
     "name": "stdout",
     "output_type": "stream",
     "text": [
      "Evaluating large dataset in chunks:\n",
      "\n",
      "  • Chunk 1: processed 200000 rows, cumulative: 200000 rows, chunk accuracy = 0.8201\n",
      "  • Chunk 2: processed 200000 rows, cumulative: 400000 rows, chunk accuracy = 0.7367\n",
      "  • Chunk 3: processed 200000 rows, cumulative: 600000 rows, chunk accuracy = 0.7941\n",
      "  • Chunk 4: processed 200000 rows, cumulative: 800000 rows, chunk accuracy = 0.5949\n",
      "  • Chunk 5: processed 200000 rows, cumulative: 1000000 rows, chunk accuracy = 0.7966\n",
      "  • Chunk 6: processed 200000 rows, cumulative: 1200000 rows, chunk accuracy = 0.6428\n",
      "  • Chunk 7: processed 200000 rows, cumulative: 1400000 rows, chunk accuracy = 0.7651\n",
      "  • Chunk 8: processed 200000 rows, cumulative: 1600000 rows, chunk accuracy = 0.6289\n",
      "  • Chunk 9: processed 200000 rows, cumulative: 1800000 rows, chunk accuracy = 0.7548\n",
      "  • Chunk 10: processed 200000 rows, cumulative: 2000000 rows, chunk accuracy = 0.7375\n",
      "  • Chunk 11: processed 200000 rows, cumulative: 2200000 rows, chunk accuracy = 0.7368\n",
      "  • Chunk 12: processed 200000 rows, cumulative: 2400000 rows, chunk accuracy = 0.8120\n",
      "  • Chunk 13: processed 169493 rows, cumulative: 2569493 rows, chunk accuracy = 0.8280\n",
      "\n",
      "Overall accuracy on 'dataFiltered.csv': 0.74115244\n"
     ]
    }
   ],
   "source": [
    "print(\"Evaluating large dataset in chunks:\\n\")\n",
    "\n",
    "total_rows = 0\n",
    "total_correct = 0\n",
    "\n",
    "\n",
    "for chunk_idx, chunk in enumerate(\n",
    "        pd.read_csv(BIG_DATA_CSV, \n",
    "                    usecols=[\"title\", \"text\", \"label\"],  # only load what we need\n",
    "                    chunksize=CHUNKSIZE)\n",
    "    ):\n",
    "\n",
    "    # Predict\n",
    "    X_chunk = chunk[\"title\"] + \"\\n\" + chunk[\"text\"]\n",
    "    y_chunk = chunk[\"label\"].values\n",
    "    y_pred_chunk = model.predict(X_chunk)\n",
    "\n",
    "    # Accumulate\n",
    "    correct = np.sum(y_pred_chunk == y_chunk)\n",
    "    n = len(y_chunk)\n",
    "    total_correct += correct\n",
    "    total_rows += n\n",
    "\n",
    "    # Progress message\n",
    "    print(f\"  • Chunk {chunk_idx+1}: processed {n} rows, \"\n",
    "          f\"cumulative: {total_rows} rows, \"\n",
    "          f\"chunk accuracy = {correct/n:.4f}\")\n",
    "\n",
    "# Final accuracy\n",
    "final_acc = total_correct / total_rows\n",
    "print(f\"\\nOverall accuracy on '{os.path.basename(BIG_DATA_CSV)}': {final_acc:.8f}\")"
   ]
  },
  {
   "cell_type": "code",
   "execution_count": null,
   "id": "df2daf14-b4c5-4210-9fd9-87babc528662",
   "metadata": {},
   "outputs": [],
   "source": []
  }
 ],
 "metadata": {
  "kernelspec": {
   "display_name": "Python 3 (ipykernel)",
   "language": "python",
   "name": "python3"
  },
  "language_info": {
   "codemirror_mode": {
    "name": "ipython",
    "version": 3
   },
   "file_extension": ".py",
   "mimetype": "text/x-python",
   "name": "python",
   "nbconvert_exporter": "python",
   "pygments_lexer": "ipython3",
   "version": "3.12.7"
  }
 },
 "nbformat": 4,
 "nbformat_minor": 5
}
