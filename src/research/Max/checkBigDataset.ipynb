{
 "cells": [
  {
   "cell_type": "code",
   "execution_count": null,
   "id": "f281bd3b-ca7f-4943-9fc6-02427b771436",
   "metadata": {},
   "outputs": [],
   "source": [
    "import os\n",
    "import joblib\n",
    "import pandas as pd\n",
    "import numpy as np\n",
    "from sklearn.metrics import accuracy_score\n",
    "\n",
    "# adjust to wherever you keep your large CSV\n",
    "BIG_DATA_CSV = \"./bigFakeNews/opensources_fake_news_cleaned.csv\"\n",
    "\n",
    "# other, smaller datasets (already small enough to load in memory)\n",
    "DATASETS = {\n",
    "    \"Meg_Risdal\": \"./Meg Risdal_fake_only/fake.csv\",\n",
    "    # add more small ones here if you have them...\n",
    "}\n",
    "\n",
    "# chunk size for the big dataset\n",
    "CHUNKSIZE = 200_000"
   ]
  },
  {
   "cell_type": "code",
   "execution_count": null,
   "id": "abe8ead4-f942-42fb-8383-9190189ad4f3",
   "metadata": {},
   "outputs": [],
   "source": [
    "model_path = \"./models/logreg_C_D_E.joblib\"\n",
    "model = joblib.load(model_path)\n",
    "print(f\"Loaded model from {model_path}\\n\")"
   ]
  },
  {
   "cell_type": "code",
   "execution_count": null,
   "id": "678eeb90-af92-4a06-8c7a-20708a5c2f5c",
   "metadata": {},
   "outputs": [],
   "source": [
    "print(\"Evaluating large dataset in chunks:\\n\")\n",
    "\n",
    "total_rows = 0\n",
    "total_correct = 0\n",
    "\n",
    "# We'll map 'type' → 'label' on the fly\n",
    "type_to_label = {\"reliable\": 1, \"fake\": 0}\n",
    "\n",
    "for chunk_idx, chunk in enumerate(\n",
    "        pd.read_csv(BIG_DATA_CSV, \n",
    "                    usecols=[\"type\", \"content\"],  # only load what we need\n",
    "                    chunksize=CHUNKSIZE)\n",
    "    ):\n",
    "    # Rename & filter\n",
    "    chunk = chunk[chunk[\"type\"].isin(type_to_label)]\n",
    "    chunk = chunk.rename(columns={\"content\": \"text\"})\n",
    "    chunk[\"title\"] = \"\"  # if there's no title column, assume empty\n",
    "    chunk[\"label\"] = chunk[\"type\"].map(type_to_label)\n",
    "\n",
    "    # Drop any null/empty text\n",
    "    chunk = chunk.dropna(subset=[\"text\"])\n",
    "    chunk = chunk[chunk[\"text\"].str.strip() != \"\"]\n",
    "\n",
    "    # Predict\n",
    "    X_chunk = chunk[\"title\"] + \"\\n\" + chunk[\"text\"]\n",
    "    y_chunk = chunk[\"label\"].values\n",
    "    y_pred_chunk = model.predict(X_chunk)\n",
    "\n",
    "    # Accumulate\n",
    "    correct = np.sum(y_pred_chunk == y_chunk)\n",
    "    n = len(y_chunk)\n",
    "    total_correct += correct\n",
    "    total_rows += n\n",
    "\n",
    "    # Progress message\n",
    "    print(f\"  • Chunk {chunk_idx+1}: processed {n} rows, \"\n",
    "          f\"cumulative: {total_rows} rows, \"\n",
    "          f\"chunk accuracy = {correct/n:.4f}\")\n",
    "\n",
    "# Final accuracy\n",
    "final_acc = total_correct / total_rows\n",
    "print(f\"\\nOverall accuracy on '{os.path.basename(BIG_DATA_CSV)}': {final_acc:.8f}\")"
   ]
  }
 ],
 "metadata": {
  "kernelspec": {
   "display_name": "Python [conda env:base] *",
   "language": "python",
   "name": "conda-base-py"
  },
  "language_info": {
   "codemirror_mode": {
    "name": "ipython",
    "version": 3
   },
   "file_extension": ".py",
   "mimetype": "text/x-python",
   "name": "python",
   "nbconvert_exporter": "python",
   "pygments_lexer": "ipython3",
   "version": "3.12.7"
  }
 },
 "nbformat": 4,
 "nbformat_minor": 5
}
