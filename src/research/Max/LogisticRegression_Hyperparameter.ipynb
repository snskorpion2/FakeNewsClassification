{
 "cells": [
  {
   "cell_type": "markdown",
   "id": "ea4c2146-1a43-41bd-bfda-034d3008bdc7",
   "metadata": {},
   "source": [
    "# Logistische Regression - hyperparameter tuning"
   ]
  },
  {
   "cell_type": "code",
   "execution_count": 2,
   "id": "8963ff5d-58bc-4ccd-88e6-6377ff6a2b12",
   "metadata": {},
   "outputs": [],
   "source": [
    "import pandas as pd\n",
    "import numpy as np\n",
    "\n",
    "from sklearn.pipeline import Pipeline\n",
    "from sklearn.feature_extraction.text import TfidfVectorizer\n",
    "from sklearn.linear_model import LogisticRegression\n",
    "from sklearn.experimental import enable_halving_search_cv  # noqa: F401\n",
    "from sklearn.model_selection import HalvingRandomSearchCV, StratifiedKFold\n",
    "from sklearn.metrics import accuracy_score, classification_report, confusion_matrix\n",
    "\n",
    "from scipy.stats import uniform, randint\n",
    "import joblib\n"
   ]
  },
  {
   "cell_type": "code",
   "execution_count": 3,
   "id": "3ba5be13-10ad-489e-89cb-139dc3abc53f",
   "metadata": {},
   "outputs": [],
   "source": [
    "train_path = \"../../data/ErfanMoosaviMonazzah - fake-news-detection-dataset-English/train.tsv\"\n",
    "val_path   = \"../../data/ErfanMoosaviMonazzah - fake-news-detection-dataset-English/validation.tsv\"\n",
    "test_path  = \"../../data/ErfanMoosaviMonazzah - fake-news-detection-dataset-English/test.tsv\"\n",
    "\n",
    "# Reading with tab separator and parsing dates\n",
    "df_train = pd.read_csv(train_path, sep='\\t', parse_dates=[\"date\"], dayfirst=False)\n",
    "df_val   = pd.read_csv(val_path,   sep='\\t', parse_dates=[\"date\"], dayfirst=False)\n",
    "df_test  = pd.read_csv(test_path,  sep='\\t', parse_dates=[\"date\"], dayfirst=False)\n",
    "\n",
    "# Merge title and text into a single input text\n",
    "def merge_text(row):\n",
    "    return f\"{row['title']} \\n{row['text']}\"\n",
    "\n",
    "for df in (df_train, df_val, df_test):\n",
    "    df['input_text'] = df.apply(merge_text, axis=1)\n",
    "\n",
    "X_train, y_train = df_train['input_text'], df_train['label']\n",
    "X_val,   y_val   = df_val['input_text'],   df_val['label']\n",
    "X_test,  y_test  = df_test['input_text'],  df_test['label']  # For final evaluation"
   ]
  },
  {
   "cell_type": "code",
   "execution_count": 4,
   "id": "c48771be-2c7f-4aed-919d-5bc76dc43bd4",
   "metadata": {},
   "outputs": [
    {
     "name": "stdout",
     "output_type": "stream",
     "text": [
      "Configuring full HalvingRandomSearchCV with ~270 initial candidates\n"
     ]
    }
   ],
   "source": [
    "pipeline = Pipeline([\n",
    "    ('tfidf', TfidfVectorizer()),\n",
    "    ('clf', LogisticRegression(solver='saga', max_iter=5000, random_state=42, n_jobs=-1))\n",
    "])\n",
    "\n",
    "param_distributions = [\n",
    "    {\n",
    "        'tfidf__max_features': randint(5000, 20001),\n",
    "        'tfidf__ngram_range': [(1,1), (1,2)],\n",
    "        'tfidf__min_df': randint(1, 6),\n",
    "        'tfidf__max_df': uniform(0.8, 0.2),\n",
    "        'tfidf__stop_words': [None, 'english'],\n",
    "        'clf__penalty': ['l2', 'l1'],\n",
    "        'clf__C': uniform(0.01, 10),\n",
    "        'clf__class_weight': [None, 'balanced'],\n",
    "        'clf__l1_ratio': [None]\n",
    "    },\n",
    "    {\n",
    "        'tfidf__max_features': randint(5000, 20001),\n",
    "        'tfidf__ngram_range': [(1,1), (1,2)],\n",
    "        'tfidf__min_df': randint(1, 6),\n",
    "        'tfidf__max_df': uniform(0.8, 0.2),\n",
    "        'tfidf__stop_words': [None, 'english'],\n",
    "        'clf__penalty': ['elasticnet'],\n",
    "        'clf__C': uniform(0.01, 10),\n",
    "        'clf__l1_ratio': uniform(0, 1),\n",
    "        'clf__class_weight': [None, 'balanced']\n",
    "    }\n",
    "]\n",
    "\n",
    "cv = StratifiedKFold(n_splits=5, shuffle=True, random_state=42)\n",
    "\n",
    "# Define halving search (full run) with adjusted number of candidates to fit ~60x pilot time\n",
    "n_pilot_cand = 9\n",
    "pilot_frac = 0.3\n",
    "scale_factor = 1 / pilot_frac  # ≈3.33\n",
    "n_full_candidates = int(100 * n_pilot_cand / scale_factor)\n",
    "print(f\"Configuring full HalvingRandomSearchCV with ~{n_full_candidates} initial candidates\")  # for sanity check\n",
    "\n",
    "halving_search_full = HalvingRandomSearchCV(\n",
    "    estimator=pipeline,\n",
    "    param_distributions=param_distributions,\n",
    "    n_candidates=n_full_candidates,\n",
    "    factor=3,\n",
    "    resource='n_samples',\n",
    "    max_resources=len(X_train),\n",
    "    min_resources=len(X_train) // (300),\n",
    "    scoring='accuracy',\n",
    "    cv=cv,\n",
    "    verbose=2,\n",
    "    n_jobs=-1,\n",
    "    random_state=42,\n",
    "    return_train_score=True,\n",
    "    error_score='raise'\n",
    ")"
   ]
  },
  {
   "cell_type": "code",
   "execution_count": 5,
   "id": "c1115396-4448-426b-99b9-f026c81a1485",
   "metadata": {},
   "outputs": [
    {
     "name": "stdout",
     "output_type": "stream",
     "text": [
      "n_iterations: 6\n",
      "n_required_iterations: 6\n",
      "n_possible_iterations: 6\n",
      "min_resources_: 100\n",
      "max_resources_: 30000\n",
      "aggressive_elimination: False\n",
      "factor: 3\n",
      "----------\n",
      "iter: 0\n",
      "n_candidates: 270\n",
      "n_resources: 100\n",
      "Fitting 5 folds for each of 270 candidates, totalling 1350 fits\n"
     ]
    },
    {
     "name": "stderr",
     "output_type": "stream",
     "text": [
      "C:\\Users\\mager\\anaconda3\\Lib\\site-packages\\numpy\\ma\\core.py:2820: RuntimeWarning: invalid value encountered in cast\n",
      "  _data = np.array(data, dtype=dtype, copy=copy,\n"
     ]
    },
    {
     "name": "stdout",
     "output_type": "stream",
     "text": [
      "----------\n",
      "iter: 1\n",
      "n_candidates: 90\n",
      "n_resources: 300\n",
      "Fitting 5 folds for each of 90 candidates, totalling 450 fits\n",
      "----------\n",
      "iter: 2\n",
      "n_candidates: 30\n",
      "n_resources: 900\n",
      "Fitting 5 folds for each of 30 candidates, totalling 150 fits\n",
      "----------\n",
      "iter: 3\n",
      "n_candidates: 10\n",
      "n_resources: 2700\n",
      "Fitting 5 folds for each of 10 candidates, totalling 50 fits\n",
      "----------\n",
      "iter: 4\n",
      "n_candidates: 4\n",
      "n_resources: 8100\n",
      "Fitting 5 folds for each of 4 candidates, totalling 20 fits\n",
      "----------\n",
      "iter: 5\n",
      "n_candidates: 2\n",
      "n_resources: 24300\n",
      "Fitting 5 folds for each of 2 candidates, totalling 10 fits\n",
      "Best parameters found: {'clf__C': 8.725368061523762, 'clf__class_weight': 'balanced', 'clf__l1_ratio': 0.6760522571867544, 'clf__penalty': 'elasticnet', 'tfidf__max_df': 0.8891916614020643, 'tfidf__max_features': 13954, 'tfidf__min_df': 3, 'tfidf__ngram_range': (1, 2), 'tfidf__stop_words': None}\n",
      "Best cross-validation accuracy: 0.9911\n"
     ]
    }
   ],
   "source": [
    "halving_search_full.fit(X_train, y_train)\n",
    "\n",
    "print(\"Best parameters found:\", halving_search_full.best_params_)\n",
    "print(f\"Best cross-validation accuracy: {halving_search_full.best_score_:.4f}\")"
   ]
  },
  {
   "cell_type": "code",
   "execution_count": 6,
   "id": "a4a71a88-ffc5-4247-b99d-1a57076283cd",
   "metadata": {},
   "outputs": [
    {
     "name": "stdout",
     "output_type": "stream",
     "text": [
      "Validation Accuracy: 0.993\n",
      "              precision    recall  f1-score   support\n",
      "\n",
      "        Real       1.00      0.99      0.99      3089\n",
      "        Fake       0.99      1.00      0.99      2911\n",
      "\n",
      "    accuracy                           0.99      6000\n",
      "   macro avg       0.99      0.99      0.99      6000\n",
      "weighted avg       0.99      0.99      0.99      6000\n",
      "\n",
      "Confusion Matrix:\n",
      " [[3061   28]\n",
      " [  14 2897]]\n"
     ]
    }
   ],
   "source": [
    "best_model = halving_search_full.best_estimator_\n",
    "val_preds = best_model.predict(X_val)\n",
    "\n",
    "print(\"Validation Accuracy:\", accuracy_score(y_val, val_preds))\n",
    "print(classification_report(y_val, val_preds, target_names=['Real', 'Fake']))\n",
    "print(\"Confusion Matrix:\\n\", confusion_matrix(y_val, val_preds))"
   ]
  },
  {
   "cell_type": "code",
   "execution_count": 7,
   "id": "0bbdbf38-7177-4420-941f-101e01659dd1",
   "metadata": {},
   "outputs": [
    {
     "name": "stdout",
     "output_type": "stream",
     "text": [
      "Test Accuracy: 0.992500302407161\n",
      "              precision    recall  f1-score   support\n",
      "\n",
      "        Real       0.99      0.99      0.99      4284\n",
      "        Fake       0.99      0.99      0.99      3983\n",
      "\n",
      "    accuracy                           0.99      8267\n",
      "   macro avg       0.99      0.99      0.99      8267\n",
      "weighted avg       0.99      0.99      0.99      8267\n",
      "\n",
      "Confusion Matrix:\n",
      " [[4258   26]\n",
      " [  36 3947]]\n"
     ]
    }
   ],
   "source": [
    "test_preds = best_model.predict(X_test)\n",
    "\n",
    "print(\"Test Accuracy:\", accuracy_score(y_test, test_preds))\n",
    "print(classification_report(y_test, test_preds, target_names=['Real', 'Fake']))\n",
    "print(\"Confusion Matrix:\\n\", confusion_matrix(y_test, test_preds))\n"
   ]
  },
  {
   "cell_type": "code",
   "execution_count": 8,
   "id": "08ab3c1b-5e92-46e4-b9c3-332e77d5f18c",
   "metadata": {},
   "outputs": [
    {
     "data": {
      "text/plain": [
       "['best_fake_news_detector_halving_random_search.joblib']"
      ]
     },
     "execution_count": 8,
     "metadata": {},
     "output_type": "execute_result"
    }
   ],
   "source": [
    "joblib.dump(best_model, 'best_fake_news_detector_halving_random_search.joblib')"
   ]
  },
  {
   "cell_type": "code",
   "execution_count": null,
   "id": "96f9eba9-fcca-436c-b93a-69bc0a303baa",
   "metadata": {},
   "outputs": [],
   "source": []
  },
  {
   "cell_type": "code",
   "execution_count": null,
   "id": "88c9c597-3d81-406b-8301-c33b4fd2d6bb",
   "metadata": {},
   "outputs": [],
   "source": []
  },
  {
   "cell_type": "code",
   "execution_count": null,
   "id": "824974e0-c9cf-41ea-b7df-ef8204a6d520",
   "metadata": {},
   "outputs": [],
   "source": []
  }
 ],
 "metadata": {
  "kernelspec": {
   "display_name": "Python [conda env:base] *",
   "language": "python",
   "name": "conda-base-py"
  },
  "language_info": {
   "codemirror_mode": {
    "name": "ipython",
    "version": 3
   },
   "file_extension": ".py",
   "mimetype": "text/x-python",
   "name": "python",
   "nbconvert_exporter": "python",
   "pygments_lexer": "ipython3",
   "version": "3.12.7"
  }
 },
 "nbformat": 4,
 "nbformat_minor": 5
}
