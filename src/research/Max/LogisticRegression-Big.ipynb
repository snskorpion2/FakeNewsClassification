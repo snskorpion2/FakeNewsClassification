{
 "cells": [
  {
   "cell_type": "markdown",
   "id": "ea4c2146-1a43-41bd-bfda-034d3008bdc7",
   "metadata": {},
   "source": [
    "# Logistische Regression - GonzaloA"
   ]
  },
  {
   "cell_type": "code",
   "execution_count": 1,
   "id": "8963ff5d-58bc-4ccd-88e6-6377ff6a2b12",
   "metadata": {},
   "outputs": [],
   "source": [
    "import pandas as pd\n",
    "import numpy as np\n",
    "\n",
    "# Train/validation split\n",
    "from sklearn.model_selection import train_test_split\n",
    "\n",
    "# Text feature extraction\n",
    "from sklearn.feature_extraction.text import TfidfVectorizer\n",
    "\n",
    "# Classifier and evaluation metrics\n",
    "from sklearn.linear_model import LogisticRegression\n",
    "from sklearn.metrics import accuracy_score, classification_report, confusion_matrix\n",
    "\n",
    "# Pipeline utilities\n",
    "from sklearn.pipeline import Pipeline\n",
    "from sklearn.model_selection import train_test_split\n",
    "import pandas as pd\n",
    "from sklearn.feature_extraction.text import HashingVectorizer\n",
    "from sklearn.linear_model import SGDClassifier\n",
    "from sklearn.metrics import accuracy_score, classification_report\n"
   ]
  },
  {
   "cell_type": "code",
   "execution_count": 2,
   "id": "3ba5be13-10ad-489e-89cb-139dc3abc53f",
   "metadata": {},
   "outputs": [],
   "source": [
    "# Parameters\n",
    "CSV_PATH = \"../../data/bigFakeNews/dataFiltered.csv\"\n",
    "CHUNK_SIZE = 100_000  # or tune to your memory limit\n",
    "N_FEATURES = 2**20    # ~1M hashed features; tune higher/lower as needed\n",
    "\n",
    "# Initialize\n",
    "vectorizer = HashingVectorizer(\n",
    "    n_features=N_FEATURES,\n",
    "    alternate_sign=False,\n",
    "    ngram_range=(1,2),\n",
    "    stop_words='english'\n",
    ")\n",
    "clf = SGDClassifier(loss='log_loss', max_iter=1, tol=None, warm_start=True)\n"
   ]
  },
  {
   "cell_type": "code",
   "execution_count": 3,
   "id": "c48771be-2c7f-4aed-919d-5bc76dc43bd4",
   "metadata": {},
   "outputs": [
    {
     "name": "stdout",
     "output_type": "stream",
     "text": [
      "Chunk Accuracy: 0.93711\n",
      "              precision    recall  f1-score   support\n",
      "\n",
      "           0       0.97      0.93      0.95     64929\n",
      "           1       0.88      0.95      0.91     35071\n",
      "\n",
      "    accuracy                           0.94    100000\n",
      "   macro avg       0.93      0.94      0.93    100000\n",
      "weighted avg       0.94      0.94      0.94    100000\n",
      "\n"
     ]
    }
   ],
   "source": [
    "# First pass: partial fit on labeled chunks\n",
    "classes = [0, 1]  # replace with your actual label set (e.g. ['Real', 'Fake'] → [0,1])\n",
    "for chunk in pd.read_csv(CSV_PATH, sep=',', chunksize=CHUNK_SIZE):\n",
    "    texts = (chunk['title'] + \"\\n\" + chunk['text']).tolist()\n",
    "    X_chunk = vectorizer.transform(texts)\n",
    "    y_chunk = chunk['label'].values\n",
    "    clf.partial_fit(X_chunk, y_chunk, classes=classes)\n",
    "\n",
    "# (Optional) Second pass: evaluate on a held‑out chunk\n",
    "test_chunk = next(pd.read_csv(CSV_PATH, sep=',', chunksize=CHUNK_SIZE))\n",
    "X_test = vectorizer.transform((test_chunk['title'] + \"\\n\" + test_chunk['text']).tolist())\n",
    "y_test = test_chunk['label'].values\n",
    "preds = clf.predict(X_test)\n",
    "print(\"Chunk Accuracy:\", accuracy_score(y_test, preds))\n",
    "print(classification_report(y_test, preds))"
   ]
  },
  {
   "cell_type": "code",
   "execution_count": 4,
   "id": "9631ed8a-a8e9-4baa-b6cb-05f4626f6956",
   "metadata": {},
   "outputs": [
    {
     "data": {
      "text/plain": [
       "['hashing_vectorizer.pkl']"
      ]
     },
     "execution_count": 4,
     "metadata": {},
     "output_type": "execute_result"
    }
   ],
   "source": [
    "import joblib\n",
    "\n",
    "# Save classifier and vectorizer separately\n",
    "joblib.dump(clf, 'sgd_news_classifier.pkl')\n",
    "joblib.dump(vectorizer, 'hashing_vectorizer.pkl')"
   ]
  },
  {
   "cell_type": "code",
   "execution_count": null,
   "id": "a4a71a88-ffc5-4247-b99d-1a57076283cd",
   "metadata": {},
   "outputs": [],
   "source": []
  },
  {
   "cell_type": "code",
   "execution_count": null,
   "id": "0bbdbf38-7177-4420-941f-101e01659dd1",
   "metadata": {},
   "outputs": [],
   "source": []
  }
 ],
 "metadata": {
  "kernelspec": {
   "display_name": "Python 3 (ipykernel)",
   "language": "python",
   "name": "python3"
  },
  "language_info": {
   "codemirror_mode": {
    "name": "ipython",
    "version": 3
   },
   "file_extension": ".py",
   "mimetype": "text/x-python",
   "name": "python",
   "nbconvert_exporter": "python",
   "pygments_lexer": "ipython3",
   "version": "3.12.7"
  }
 },
 "nbformat": 4,
 "nbformat_minor": 5
}
