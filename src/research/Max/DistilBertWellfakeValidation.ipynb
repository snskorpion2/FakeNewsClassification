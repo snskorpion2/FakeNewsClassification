{
 "cells": [
  {
   "cell_type": "code",
   "execution_count": 1,
   "id": "389bfec2-9e05-481e-ab20-83d011ce513a",
   "metadata": {},
   "outputs": [],
   "source": [
    "import os"
   ]
  },
  {
   "cell_type": "code",
   "execution_count": 2,
   "id": "208dcf43-da3d-4ddb-902c-6cbec0ecb1ec",
   "metadata": {},
   "outputs": [],
   "source": [
    "import pandas as pd"
   ]
  },
  {
   "cell_type": "code",
   "execution_count": 3,
   "id": "b8d9e345-0abb-4063-a29d-43e2f7f1aef5",
   "metadata": {},
   "outputs": [],
   "source": [
    "import torch"
   ]
  },
  {
   "cell_type": "code",
   "execution_count": 4,
   "id": "7433326e-8d01-4472-a621-4f2402dc656e",
   "metadata": {},
   "outputs": [],
   "source": [
    "from torch.utils.data import Dataset, DataLoader"
   ]
  },
  {
   "cell_type": "code",
   "execution_count": 5,
   "id": "e09645f9-ab7c-4ba2-8b64-2a8e4b2e48d8",
   "metadata": {},
   "outputs": [],
   "source": [
    "from transformers import DistilBertTokenizerFast, DistilBertForSequenceClassification"
   ]
  },
  {
   "cell_type": "code",
   "execution_count": 6,
   "id": "89f15133-5f42-4143-a2fd-507322f24d08",
   "metadata": {},
   "outputs": [],
   "source": [
    "from tqdm.auto import tqdm"
   ]
  },
  {
   "cell_type": "code",
   "execution_count": 7,
   "id": "b71c5b14-4187-43c5-9f1b-ea46d7ff627b",
   "metadata": {},
   "outputs": [],
   "source": [
    "import spacy"
   ]
  },
  {
   "cell_type": "code",
   "execution_count": 8,
   "id": "31bb6846-b39c-4da5-85da-5db77f2b7aee",
   "metadata": {},
   "outputs": [],
   "source": [
    "\n",
    "import random"
   ]
  },
  {
   "cell_type": "code",
   "execution_count": 9,
   "id": "63b82ff2-ad21-4539-98cb-e94ee7c7d5ae",
   "metadata": {},
   "outputs": [
    {
     "name": "stdout",
     "output_type": "stream",
     "text": [
      "Pandas version: 2.3.0\n",
      "SpaCy version: 3.8.7\n",
      "Torch version: 2.7.1+cpu\n",
      "Cuda version: None\n"
     ]
    }
   ],
   "source": [
    "print(\"Pandas version:\", pd.__version__)\n",
    "print(\"SpaCy version:\", spacy.__version__)\n",
    "print(\"Torch version:\", torch.__version__)\n",
    "print(\"Cuda version:\", torch.version.cuda)"
   ]
  },
  {
   "cell_type": "code",
   "execution_count": 10,
   "id": "f726b4c9-9f46-4d8c-a8ff-71a78c42699b",
   "metadata": {},
   "outputs": [
    {
     "name": "stdout",
     "output_type": "stream",
     "text": [
      "Using device: cpu\n"
     ]
    }
   ],
   "source": [
    "device = torch.device('cuda' if torch.cuda.is_available() else 'cpu')\n",
    "print(f\"Using device: {device}\")"
   ]
  },
  {
   "cell_type": "code",
   "execution_count": 11,
   "id": "e9782f6a-dcee-4355-a56b-50cd6ea0b736",
   "metadata": {},
   "outputs": [
    {
     "name": "stdout",
     "output_type": "stream",
     "text": [
      "Sampled shape: (100, 3)\n"
     ]
    }
   ],
   "source": [
    "# 1. Path & fraction\n",
    "data_path   = os.path.join('../../data', 'bigFakeNews', 'dataFiltered.csv')\n",
    "df = pd.read_csv(data_path, nrows=100)\n",
    "\n",
    "print(f\"Sampled shape: {df.shape}\")\n"
   ]
  },
  {
   "cell_type": "code",
   "execution_count": 12,
   "id": "1fed34bc-5d04-43c3-ace2-d10b1bce1560",
   "metadata": {},
   "outputs": [],
   "source": [
    "# 2. Prepare list of strings\n",
    "texts = df['text'].astype(str).tolist()\n",
    "\n",
    "# Preprocessing\n",
    "nlp = spacy.load(\"en_core_web_sm\")\n",
    "\n",
    "\n",
    "#    - batch_size: how many texts per batch  \n",
    "#    - n_process: number of CPU cores to use (set to 1 on Windows)\n",
    "docs = nlp.pipe(texts, batch_size=10, n_process=1)"
   ]
  },
  {
   "cell_type": "code",
   "execution_count": 13,
   "id": "92692c0c-b0a7-415f-83c3-f5b4b0d624eb",
   "metadata": {},
   "outputs": [
    {
     "name": "stdout",
     "output_type": "stream",
     "text": [
      "Processed 10/100 texts (10.0%)\n",
      "Processed 20/100 texts (20.0%)\n",
      "Processed 30/100 texts (30.0%)\n",
      "Processed 40/100 texts (40.0%)\n",
      "Processed 50/100 texts (50.0%)\n",
      "Processed 60/100 texts (60.0%)\n",
      "Processed 70/100 texts (70.0%)\n",
      "Processed 80/100 texts (80.0%)\n",
      "Processed 90/100 texts (90.0%)\n",
      "Processed 100/100 texts (100.0%)\n"
     ]
    }
   ],
   "source": [
    "\n",
    "\n",
    "processed_texts = []\n",
    "for i, doc in enumerate(docs, start=1):\n",
    "    tokens = (\n",
    "        token.lemma_.lower()\n",
    "        for token in doc\n",
    "        if not token.is_stop and not token.is_punct\n",
    "    )\n",
    "    processed_texts.append(\" \".join(tokens))\n",
    "    \n",
    "    # every 10 000 docs, print a status line\n",
    "    if i % 10 == 0 or i == len(texts):\n",
    "        print(f\"Processed {i}/{len(texts)} texts ({i/len(texts)*100:.1f}%)\")\n",
    "        \n",
    "df['text'] = processed_texts"
   ]
  },
  {
   "cell_type": "code",
   "execution_count": 14,
   "id": "bfb73d72-7dc3-4221-ac1e-10bdca69007f",
   "metadata": {},
   "outputs": [],
   "source": [
    "#df.to_pickle(\"data_with_clean_text.pkl\")"
   ]
  },
  {
   "cell_type": "code",
   "execution_count": 15,
   "id": "884352f1-c1c4-4b0d-bbdb-a310765be37e",
   "metadata": {},
   "outputs": [
    {
     "name": "stdout",
     "output_type": "stream",
     "text": [
      "Tokenizer and model loaded successfully.\n"
     ]
    }
   ],
   "source": [
    "model_dir = './models/Saurabh Shahane-DistilBert-simple'\n",
    "# Load tokenizer\n",
    "tokenizer = DistilBertTokenizerFast.from_pretrained(model_dir)\n",
    "# Load model\n",
    "model = DistilBertForSequenceClassification.from_pretrained(model_dir)\n",
    "model.to(device)\n",
    "model.eval()\n",
    "print(\"Tokenizer and model loaded successfully.\")"
   ]
  },
  {
   "cell_type": "code",
   "execution_count": 16,
   "id": "b0de92bb-e145-44e0-a707-9a5015ccae1e",
   "metadata": {},
   "outputs": [
    {
     "name": "stdout",
     "output_type": "stream",
     "text": [
      "DataLoader ready with 100 samples.\n"
     ]
    }
   ],
   "source": [
    "class FakeNewsDataset(Dataset):\n",
    "    def __init__(self, texts, labels, tokenizer, max_length=512):\n",
    "        self.texts = texts\n",
    "        self.labels = labels\n",
    "        self.tokenizer = tokenizer\n",
    "        self.max_length = max_length\n",
    "\n",
    "    def __len__(self):\n",
    "        return len(self.texts)\n",
    "\n",
    "    def __getitem__(self, idx):\n",
    "        encoding = self.tokenizer(\n",
    "            self.texts[idx],\n",
    "            truncation=True,\n",
    "            padding='max_length',\n",
    "            max_length=self.max_length,\n",
    "            return_tensors='pt'\n",
    "        )\n",
    "        item = {key: val.squeeze() for key, val in encoding.items()}\n",
    "        item['label'] = torch.tensor(self.labels[idx], dtype=torch.long)\n",
    "        return item\n",
    "\n",
    "# Instantiate dataset and DataLoader\n",
    "dataset = FakeNewsDataset(\n",
    "    texts=df['text'].tolist(),\n",
    "    labels=df['label'].tolist(),\n",
    "    tokenizer=tokenizer\n",
    ")\n",
    "loader = DataLoader(dataset, batch_size=32)\n",
    "print(f\"DataLoader ready with {len(dataset)} samples.\")"
   ]
  },
  {
   "cell_type": "code",
   "execution_count": 17,
   "id": "3f0e1770-c0bb-49e3-8ec4-97f5bd185c66",
   "metadata": {},
   "outputs": [
    {
     "data": {
      "application/vnd.jupyter.widget-view+json": {
       "model_id": "253a2bfb0c064601922cb0353118a36a",
       "version_major": 2,
       "version_minor": 0
      },
      "text/plain": [
       "Inference:   0%|          | 0/4 [00:00<?, ?it/s]"
      ]
     },
     "metadata": {},
     "output_type": "display_data"
    },
    {
     "name": "stdout",
     "output_type": "stream",
     "text": [
      "\n",
      "Accuracy on full dataset: 0.2300 (23/100)\n"
     ]
    }
   ],
   "source": [
    "all_preds = []\n",
    "all_labels = []\n",
    "with torch.no_grad():\n",
    "    for batch in tqdm(loader, desc=\"Inference\"):\n",
    "        inputs = {k: v.to(device) for k, v in batch.items() if k in ['input_ids','attention_mask']}\n",
    "        labels = batch['label'].to(device)\n",
    "        outputs = model(**inputs)\n",
    "        logits = outputs.logits\n",
    "        preds = torch.argmax(logits, dim=-1)\n",
    "        all_preds.extend(preds.cpu().numpy())\n",
    "        all_labels.extend(labels.cpu().numpy())\n",
    "# Compute overall accuracy\n",
    "correct = sum(p == l for p, l in zip(all_preds, all_labels))\n",
    "total = len(all_labels)\n",
    "accuracy = correct / total\n",
    "print(f\"\\nAccuracy on full dataset: {accuracy:.4f} ({correct}/{total})\")"
   ]
  },
  {
   "cell_type": "code",
   "execution_count": 18,
   "id": "f8bfc10e-c0d2-41b2-8376-d3217a7d905b",
   "metadata": {},
   "outputs": [
    {
     "data": {
      "text/html": [
       "<div>\n",
       "<style scoped>\n",
       "    .dataframe tbody tr th:only-of-type {\n",
       "        vertical-align: middle;\n",
       "    }\n",
       "\n",
       "    .dataframe tbody tr th {\n",
       "        vertical-align: top;\n",
       "    }\n",
       "\n",
       "    .dataframe thead th {\n",
       "        text-align: right;\n",
       "    }\n",
       "</style>\n",
       "<table border=\"1\" class=\"dataframe\">\n",
       "  <thead>\n",
       "    <tr style=\"text-align: right;\">\n",
       "      <th></th>\n",
       "      <th>text</th>\n",
       "      <th>label</th>\n",
       "      <th>prediction</th>\n",
       "    </tr>\n",
       "  </thead>\n",
       "  <tbody>\n",
       "    <tr>\n",
       "      <th>0</th>\n",
       "      <td>abigail ratchford‘s instagram page force recko...</td>\n",
       "      <td>0</td>\n",
       "      <td>1</td>\n",
       "    </tr>\n",
       "    <tr>\n",
       "      <th>1</th>\n",
       "      <td>say love like sweat stain scratch toe curl rom...</td>\n",
       "      <td>0</td>\n",
       "      <td>1</td>\n",
       "    </tr>\n",
       "    <tr>\n",
       "      <th>2</th>\n",
       "      <td>ryan kovacik vcu premed student certify emt pe...</td>\n",
       "      <td>0</td>\n",
       "      <td>1</td>\n",
       "    </tr>\n",
       "    <tr>\n",
       "      <th>3</th>\n",
       "      <td>quarter beer pong boat race flip cup perfectly...</td>\n",
       "      <td>0</td>\n",
       "      <td>0</td>\n",
       "    </tr>\n",
       "    <tr>\n",
       "      <th>4</th>\n",
       "      <td>tonight \\n\\n sophia bush chicago pd \\n\\n 10 pm...</td>\n",
       "      <td>0</td>\n",
       "      <td>0</td>\n",
       "    </tr>\n",
       "    <tr>\n",
       "      <th>5</th>\n",
       "      <td>rate \\n\\n oooouuuuuuuucchh f**k get hurt help ...</td>\n",
       "      <td>0</td>\n",
       "      <td>1</td>\n",
       "    </tr>\n",
       "    <tr>\n",
       "      <th>6</th>\n",
       "      <td>say say new series design help dude understand...</td>\n",
       "      <td>0</td>\n",
       "      <td>1</td>\n",
       "    </tr>\n",
       "    <tr>\n",
       "      <th>7</th>\n",
       "      <td>say say new dating sex relationship series des...</td>\n",
       "      <td>0</td>\n",
       "      <td>1</td>\n",
       "    </tr>\n",
       "    <tr>\n",
       "      <th>8</th>\n",
       "      <td>say say coed dating sex relationship debate se...</td>\n",
       "      <td>0</td>\n",
       "      <td>1</td>\n",
       "    </tr>\n",
       "    <tr>\n",
       "      <th>9</th>\n",
       "      <td>converse 1 choice 1920s b ball star indie rock...</td>\n",
       "      <td>0</td>\n",
       "      <td>1</td>\n",
       "    </tr>\n",
       "  </tbody>\n",
       "</table>\n",
       "</div>"
      ],
      "text/plain": [
       "                                                text  label  prediction\n",
       "0  abigail ratchford‘s instagram page force recko...      0           1\n",
       "1  say love like sweat stain scratch toe curl rom...      0           1\n",
       "2  ryan kovacik vcu premed student certify emt pe...      0           1\n",
       "3  quarter beer pong boat race flip cup perfectly...      0           0\n",
       "4  tonight \\n\\n sophia bush chicago pd \\n\\n 10 pm...      0           0\n",
       "5  rate \\n\\n oooouuuuuuuucchh f**k get hurt help ...      0           1\n",
       "6  say say new series design help dude understand...      0           1\n",
       "7  say say new dating sex relationship series des...      0           1\n",
       "8  say say coed dating sex relationship debate se...      0           1\n",
       "9  converse 1 choice 1920s b ball star indie rock...      0           1"
      ]
     },
     "execution_count": 18,
     "metadata": {},
     "output_type": "execute_result"
    }
   ],
   "source": [
    "# Display a small sample of predictions\n",
    "df_results = pd.DataFrame({\n",
    "    'text': df['text'].iloc[:10],\n",
    "    'label': df['label'].iloc[:10],\n",
    "    'prediction': all_preds[:10]\n",
    "})\n",
    "df_results"
   ]
  },
  {
   "cell_type": "code",
   "execution_count": null,
   "id": "53c86499-aad7-4dcf-b1bb-d5bc6b9607b5",
   "metadata": {},
   "outputs": [],
   "source": []
  }
 ],
 "metadata": {
  "kernelspec": {
   "display_name": "Python 3 (ipykernel)",
   "language": "python",
   "name": "python3"
  },
  "language_info": {
   "codemirror_mode": {
    "name": "ipython",
    "version": 3
   },
   "file_extension": ".py",
   "mimetype": "text/x-python",
   "name": "python",
   "nbconvert_exporter": "python",
   "pygments_lexer": "ipython3",
   "version": "3.12.7"
  }
 },
 "nbformat": 4,
 "nbformat_minor": 5
}
