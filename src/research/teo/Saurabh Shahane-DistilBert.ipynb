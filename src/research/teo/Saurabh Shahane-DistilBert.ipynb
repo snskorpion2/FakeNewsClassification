{
 "cells": [
  {
   "cell_type": "code",
   "execution_count": 1,
   "id": "f955558f",
   "metadata": {},
   "outputs": [],
   "source": [
    "# Imports\n",
    "import pandas as pd\n",
    "import spacy\n",
    "import torch\n",
    "import transformers\n",
    "from transformers import DistilBertTokenizerFast, DistilBertForSequenceClassification\n",
    "from transformers import TrainingArguments, Trainer\n",
    "from sklearn.metrics import classification_report\n",
    "from sklearn.model_selection import train_test_split\n",
    "from datasets import Dataset\n",
    "from pandarallel import pandarallel"
   ]
  },
  {
   "cell_type": "code",
   "execution_count": 2,
   "id": "066a7e41",
   "metadata": {},
   "outputs": [
    {
     "name": "stdout",
     "output_type": "stream",
     "text": [
      "Pandas version: 2.3.0\n",
      "SpaCy version: 3.8.7\n",
      "Transformers version: 4.52.4\n",
      "Torch version: 2.5.1+cu121\n",
      "Cuda version: 12.1\n",
      "GPU: NVIDIA GeForce RTX 2060 SUPER\n",
      "INFO: Pandarallel will run on 6 workers.\n",
      "INFO: Pandarallel will use standard multiprocessing data transfer (pipe) to transfer data between the main process and workers.\n",
      "\n",
      "WARNING: You are on Windows. If you detect any issue with pandarallel, be sure you checked out the Troubleshooting page:\n",
      "https://nalepae.github.io/pandarallel/troubleshooting/\n"
     ]
    }
   ],
   "source": [
    "# Version Checks\n",
    "print(\"Pandas version:\", pd.__version__)\n",
    "print(\"SpaCy version:\", spacy.__version__)\n",
    "print(\"Transformers version:\", transformers.__version__)\n",
    "print(\"Torch version:\", torch.__version__)\n",
    "print(\"Cuda version:\", torch.version.cuda)\n",
    "\n",
    "if torch.cuda.is_available():\n",
    "    print(\"GPU:\", torch.cuda.get_device_name(0))\n",
    "\n",
    "# Initialize Parallelization\n",
    "pandarallel.initialize(progress_bar=True)"
   ]
  },
  {
   "cell_type": "code",
   "execution_count": 3,
   "id": "3a5420f8",
   "metadata": {},
   "outputs": [
    {
     "name": "stdout",
     "output_type": "stream",
     "text": [
      "Train: (50493, 4)\n",
      "Eval:  (10820, 4)\n",
      "Test:  (10821, 4)\n",
      "       Unnamed: 0                                              title  \\\n",
      "24388       24388  THE FACE OF THE DEMOCRAT PARTY Has A Message F...   \n",
      "40608       40608  INCOMING FRESHMEN Are Put On Notice With Welco...   \n",
      "66652       66652  REPUBLICANS CALL FOR ANSWERS: Did Wasserman-Sc...   \n",
      "71224       71224  EXTORTION? HOW IRAN Used Nuke Deal To Force Ob...   \n",
      "17060       17060  Democrats want strong response to intel report...   \n",
      "\n",
      "                                                    text  label  \n",
      "24388  This ass-clown reminds us of why term limits a...      1  \n",
      "40608  Wow! The University of Chicago sends impressiv...      1  \n",
      "66652  Busted! Even moderate Republican Susan Collins...      1  \n",
      "71224  If I were a European and was forced to deal wi...      1  \n",
      "17060  WASHINGTON (Reuters) - The top Democrats on th...      0  \n"
     ]
    }
   ],
   "source": [
    "# Data Path\n",
    "csv_path = \"../../data/Saurabh Shahane - Fake_News_Classification/WELFake_Dataset.csv\"\n",
    "\n",
    "# Read with semicolon separator\n",
    "df = pd.read_csv(csv_path, sep=',')\n",
    "\n",
    "# Split Data\n",
    "df_train, df_temp = train_test_split(df, test_size=0.3, random_state=42, stratify=df['label'])\n",
    "df_val, df_test = train_test_split(df_temp, test_size=0.5, random_state=42, stratify=df_temp['label'])\n",
    "\n",
    "# Quick sanity check\n",
    "print(\"Train:\", df_train.shape)\n",
    "print(\"Eval: \", df_val.shape)\n",
    "print(\"Test: \", df_test.shape)\n",
    "\n",
    "# first 5 rows of dataset\n",
    "print(df_train.head(5))"
   ]
  },
  {
   "cell_type": "code",
   "execution_count": 9,
   "id": "c10f29a9",
   "metadata": {},
   "outputs": [],
   "source": [
    "# Preprocessing\n",
    "def preprocess_text(text):\n",
    "    import spacy\n",
    "    nlp = spacy.load(\"en_core_web_sm\")\n",
    "    doc = nlp(text)\n",
    "    tokens = [token.lemma_.lower() for token in doc if not token.is_stop and not token.is_punct]\n",
    "    return \" \".join(tokens)"
   ]
  },
  {
   "cell_type": "code",
   "execution_count": 10,
   "id": "a4b4cb8b",
   "metadata": {},
   "outputs": [
    {
     "name": "stdout",
     "output_type": "stream",
     "text": [
      "24388                                                                                                                                                                                                                                                                                                                                                                                        ass clown remind term limit important leisa see rep. rangel d ny close personal week visit capitol building guest rep. mike bishop r mi shock people elect represent nation 20 house member look like roam hall nursing home   hall congress   people business make decision behalf country charlie rangel perfect example assertion s secret democrats t stand tea party rarely express hatred loud like rep. charlie rangel moment catch camera democrat congressman let reporter know think coalition citizen believe individual liberty small government undoubtedly constituents).theblaze report rep. charlie rangel d n.y. harsh word tea party republicans town hall host tuesday new york city outspoken democrat ask theblaze think motivate conservative wing house republicans come state slave   rangel say tea party colleague   come state confederate army pledge allegiance come state ku klux klan voter right thing come play t]hey leave democratic party thank god join republican party like   rangel add get comment video deneenborelli\n",
      "40608                                                                                                                                                                                                                                                                                                                                                                                                                                                                                                                                                                                                                                                                                                         wow university chicago send impressive letter income freshman warn freedom speech alive college letter make pretty clear join hundred college america squelch free speech right disagree black life matter progressive social justice warrior nonsense student university illinois chicago hyde park campus threaten shoot campus   kill white devil november 2015 shooting young black man police chicago school decision shut campus day college need social justice warrior black life matter terror movement get hand college campus year welcome letter freshman college clear condone safe space trigger warning pic.twitter.com/9ep3n0zbgv   chicago maroon @chicagomaroon august 24 2016here video show shut university chicago campus\n",
      "66652    bust moderate republican susan collins maine say well question wasserman schultz wouldn t know payment fusion gps s difficult imagine campaign chairman head dnc know expenditure magnitude significance john podesta testify month know payment dossier trump oops republicans want answer congressional republicans sunday call democrats john podesta rep. debbie wasserman schultz provide answer party pay dossier president trump s allege tie russia tell senate investigator month knowledge payment wasserman schultz chairman democratic national committee podesta chairman hillary clinton s 2016 presidential campaign group purportedly pay million research lead dossier washington post report week trey gowdy chairman house oversight committee suggest   fox news sunday   dnc pay law firm call opposition research connect dossier tantamount money laundering m election law expert good news don t understand absurdity believe launder campaign money hire law firm   say gowdy federal prosecutor   m interested question podesta wasserman schultz tell senate intelligence committee month didn t know pay dossier interested share memory trick folk dnc remember pay $ 10 million law firm oppo research   gowdy say   find stunning $ 10 million remember authorize approve say   good idea question issue fox news week capitol hill wasserman schultz say   wasn t aware arrangement know arrangement?read fox news\n",
      "71224                                                                                                                                                                                                                                                                                                                                                                                                                                                                                                                                                                                                                                                                                                                                                                                                                                                                                                                                                                                               european force deal massive influx muslim refugee syria d point finger president obama clearly t come cave iran foreign affairs journalist wall street journal jay solomon tell msnbc s andrea mitchell iran actually threaten end nuke talk obama enforce   red line   threat iran:.@wsjsolomon iran threaten end nuclear talk @potus enforce red line assad chemical attack pic.twitter.com/czfefa2k10   kenan rahmani    @kenanrahmani august 22 2016\n",
      "17060                                                                                                                                                                                                                                                                                                                                                                                                                                                                                                                                                                                                                                                                                                                                                                                                                                                                                                                                                                                    washington reuters democrats u.s. senate house representatives intelligence committee say friday report russian activity relate 2016 u.s. election inspire strong response prevent repeat strength america democracy measure respond step develop   robust proactive cyber strategy say mark warner democrat senate panel representative adam schiff counterpart house panel say congress undertake thorough investigation determine happen protect u.s. government\n",
      "Name: text, dtype: object\n"
     ]
    }
   ],
   "source": [
    "# Test Preprocessing (can be skipped)\n",
    "df_train_sample = df_train[:5]['text'].astype(str).apply(preprocess_text)\n",
    "\n",
    "with pd.option_context('display.max_colwidth', None):\n",
    "    print(df_train_sample)"
   ]
  },
  {
   "cell_type": "code",
   "execution_count": 11,
   "id": "b493f436",
   "metadata": {},
   "outputs": [
    {
     "data": {
      "application/vnd.jupyter.widget-view+json": {
       "model_id": "1389d9f810af4f37a2530a5d9849ad25",
       "version_major": 2,
       "version_minor": 0
      },
      "text/plain": [
       "VBox(children=(HBox(children=(IntProgress(value=0, description='0.00%', max=8416), Label(value='0 / 8416'))), …"
      ]
     },
     "metadata": {},
     "output_type": "display_data"
    },
    {
     "data": {
      "application/vnd.jupyter.widget-view+json": {
       "model_id": "fa9df28efde741cfacf4854d0bcd9b67",
       "version_major": 2,
       "version_minor": 0
      },
      "text/plain": [
       "VBox(children=(HBox(children=(IntProgress(value=0, description='0.00%', max=1804), Label(value='0 / 1804'))), …"
      ]
     },
     "metadata": {},
     "output_type": "display_data"
    },
    {
     "name": "stdout",
     "output_type": "stream",
     "text": [
      "24388    ass clown remind term limit important leisa se...\n",
      "40608    wow university chicago send impressive letter ...\n",
      "66652    bust moderate republican susan collins maine s...\n",
      "71224    european force deal massive influx muslim refu...\n",
      "17060    washington reuters democrats u.s. senate house...\n",
      "Name: text, dtype: object\n"
     ]
    }
   ],
   "source": [
    "# Apply Preprocessing\n",
    "df_train['text'] = df_train['text'].astype(str).parallel_apply(preprocess_text)\n",
    "df_test['text'] = df_test['text'].astype(str).parallel_apply(preprocess_text)\n",
    "\n",
    "print(df_train['text'].head(5))"
   ]
  },
  {
   "cell_type": "code",
   "execution_count": 12,
   "id": "435dd4eb",
   "metadata": {},
   "outputs": [],
   "source": [
    "\n",
    "# Load Tokenizer\n",
    "tokenizer = DistilBertTokenizerFast.from_pretrained('distilbert-base-uncased')\n",
    "\n",
    "# Tokenizing\n",
    "train_encodings = tokenizer(list(df_train['text']), truncation=True, padding=True)\n",
    "test_encodings = tokenizer(list(df_test['text']), truncation=True, padding=True)"
   ]
  },
  {
   "cell_type": "code",
   "execution_count": 13,
   "id": "de7008cd",
   "metadata": {},
   "outputs": [
    {
     "name": "stderr",
     "output_type": "stream",
     "text": [
      "Some weights of DistilBertForSequenceClassification were not initialized from the model checkpoint at distilbert-base-uncased and are newly initialized: ['classifier.bias', 'classifier.weight', 'pre_classifier.bias', 'pre_classifier.weight']\n",
      "You should probably TRAIN this model on a down-stream task to be able to use it for predictions and inference.\n"
     ]
    },
    {
     "data": {
      "text/html": [
       "\n",
       "    <div>\n",
       "      \n",
       "      <progress value='3156' max='3156' style='width:300px; height:20px; vertical-align: middle;'></progress>\n",
       "      [3156/3156 18:44, Epoch 2/2]\n",
       "    </div>\n",
       "    <table border=\"1\" class=\"dataframe\">\n",
       "  <thead>\n",
       " <tr style=\"text-align: left;\">\n",
       "      <th>Epoch</th>\n",
       "      <th>Training Loss</th>\n",
       "      <th>Validation Loss</th>\n",
       "      <th>Accuracy</th>\n",
       "      <th>F1</th>\n",
       "    </tr>\n",
       "  </thead>\n",
       "  <tbody>\n",
       "    <tr>\n",
       "      <td>1</td>\n",
       "      <td>0.036800</td>\n",
       "      <td>0.053573</td>\n",
       "      <td>0.984105</td>\n",
       "      <td>0.984107</td>\n",
       "    </tr>\n",
       "    <tr>\n",
       "      <td>2</td>\n",
       "      <td>0.011000</td>\n",
       "      <td>0.044878</td>\n",
       "      <td>0.988726</td>\n",
       "      <td>0.988726</td>\n",
       "    </tr>\n",
       "  </tbody>\n",
       "</table><p>"
      ],
      "text/plain": [
       "<IPython.core.display.HTML object>"
      ]
     },
     "metadata": {},
     "output_type": "display_data"
    },
    {
     "data": {
      "text/html": [],
      "text/plain": [
       "<IPython.core.display.HTML object>"
      ]
     },
     "metadata": {},
     "output_type": "display_data"
    },
    {
     "name": "stdout",
     "output_type": "stream",
     "text": [
      "              precision    recall  f1-score   support\n",
      "\n",
      "           0       0.99      0.99      0.99      5255\n",
      "           1       0.99      0.99      0.99      5566\n",
      "\n",
      "    accuracy                           0.99     10821\n",
      "   macro avg       0.99      0.99      0.99     10821\n",
      "weighted avg       0.99      0.99      0.99     10821\n",
      "\n"
     ]
    }
   ],
   "source": [
    "\n",
    "# Translate to Huggingface Dataset Format\n",
    "train_dataset = Dataset.from_dict({\n",
    "    'input_ids': train_encodings['input_ids'],\n",
    "    'attention_mask': train_encodings['attention_mask'],\n",
    "    'label': list(df_train['label'])\n",
    "})\n",
    "\n",
    "test_dataset = Dataset.from_dict({\n",
    "    'input_ids': test_encodings['input_ids'],\n",
    "    'attention_mask': test_encodings['attention_mask'],\n",
    "    'label': list(df_test['label'])\n",
    "})\n",
    "\n",
    "# Load Model\n",
    "model = DistilBertForSequenceClassification.from_pretrained('distilbert-base-uncased', num_labels=2)\n",
    "\n",
    "# Training Parameters\n",
    "training_args = TrainingArguments(\n",
    "    output_dir='./results',\n",
    "    eval_strategy=\"epoch\",\n",
    "    save_strategy=\"epoch\",\n",
    "    fp16=True,\n",
    "    per_device_train_batch_size=32,\n",
    "    per_device_eval_batch_size=16,\n",
    "    num_train_epochs=2,\n",
    "    weight_decay=0.01,\n",
    "    logging_dir='./logs',\n",
    "    logging_steps=50,\n",
    "    load_best_model_at_end=True,\n",
    "    metric_for_best_model=\"accuracy\"\n",
    ")\n",
    "\n",
    "# Define Metrics\n",
    "def compute_metrics(eval_pred):\n",
    "    logits, labels = eval_pred\n",
    "    preds = torch.argmax(torch.tensor(logits), dim=1)\n",
    "    report = classification_report(labels, preds, output_dict=True)\n",
    "    return {\n",
    "        \"accuracy\": report[\"accuracy\"],\n",
    "        \"f1\": report[\"weighted avg\"][\"f1-score\"]\n",
    "    }\n",
    "\n",
    "# Define Trainer\n",
    "trainer = Trainer(\n",
    "    model=model,\n",
    "    args=training_args,\n",
    "    train_dataset=train_dataset,\n",
    "    eval_dataset=test_dataset,\n",
    "    compute_metrics=compute_metrics\n",
    ")\n",
    "\n",
    "# Start Training\n",
    "trainer.train()\n",
    "\n",
    "# Evaluation\n",
    "predictions = trainer.predict(test_dataset)\n",
    "pred_labels = torch.argmax(torch.tensor(predictions.predictions), dim=1)\n",
    "print(classification_report(df_test['label'], pred_labels))\n"
   ]
  },
  {
   "cell_type": "code",
   "execution_count": null,
   "id": "e74ca51d",
   "metadata": {},
   "outputs": [
    {
     "data": {
      "text/plain": [
       "('GonzaloA-DistilBert-simple\\\\tokenizer_config.json',\n",
       " 'GonzaloA-DistilBert-simple\\\\special_tokens_map.json',\n",
       " 'GonzaloA-DistilBert-simple\\\\vocab.txt',\n",
       " 'GonzaloA-DistilBert-simple\\\\added_tokens.json',\n",
       " 'GonzaloA-DistilBert-simple\\\\tokenizer.json')"
      ]
     },
     "execution_count": 14,
     "metadata": {},
     "output_type": "execute_result"
    }
   ],
   "source": [
    "model.save_pretrained(\"GonzaloA-DistilBert-simple\")\n",
    "tokenizer.save_pretrained(\"GonzaloA-DistilBert-simple\")"
   ]
  }
 ],
 "metadata": {
  "kernelspec": {
   "display_name": ".venv",
   "language": "python",
   "name": "python3"
  },
  "language_info": {
   "codemirror_mode": {
    "name": "ipython",
    "version": 3
   },
   "file_extension": ".py",
   "mimetype": "text/x-python",
   "name": "python",
   "nbconvert_exporter": "python",
   "pygments_lexer": "ipython3",
   "version": "3.11.0"
  }
 },
 "nbformat": 4,
 "nbformat_minor": 5
}
