{
 "cells": [
  {
   "cell_type": "code",
   "execution_count": 15,
   "id": "f955558f",
   "metadata": {},
   "outputs": [],
   "source": [
    "# Imports\n",
    "import pandas as pd\n",
    "import spacy\n",
    "import transformers\n",
    "from transformers import DistilBertTokenizerFast, DistilBertForSequenceClassification\n",
    "from transformers import TrainingArguments, Trainer\n",
    "from sklearn.metrics import classification_report\n",
    "from datasets import Dataset\n",
    "import torch"
   ]
  },
  {
   "cell_type": "code",
   "execution_count": 16,
   "id": "066a7e41",
   "metadata": {},
   "outputs": [
    {
     "name": "stdout",
     "output_type": "stream",
     "text": [
      "Pandas version: 2.3.0\n",
      "SpaCy version: 3.8.7\n",
      "Transformers version: 4.52.4\n",
      "Torch version: 2.6.0+cpu\n",
      "Cuda version: None\n"
     ]
    }
   ],
   "source": [
    "# Version Checks\n",
    "print(\"Pandas version:\", pd.__version__)\n",
    "print(\"SpaCy version:\", spacy.__version__)\n",
    "print(\"Transformers version:\", transformers.__version__)\n",
    "print(\"Torch version:\", torch.__version__)\n",
    "print(\"Cuda version:\", torch.version.cuda)\n",
    "\n",
    "if torch.cuda.is_available():\n",
    "    print(\"GPU:\", torch.cuda.get_device_name(0))"
   ]
  },
  {
   "cell_type": "code",
   "execution_count": 7,
   "id": "ff494026",
   "metadata": {},
   "outputs": [
    {
     "name": "stdout",
     "output_type": "stream",
     "text": [
      "TrainingArguments(\n",
      "_n_gpu=0,\n",
      "accelerator_config={'split_batches': False, 'dispatch_batches': None, 'even_batches': True, 'use_seedable_sampler': True, 'non_blocking': False, 'gradient_accumulation_kwargs': None, 'use_configured_state': False},\n",
      "adafactor=False,\n",
      "adam_beta1=0.9,\n",
      "adam_beta2=0.999,\n",
      "adam_epsilon=1e-08,\n",
      "auto_find_batch_size=False,\n",
      "average_tokens_across_devices=False,\n",
      "batch_eval_metrics=False,\n",
      "bf16=False,\n",
      "bf16_full_eval=False,\n",
      "data_seed=None,\n",
      "dataloader_drop_last=False,\n",
      "dataloader_num_workers=0,\n",
      "dataloader_persistent_workers=False,\n",
      "dataloader_pin_memory=True,\n",
      "dataloader_prefetch_factor=None,\n",
      "ddp_backend=None,\n",
      "ddp_broadcast_buffers=None,\n",
      "ddp_bucket_cap_mb=None,\n",
      "ddp_find_unused_parameters=None,\n",
      "ddp_timeout=1800,\n",
      "debug=[],\n",
      "deepspeed=None,\n",
      "disable_tqdm=False,\n",
      "do_eval=True,\n",
      "do_predict=False,\n",
      "do_train=False,\n",
      "eval_accumulation_steps=None,\n",
      "eval_delay=0,\n",
      "eval_do_concat_batches=True,\n",
      "eval_on_start=False,\n",
      "eval_steps=None,\n",
      "eval_strategy=IntervalStrategy.EPOCH,\n",
      "eval_use_gather_object=False,\n",
      "fp16=False,\n",
      "fp16_backend=auto,\n",
      "fp16_full_eval=False,\n",
      "fp16_opt_level=O1,\n",
      "fsdp=[],\n",
      "fsdp_config={'min_num_params': 0, 'xla': False, 'xla_fsdp_v2': False, 'xla_fsdp_grad_ckpt': False},\n",
      "fsdp_min_num_params=0,\n",
      "fsdp_transformer_layer_cls_to_wrap=None,\n",
      "full_determinism=False,\n",
      "gradient_accumulation_steps=1,\n",
      "gradient_checkpointing=False,\n",
      "gradient_checkpointing_kwargs=None,\n",
      "greater_is_better=None,\n",
      "group_by_length=False,\n",
      "half_precision_backend=auto,\n",
      "hub_always_push=False,\n",
      "hub_model_id=None,\n",
      "hub_private_repo=None,\n",
      "hub_strategy=HubStrategy.EVERY_SAVE,\n",
      "hub_token=<HUB_TOKEN>,\n",
      "ignore_data_skip=False,\n",
      "include_for_metrics=[],\n",
      "include_inputs_for_metrics=False,\n",
      "include_num_input_tokens_seen=False,\n",
      "include_tokens_per_second=False,\n",
      "jit_mode_eval=False,\n",
      "label_names=None,\n",
      "label_smoothing_factor=0.0,\n",
      "learning_rate=5e-05,\n",
      "length_column_name=length,\n",
      "load_best_model_at_end=False,\n",
      "local_rank=0,\n",
      "log_level=passive,\n",
      "log_level_replica=warning,\n",
      "log_on_each_node=True,\n",
      "logging_dir=./results\\runs\\Jun08_01-38-31_DESKTOP-35HFH8P,\n",
      "logging_first_step=False,\n",
      "logging_nan_inf_filter=True,\n",
      "logging_steps=500,\n",
      "logging_strategy=IntervalStrategy.STEPS,\n",
      "lr_scheduler_kwargs={},\n",
      "lr_scheduler_type=SchedulerType.LINEAR,\n",
      "max_grad_norm=1.0,\n",
      "max_steps=-1,\n",
      "metric_for_best_model=None,\n",
      "mp_parameters=,\n",
      "neftune_noise_alpha=None,\n",
      "no_cuda=False,\n",
      "num_train_epochs=3,\n",
      "optim=OptimizerNames.ADAMW_TORCH,\n",
      "optim_args=None,\n",
      "optim_target_modules=None,\n",
      "output_dir=./results,\n",
      "overwrite_output_dir=False,\n",
      "past_index=-1,\n",
      "per_device_eval_batch_size=8,\n",
      "per_device_train_batch_size=16,\n",
      "prediction_loss_only=False,\n",
      "push_to_hub=False,\n",
      "push_to_hub_model_id=None,\n",
      "push_to_hub_organization=None,\n",
      "push_to_hub_token=<PUSH_TO_HUB_TOKEN>,\n",
      "ray_scope=last,\n",
      "remove_unused_columns=True,\n",
      "report_to=[],\n",
      "restore_callback_states_from_checkpoint=False,\n",
      "resume_from_checkpoint=None,\n",
      "run_name=./results,\n",
      "save_on_each_node=False,\n",
      "save_only_model=False,\n",
      "save_safetensors=True,\n",
      "save_steps=500,\n",
      "save_strategy=SaveStrategy.STEPS,\n",
      "save_total_limit=None,\n",
      "seed=42,\n",
      "skip_memory_metrics=True,\n",
      "tf32=None,\n",
      "torch_compile=False,\n",
      "torch_compile_backend=None,\n",
      "torch_compile_mode=None,\n",
      "torch_empty_cache_steps=None,\n",
      "torchdynamo=None,\n",
      "tpu_metrics_debug=False,\n",
      "tpu_num_cores=None,\n",
      "use_cpu=False,\n",
      "use_ipex=False,\n",
      "use_legacy_prediction_loop=False,\n",
      "use_liger_kernel=False,\n",
      "use_mps_device=False,\n",
      "warmup_ratio=0.0,\n",
      "warmup_steps=0,\n",
      "weight_decay=0.0,\n",
      ")\n"
     ]
    }
   ],
   "source": [
    "# Test Training Arguments (can be skipped)\n",
    "args = TrainingArguments(\n",
    "    output_dir=\"./results\",\n",
    "    eval_strategy=\"epoch\",\n",
    "    per_device_train_batch_size=16,\n",
    "    num_train_epochs=3\n",
    ")\n",
    "\n",
    "print(args)"
   ]
  },
  {
   "cell_type": "code",
   "execution_count": 8,
   "id": "3a5420f8",
   "metadata": {},
   "outputs": [
    {
     "name": "stdout",
     "output_type": "stream",
     "text": [
      "Train shape: (24353, 4)\n",
      "Validation shape: (8117, 4)\n",
      "Test shape: (8117, 4)\n",
      "\n",
      "Train columns: ['Unnamed: 0', 'title', 'text', 'label']\n",
      "   Unnamed: 0                                              title  \\\n",
      "0           0  Palestinians switch off Christmas lights in Be...   \n",
      "1           1  China says Trump call with Taiwan president wo...   \n",
      "2           2   FAIL! The Trump Organization’s Credit Score W...   \n",
      "3           3  Zimbabwe military chief's China trip was norma...   \n",
      "4           4  THE MOST UNCOURAGEOUS PRESIDENT EVER Receives ...   \n",
      "\n",
      "                                                text  label  \n",
      "0  RAMALLAH, West Bank  - Palestinians switched o...      1  \n",
      "1  BEIJING  - U.S. President-elect Donald Trump’s...      1  \n",
      "2  While the controversy over Trump s personal ta...      0  \n",
      "3  BEIJING  - A trip to Beijing last week by Zimb...      1  \n",
      "4  There has never been a more UNCOURAGEOUS perso...      0  \n"
     ]
    }
   ],
   "source": [
    "\n",
    "# Data Paths\n",
    "train_path = \"../../data/GonzaloA - fake_news/train_without_reuters.csv\"\n",
    "val_path   = \"../../data/GonzaloA - fake_news/evaluation_without_reuters.csv\"\n",
    "test_path  = \"../../data/GonzaloA - fake_news/test_without_reuters.csv\"\n",
    "\n",
    "# Read with semicolon separator\n",
    "df_train = pd.read_csv(train_path, sep=';')\n",
    "df_val   = pd.read_csv(val_path,   sep=';')\n",
    "df_test  = pd.read_csv(test_path,  sep=';')\n",
    "\n",
    "# Quick sanity-check\n",
    "print(\"Train shape:\", df_train.shape)\n",
    "print(\"Validation shape:\", df_val.shape)\n",
    "print(\"Test shape:\", df_test.shape)\n",
    "print()\n",
    "print(\"Train columns:\", df_train.columns.tolist())\n",
    "\n",
    "# first 5 rows of dataset\n",
    "print(df_train.head(5))"
   ]
  },
  {
   "cell_type": "code",
   "execution_count": 9,
   "id": "c10f29a9",
   "metadata": {},
   "outputs": [],
   "source": [
    "\n",
    "# Preprocessing\n",
    "nlp = spacy.load(\"en_core_web_sm\")\n",
    "\n",
    "def preprocess_text(text):\n",
    "    doc = nlp(text)\n",
    "    tokens = [token.lemma_.lower() for token in doc if not token.is_stop and not token.is_punct]\n",
    "    return \" \".join(tokens)"
   ]
  },
  {
   "cell_type": "code",
   "execution_count": 10,
   "id": "a4b4cb8b",
   "metadata": {},
   "outputs": [
    {
     "name": "stdout",
     "output_type": "stream",
     "text": [
      "0                                                                                                                                                                                                                                                                                                                                                                                                                                                                                                                                                                                                                                                                                                                                                                                                                                                                                                                                                                               ramallah west bank   palestinians switch christmas light jesus   traditional birthplace bethlehem wednesday night protest u.s. president donald trump s decision recognize jerusalem israel s capital christmas tree adorn light outside bethlehem s church nativity christian believe jesus bear ramallah burial site palestinian leader yasser arafat plunge darkness   christmas tree switch order mayor today protest trump s decision   say fady ghattas bethlehem s municipal medium officer   say unclear illumination turn main christmas festivity speech washington trump say decide recognize jerusalem israel s capital u.s. embassy city israeli prime minister benjamin netanyahu say trump s   mark beginning new approach israeli palestinian conflict say   historic landmark arabs muslims middle east condemn u.s. decision call incendiary volatile region european union united nations voice alarm possible repercussion chance revive israeli palestinian peacemaking\n",
      "1                                                                                                                                                                                                                                                                                                                                                                                                                                                                                                                                                                                                                                                                                                                                                                                                                                                                                                                                                                                                                                                                                                                                                                                                                                                                                                                                                                                                                                                                                                                                                                                                                                                                                                         beijing   u.s. president elect donald trump taiwan president tsai ing wen petty taiwan change status china china taiwan affairs office say saturday china unswervingly stick position oppose taiwan independence say statement release official xinhua news agency\n",
      "2                                                                                                                                                                                                                                                                                                                                                                                                                                                                                                                                                                                                                                                                                                controversy trump s personal tax return continue business credit rating company nav decide look business   credit publish result website nav actually a+ rating better business bureau oppose trump u. s final rating pull factor affect business credit score discover truly laughable high possible business score 100 trump organization s score 19 nineteen 15 20 s actually drop 18 point put company medium high risk category organization consider highly likely default debt average send payment 17 day late derogatorie delinquent loan turn collection tax lien judgment organization accord nav usually mean business defendant lawsuit require pay damage plaintiff compare clinton foundation score 42 42 isn t great s hell lot well trump organization s.*note clinton foundation 1997 know current form year despite have stellar credit clinton foundation derogatorie make payment time thing laughable consider wonderful businessman trump think s laughable consider trump say know debt well august boast   little debt   relative asset regardless s true fact trump organization s credit score low suggest trump nearly good manage debt claim s nearly good manage business claim credit score hilarious feature image scott olson getty images\n",
      "3    beijing   trip beijing week zimbabwe s military chief   normal military exchange china s foreign ministry say wednesday military southern african nation seize power zimbabwe s military take control target   criminal   president robert mugabe give assurance national television 93 year old leader family   safe sound general constantino chiwenga meet chinese defence minister chang wanquan beijing friday chang express willingness promote relation zimbabwe china s defence ministry say short statement week ministry show picture man wear military uniform shake hand officer country sit opposite hold meeting people s liberation army headquarters beijing ask chiwenga brief china plan seize power chinese foreign ministry spokesman geng shuang say defence ministry release information trip didn t understanding specific reception china   tell visit china time normal military exchange mutually agree china zimbabwe   geng say refer question defence ministry respond request comment   country friendly zimbabwe pay close attention development situation zimbabwe   geng add    maintain peaceful stable development accord fundamental interest zimbabwe regional country common desire international community hope relevant party zimbabwe appropriately handle internal matter   contrast elevated status continent mugabe revile west despot disastrous handling economy willingness resort violence maintain power destroy africa s promising state china zimbabwe close diplomatic economic relationship beijing stand mugabe s government face western economic sanction august zimbabwe s government say chinese company plan invest $ 2 billion revive operation zimbabwe iron steel company zisco cease production 2008 height zimbabwe s economic meltdown year china veto propose western back u.n. resolution impose arm embargo zimbabwe financial travel restriction mugabe 13 official say   complicate ease conflict\n",
      "4                                                                                                                                                                                                                                                                                                                                                                                                                                                                                                                                                                                                                                                          uncourageous person white house barack obama face decision foreign affair back yes s give iran opportunity nuclear capability remember red line syria?when horrible policy didn t work take blame point idiotic decision forget stimulus boondoggle solendra obamacare take responsibility failure like courageous man receive profile courage award beg congress obamacare trash current president .courage meh!we couldn t voice outrage well katie pavlich frickin   guy president barack obama return spotlight sunday accept award political courage john f. kennedy family day house republicans win passage bill dismantle signature health care law democrat public appearance leave office january avoid mention republican successor white house president donald trump criticize previous administration numerous time move undo obama s initiative obama lady michelle obama arrive john f. kennedy presidential library museum dinner ceremony accept annual profile courage award name 1957 pulitzer prize win book kennedy profile u.s. senator risk career take principle unpopular position long line guest way red carpet library event sunday night member kennedy family member congress obama staffer celebrity include late night talk host david letterman david letterman s that?read nyp\n",
      "Name: text, dtype: object\n"
     ]
    }
   ],
   "source": [
    "# Test Preprocessing (can be skipped)\n",
    "df_train_sample = df_train[:5]['text'].astype(str).apply(preprocess_text)\n",
    "\n",
    "with pd.option_context('display.max_colwidth', None):\n",
    "    print(df_train_sample)"
   ]
  },
  {
   "cell_type": "code",
   "execution_count": 11,
   "id": "b493f436",
   "metadata": {},
   "outputs": [
    {
     "name": "stdout",
     "output_type": "stream",
     "text": [
      "0    ramallah west bank   palestinians switch chris...\n",
      "1    beijing   u.s. president elect donald trump ta...\n",
      "2    controversy trump s personal tax return contin...\n",
      "3    beijing   trip beijing week zimbabwe s militar...\n",
      "4    uncourageous person white house barack obama f...\n",
      "Name: text, dtype: object\n"
     ]
    }
   ],
   "source": [
    "\n",
    "# Apply Preprocessing\n",
    "df_train['text'] = df_train['text'].astype(str).apply(preprocess_text)\n",
    "df_test['text'] = df_test['text'].astype(str).apply(preprocess_text)\n",
    "\n",
    "print(df_train['text'].head(5))"
   ]
  },
  {
   "cell_type": "code",
   "execution_count": 12,
   "id": "435dd4eb",
   "metadata": {},
   "outputs": [],
   "source": [
    "\n",
    "# Load Tokenizer\n",
    "tokenizer = DistilBertTokenizerFast.from_pretrained('distilbert-base-uncased')\n",
    "\n",
    "# Tokenizing\n",
    "train_encodings = tokenizer(list(df_train['text']), truncation=True, padding=True)\n",
    "test_encodings = tokenizer(list(df_test['text']), truncation=True, padding=True)"
   ]
  },
  {
   "cell_type": "code",
   "execution_count": null,
   "id": "de7008cd",
   "metadata": {},
   "outputs": [
    {
     "name": "stderr",
     "output_type": "stream",
     "text": [
      "Some weights of DistilBertForSequenceClassification were not initialized from the model checkpoint at distilbert-base-uncased and are newly initialized: ['classifier.bias', 'classifier.weight', 'pre_classifier.bias', 'pre_classifier.weight']\n",
      "You should probably TRAIN this model on a down-stream task to be able to use it for predictions and inference.\n"
     ]
    },
    {
     "data": {
      "text/html": [
       "\n",
       "    <div>\n",
       "      \n",
       "      <progress value='1523' max='1523' style='width:300px; height:20px; vertical-align: middle;'></progress>\n",
       "      [1523/1523 5:23:20, Epoch 1/1]\n",
       "    </div>\n",
       "    <table border=\"1\" class=\"dataframe\">\n",
       "  <thead>\n",
       " <tr style=\"text-align: left;\">\n",
       "      <th>Epoch</th>\n",
       "      <th>Training Loss</th>\n",
       "      <th>Validation Loss</th>\n",
       "      <th>Accuracy</th>\n",
       "      <th>F1</th>\n",
       "    </tr>\n",
       "  </thead>\n",
       "  <tbody>\n",
       "    <tr>\n",
       "      <td>1</td>\n",
       "      <td>0.041600</td>\n",
       "      <td>0.050078</td>\n",
       "      <td>0.984600</td>\n",
       "      <td>0.984606</td>\n",
       "    </tr>\n",
       "  </tbody>\n",
       "</table><p>"
      ],
      "text/plain": [
       "<IPython.core.display.HTML object>"
      ]
     },
     "metadata": {},
     "output_type": "display_data"
    },
    {
     "data": {
      "text/html": [],
      "text/plain": [
       "<IPython.core.display.HTML object>"
      ]
     },
     "metadata": {},
     "output_type": "display_data"
    },
    {
     "name": "stdout",
     "output_type": "stream",
     "text": [
      "              precision    recall  f1-score   support\n",
      "\n",
      "           0       0.98      0.99      0.98      3753\n",
      "           1       0.99      0.98      0.99      4364\n",
      "\n",
      "    accuracy                           0.98      8117\n",
      "   macro avg       0.98      0.98      0.98      8117\n",
      "weighted avg       0.98      0.98      0.98      8117\n",
      "\n"
     ]
    }
   ],
   "source": [
    "\n",
    "# Translate to Huggingface Dataset Format\n",
    "train_dataset = Dataset.from_dict({\n",
    "    'input_ids': train_encodings['input_ids'],\n",
    "    'attention_mask': train_encodings['attention_mask'],\n",
    "    'label': list(df_train['label'])\n",
    "})\n",
    "\n",
    "test_dataset = Dataset.from_dict({\n",
    "    'input_ids': test_encodings['input_ids'],\n",
    "    'attention_mask': test_encodings['attention_mask'],\n",
    "    'label': list(df_test['label'])\n",
    "})\n",
    "\n",
    "# Load Model\n",
    "model = DistilBertForSequenceClassification.from_pretrained('distilbert-base-uncased', num_labels=2)\n",
    "\n",
    "# Training Parameters\n",
    "training_args = TrainingArguments(\n",
    "    output_dir='./results',\n",
    "    eval_strategy=\"epoch\",\n",
    "    save_strategy=\"epoch\",\n",
    "    fp16=True,\n",
    "    per_device_train_batch_size=32,\n",
    "    per_device_eval_batch_size=16,\n",
    "    num_train_epochs=1, #3\n",
    "    weight_decay=0.01,\n",
    "    logging_dir='./logs',\n",
    "    logging_steps=50,\n",
    "    load_best_model_at_end=True,\n",
    "    metric_for_best_model=\"accuracy\"\n",
    ")\n",
    "\n",
    "# Define Metrics\n",
    "def compute_metrics(eval_pred):\n",
    "    logits, labels = eval_pred\n",
    "    preds = torch.argmax(torch.tensor(logits), dim=1)\n",
    "    report = classification_report(labels, preds, output_dict=True)\n",
    "    return {\n",
    "        \"accuracy\": report[\"accuracy\"],\n",
    "        \"f1\": report[\"weighted avg\"][\"f1-score\"]\n",
    "    }\n",
    "\n",
    "# Define Trainer\n",
    "trainer = Trainer(\n",
    "    model=model,\n",
    "    args=training_args,\n",
    "    train_dataset=train_dataset,\n",
    "    eval_dataset=test_dataset,\n",
    "    compute_metrics=compute_metrics\n",
    ")\n",
    "\n",
    "# Start Training\n",
    "trainer.train()\n",
    "\n",
    "# Evaluation\n",
    "predictions = trainer.predict(test_dataset)\n",
    "pred_labels = torch.argmax(torch.tensor(predictions.predictions), dim=1)\n",
    "print(classification_report(df_test['label'], pred_labels))\n"
   ]
  },
  {
   "cell_type": "code",
   "execution_count": 14,
   "id": "e74ca51d",
   "metadata": {},
   "outputs": [
    {
     "data": {
      "text/plain": [
       "('GonzaloA-DistilBert-simple\\\\tokenizer_config.json',\n",
       " 'GonzaloA-DistilBert-simple\\\\special_tokens_map.json',\n",
       " 'GonzaloA-DistilBert-simple\\\\vocab.txt',\n",
       " 'GonzaloA-DistilBert-simple\\\\added_tokens.json',\n",
       " 'GonzaloA-DistilBert-simple\\\\tokenizer.json')"
      ]
     },
     "execution_count": 14,
     "metadata": {},
     "output_type": "execute_result"
    }
   ],
   "source": [
    "model.save_pretrained(\"GonzaloA-DistilBert-simple\")\n",
    "tokenizer.save_pretrained(\"GonzaloA-DistilBert-simple\")"
   ]
  }
 ],
 "metadata": {
  "kernelspec": {
   "display_name": ".venv",
   "language": "python",
   "name": "python3"
  },
  "language_info": {
   "codemirror_mode": {
    "name": "ipython",
    "version": 3
   },
   "file_extension": ".py",
   "mimetype": "text/x-python",
   "name": "python",
   "nbconvert_exporter": "python",
   "pygments_lexer": "ipython3",
   "version": "3.11.0"
  }
 },
 "nbformat": 4,
 "nbformat_minor": 5
}
